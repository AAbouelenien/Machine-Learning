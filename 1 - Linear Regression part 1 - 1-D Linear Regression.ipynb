{
 "cells": [
  {
   "cell_type": "markdown",
   "metadata": {},
   "source": [
    "<h1>Math</h1>"
   ]
  },
  {
   "cell_type": "markdown",
   "metadata": {},
   "source": [
    "We want to get the line that best fits the data \n",
    "\n",
    "Equation of a line : $$ \\hat y_i  = ax_i + b $$\n",
    "\n",
    "Error to minimise : (sum of squared errors) $$E = \\sum_{i=1}^{N} (y_i - \\hat y_i)^2$$\n",
    "\n",
    "Where , $y_i$ is the target (actual value) , $\\hat y_i$ is the prediction \n",
    "\n",
    "Now we want to minimise $E$ so we differentiate !\n",
    "\n",
    "first substitue $ \\hat y_i  = ax_i + b $ into $E$\n",
    "\n",
    "$$E = \\sum_{i=1}^{N}(y_i - (ax_i + b))^2$$\n",
    "\n",
    "remember $y_i$ and $x_i$ are given , they are the data collected/provided , so the variables to minimise wrt $E$ are actually $a$ and $b$ , since we have 2 variables we make use of partial derivatives\n",
    "\n",
    "$$\\frac{\\partial E}{\\partial a} = \\sum_{i=1}^{N} 2(y_i - (ax_i + b))(-x_i)$$\n",
    "\n",
    "Now set to 0 (minimise) :\n",
    "\n",
    "$$\\sum_{i=1}^{N} 2(y_i - (ax_i + b))(-x_i) = 0$$\n",
    "\n",
    "This then becomes : \n",
    "\n",
    "$$- \\sum_{i=1}^{N} y_i x_i + a\\sum_{i=1}^{N}x_i^2 + b \\sum_{i=1}^{N} x_i = 0$$\n",
    "\n",
    "Now , we have 2 unkowns in one equation , we need another equation , so lets differentiate $E$ wrt $b$ and set it to 0 \n",
    "\n",
    "\n",
    "$$\\frac{\\partial E}{\\partial b} = \\sum_{i=1}^{N} 2(y_i - (ax_i + b))(-1) = 0 $$\n",
    "\n",
    "This then becomes :\n",
    "\n",
    "$$ \\sum_{i=1}^{N} y_i - a\\sum_{i=1}^{N} x_i - bN = 0 $$\n",
    "\n",
    "Now we replace the summations withe letters , to make equations easier to solve :\n",
    "\n",
    "$$ C = \\sum_{i=1}^{N} x_i^2 , D =  \\sum_{i=1}^{N} x_i , E =  \\sum_{i=1}^{N} y_i x_i , F =  \\sum_{i=1}^{N} y_i $$\n",
    "\n",
    "After substuting in our 2 equations and re-arranging terms we get :\n",
    "\n",
    "$aC + bD = E$\n",
    "\n",
    "$aD + bN = F$\n",
    "\n",
    "we want now to solve these 2 equations simultaneoulsy to get an expression for $a$ and $b$ , solvong it we get \n",
    "\n",
    "$b = \\frac {ED-FC}{D^2 - NC} , a = \\frac {FD - EN}{D^2 - NC}$\n",
    "\n",
    "Now lets re-substitute for C,D,E,F , we get these monstorous expressions :\n",
    "\n",
    "$$ a = \\frac{ N \\sum_{i=1}^{N} x_i y_i - \\sum_{i=1}^{N} x_i \\sum_{i=1}^{N} y_i }{N \\sum_{i=1}^{N} x_i^2 - (\\sum_{i=1}^{N} x_i)^2 } ,\n",
    "b = \\frac{ \\sum_{i=1}^{N} y_i  \\sum_{i=1}^{N} x_i^2 - \\sum_{i=1}^{N} x_i \\sum_{i=1}^{N} x_i y_i }{N \\sum_{i=1}^{N} x_i^2 - (\\sum_{i=1}^{N} x_i)^2 } $$\n",
    "\n",
    "Now to simplify this we can divide tops & bottoms by $N^2$ , if we have $N \\sum_{i=1}^{N} x_i $ then divining by $N^2$ we get $\\frac{1}{N} \\sum_{i=1}^{N} x_i $ which is the mean value of x , we denote it by $\\bar x$ , if we have $N \\sum_{i=1}^{N} x_i y_i $ we end up with the mean value of xy , denoted $\\bar {xy}$ , note how this is different from $\\bar x \\bar y$ which is the mean of x multiplied by the mean of y\n",
    "\n",
    "Applying changes to $a$ and $b$ we finally yeild :\n",
    "\n",
    "$$ a = \\frac{\\bar {xy} - \\bar x \\bar y}{\\bar {x^2} - \\bar x ^2} , b = \\frac{ \\bar {x^2} \\bar {y} - \\bar x \\, \\bar {xy}}{\\bar {x^2} - \\bar x ^2} $$\n",
    "\n"
   ]
  },
  {
   "cell_type": "markdown",
   "metadata": {},
   "source": [
    "<h1>Code</h1>"
   ]
  },
  {
   "cell_type": "code",
   "execution_count": 1,
   "metadata": {},
   "outputs": [],
   "source": [
    "import numpy as np\n",
    "import matplotlib.pyplot as plt\n",
    "import pandas as pd"
   ]
  },
  {
   "cell_type": "code",
   "execution_count": 2,
   "metadata": {},
   "outputs": [],
   "source": [
    "# reading data\n",
    "data = pd.read_csv('datasets/data_1d.csv',header=None).to_numpy()\n",
    "x,y = data[:,0] , data[:,1]"
   ]
  },
  {
   "cell_type": "code",
   "execution_count": 3,
   "metadata": {},
   "outputs": [],
   "source": [
    "denom = (x**2).mean() - x.mean()**2\n",
    "a = ((x*y).mean() - x.mean()*y.mean()) / denom\n",
    "b = ((x**2).mean()*y.mean() - x.mean()*(x*y).mean()) / denom"
   ]
  },
  {
   "cell_type": "code",
   "execution_count": 4,
   "metadata": {},
   "outputs": [
    {
     "data": {
      "image/png": "[encoded data removed]",
      "text/plain": [
       "<Figure size 432x288 with 1 Axes>"
      ]
     },
     "metadata": {
      "needs_background": "light"
     },
     "output_type": "display_data"
    }
   ],
   "source": [
    "y_hat = a*x + b\n",
    "plt.scatter(x,y,c='g')\n",
    "plt.plot(x,y_hat,c='b')\n",
    "plt.show()"
   ]
  },
  {
   "cell_type": "markdown",
   "metadata": {},
   "source": [
    "<h1>Math</h1>"
   ]
  },
  {
   "cell_type": "markdown",
   "metadata": {},
   "source": [
    "Now we want a score to determine how good our model is , we use the r-squared score :\n",
    "\n",
    "$$ r^2 = 1 - \\frac {SS_{res}}{SS_{tot}} $$\n",
    "\n",
    "$SS_{res}$ (Sum of Squared residual) = $\\sum_{i=1}^{N} (y_i - \\hat y_i)^2 $\n",
    "\n",
    "$SS_{tot}$ (Sum of Squared total) = $\\sum_{i=1}^{N} (y_i - \\bar y)^2 $\n",
    "\n",
    "Once again , $y_i$ are targets , $\\hat y_i$ are predictions , $\\bar y$ is mean of targets \n",
    "\n",
    "For $r^2$ = 1 , $SS_{res}$ = 0 , this means a perfect prediction \n",
    "\n",
    "For $r^2$ = 0 , $SS_{res}$ = $SS_{tot}$ , this means your prediction is as good as the mean of y  (so you actually made nothing)\n",
    "\n",
    "For $r^2$ < 1  , $SS_{res}$ > $SS_{tot}$ , this means your prediction is actually even worse than the mean\n"
   ]
  },
  {
   "cell_type": "markdown",
   "metadata": {},
   "source": [
    "<h1>Code</h1>"
   ]
  },
  {
   "cell_type": "code",
   "execution_count": 5,
   "metadata": {},
   "outputs": [
    {
     "name": "stdout",
     "output_type": "stream",
     "text": [
      "r-squared :  0.9911838202977805\n"
     ]
    }
   ],
   "source": [
    "delta = y - y_hat\n",
    "res = delta @ delta\n",
    "delta = y - y.mean()\n",
    "tot = delta@delta\n",
    "r_2 = 1 - res/tot\n",
    "print('r-squared : ',r_2)"
   ]
  },
  {
   "cell_type": "markdown",
   "metadata": {},
   "source": [
    "<h1>code<h1>"
   ]
  },
  {
   "cell_type": "markdown",
   "metadata": {},
   "source": [
    "As a final excercise we want to proove moore's law \n",
    "\n",
    "Moore's law states that the transistor count on an integrated circuit doubles each year\n",
    "\n",
    "We are provided with transistor count for each year and we want to use linear regression to prove it\n",
    "\n"
   ]
  },
  {
   "cell_type": "code",
   "execution_count": 6,
   "metadata": {},
   "outputs": [],
   "source": [
    "# now we will read data from file\n",
    "# some years come in format like 1970[0] , [0] is some sort if a refernce so we remove [0]\n",
    "# also transistor count has some of those\n",
    "\n",
    "X = []\n",
    "Y = []\n",
    "\n",
    "for line in open('datasets/moore.csv'):\n",
    "    line = line.split('\\t') # file is tab delimited\n",
    "    x = (line[2]) # thats the year number\n",
    "    if '[' in x :\n",
    "        i = x.index('[')\n",
    "        x = x[:i] # take everything before the [\n",
    "    X.append(int(x))\n",
    "    \n",
    "    y = line[1] # thats the transistor count\n",
    "    if '[' in y :\n",
    "        i = y.index('[')\n",
    "        y = y[:i] # take everything before the [\n",
    "    if '~' in y :\n",
    "        i = y.index('~')\n",
    "        y = y[i+1:]\n",
    "        \n",
    "    if 'cca' in y :\n",
    "        i = y.index('a')\n",
    "        y = y[i+1:]\n",
    "    # y comes with , ex: 2,300\n",
    "    y = ''.join(y.split(','))\n",
    "    Y.append(int(y))"
   ]
  },
  {
   "cell_type": "code",
   "execution_count": 7,
   "metadata": {},
   "outputs": [
    {
     "data": {
      "image/png": "[encoded data removed]",
      "text/plain": [
       "<Figure size 432x288 with 1 Axes>"
      ]
     },
     "metadata": {
      "needs_background": "light"
     },
     "output_type": "display_data"
    }
   ],
   "source": [
    "# now lets plot x,y \n",
    "X = np.array(X)\n",
    "Y = np.array(Y)\n",
    "plt.scatter(X,Y)\n",
    "plt.show()"
   ]
  },
  {
   "cell_type": "markdown",
   "metadata": {},
   "source": [
    "The data clearly is not linear\n",
    "\n",
    "but lets try again with $log(y)$"
   ]
  },
  {
   "cell_type": "code",
   "execution_count": 8,
   "metadata": {},
   "outputs": [
    {
     "data": {
      "image/png": "[encoded data removed]",
      "text/plain": [
       "<Figure size 432x288 with 1 Axes>"
      ]
     },
     "metadata": {
      "needs_background": "light"
     },
     "output_type": "display_data"
    }
   ],
   "source": [
    "Y = np.log(Y)\n",
    "plt.scatter(X,Y)\n",
    "plt.show()"
   ]
  },
  {
   "cell_type": "markdown",
   "metadata": {},
   "source": [
    "The data became linear !!!\n",
    "\n",
    "Even if Y is not linear in X , $log(Y)$ is linear in x \n",
    "\n",
    "By using log , we can linearise the relation , and thus use linear regression"
   ]
  },
  {
   "cell_type": "code",
   "execution_count": 9,
   "metadata": {},
   "outputs": [],
   "source": [
    "denom = (X**2).mean() - X.mean()**2\n",
    "a = ((X*Y).mean() - X.mean()*Y.mean()) / denom\n",
    "b = ((X**2).mean()*Y.mean() - X.mean()*(X*Y).mean()) / denom"
   ]
  },
  {
   "cell_type": "code",
   "execution_count": 10,
   "metadata": {},
   "outputs": [
    {
     "data": {
      "image/png": "[encoded data removed]",
      "text/plain": [
       "<Figure size 432x288 with 1 Axes>"
      ]
     },
     "metadata": {
      "needs_background": "light"
     },
     "output_type": "display_data"
    }
   ],
   "source": [
    "Y_hat = a*X+b\n",
    "plt.scatter(X,Y,c='g')\n",
    "plt.plot(X,Y_hat,c='b')\n",
    "plt.show()"
   ]
  },
  {
   "cell_type": "code",
   "execution_count": 11,
   "metadata": {},
   "outputs": [
    {
     "name": "stdout",
     "output_type": "stream",
     "text": [
      "r-squared :  0.9529442852285762\n"
     ]
    }
   ],
   "source": [
    "delta = Y - Y_hat\n",
    "res = delta @ delta\n",
    "delta = Y - Y.mean()\n",
    "tot = delta@delta\n",
    "r_2 = 1 - res/tot\n",
    "print('r-squared : ',r_2)"
   ]
  },
  {
   "cell_type": "markdown",
   "metadata": {},
   "source": [
    "<h1>Math</h1>"
   ]
  },
  {
   "cell_type": "markdown",
   "metadata": {},
   "source": [
    "The High $r^2$ score proves the line fits the data\n",
    "\n",
    "But how does this help in proving moore's law ?\n",
    "\n",
    "$log(tc) = a*year + b$ \n",
    "\n",
    "tc : transisor count which is y , and year is x\n",
    "\n",
    "This follows that :\n",
    "\n",
    "$tc = e^b * e^{a*year}$\n",
    "\n",
    "$2tc = 2 \\, e^b * e^{a*year}$\n",
    "\n",
    "$2tc = e^{ln(2)} \\, e^b * e^{a*year}$\n",
    "\n",
    "$2tc = e^{ln(2)} \\, e^b * e^{a*year}$\n",
    "\n",
    "$2tc = e^b * e^{a*year+ln(2)}$\n",
    "\n",
    "now 2tc is double the amount of transistors , this occurs at some year , year 2 so $2tc = e^b * e^{a*year2} $\n",
    "\n",
    "from this we get :\n",
    "\n",
    "$e^b * e^{a*year2} = e^b * e^{a*year+ln(2)} $\n",
    "\n",
    "And so :\n",
    "\n",
    "$ a*year2 = a*year + ln(2)$\n",
    "\n",
    "$ year2 = year + ln(2)/a$\n",
    "\n",
    "so the time to double = year2 - year = ln(2)/a\n",
    "\n",
    "\n",
    "\n"
   ]
  },
  {
   "cell_type": "code",
   "execution_count": 12,
   "metadata": {},
   "outputs": [
    {
     "name": "stdout",
     "output_type": "stream",
     "text": [
      "time to double:  1.9745331723795398 years\n"
     ]
    }
   ],
   "source": [
    "print('time to double: ', np.log(2)/a , 'years')"
   ]
  },
  {
   "cell_type": "markdown",
   "metadata": {},
   "source": [
    "which is approximately 2 years"
   ]
  }
 ],
 "metadata": {
  "kernelspec": {
   "display_name": "Python 3",
   "language": "python",
   "name": "python3"
  },
  "language_info": {
   "codemirror_mode": {
    "name": "ipython",
    "version": 3
   },
   "file_extension": ".py",
   "mimetype": "text/x-python",
   "name": "python",
   "nbconvert_exporter": "python",
   "pygments_lexer": "ipython3",
   "version": "3.8.2"
  }
 },
 "nbformat": 4,
 "nbformat_minor": 4
}
