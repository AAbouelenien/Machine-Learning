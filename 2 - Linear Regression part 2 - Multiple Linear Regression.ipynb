{
 "cells": [
  {
   "cell_type": "markdown",
   "metadata": {},
   "source": [
    "<h1>Math</h1>"
   ]
  },
  {
   "cell_type": "markdown",
   "metadata": {},
   "source": [
    "This time we have multiple inputs\n",
    "\n",
    "so $x_i$ becomes a vector of multiple variables\n",
    "\n",
    "The dimensionality of x is the size of x , denoted by D\n",
    "\n",
    "our model is :\n",
    "\n",
    "$\\hat y = w^T x + b$\n",
    "\n",
    "w is also of size D\n",
    "\n",
    "we can absorb b into w by appending a 1 to x\n",
    "\n",
    "Rename $b$ to $w_0$ , append $x_0$ which is always 1\n",
    "\n",
    "so all the following are equivalent:\n",
    "\n",
    "$\\hat y = b + w_1 x_1 + ..... + w_D x_D x $\n",
    "\n",
    "$\\hat y = w_0 + w^1 x_1 + ..... + w_D x_D$\n",
    "\n",
    "$\\hat y = w_0 x_0 + w^1 x_1 + ..... + w_D x_D , x_0 = 1$\n",
    "\n",
    "$\\hat y = w^{'T} x'$\n",
    "\n",
    "w' is w with $w_0$ appended \n",
    "\n",
    "$x'$ is our original NXD matrix $x$ after we add $x_0$ , so $x'$ is equivalent to $x$ after adding a column of ones\n",
    "\n",
    "$X$ is an NxD matrix , N : number of samples , D is number of features\n",
    "\n",
    "if we take one sample of x , we get a 1XD feature vector , though in linear algenara the convention is to consider vectors as column vectors and thus a shape DX1\n",
    "\n",
    "if we want 1 sample prediction , going with linear Algebra's  convention we write :\n",
    "\n",
    "$\\hat y_i = w^T x_i$\n",
    "\n",
    "$w^T$ is 1xD , x_i is Dx1 so $y_i$ is 1x1\n",
    "\n",
    "Though in code we have $x_i$ 1xD , so we write it as \n",
    "\n",
    "$\\hat y_i = x_i w$\n",
    "\n",
    "if we want to get all N predictions , in either cases we write :\n",
    "\n",
    "$y_{Nx1} = X_{NxD} \\ w_{Dx1}$\n",
    "\n",
    "Now again , we have the same error , and we want to use calculus to minimise it (if this proof seems hard , feel free to skip to the other proof in the next math section)\n",
    "\n",
    "$$E = \\sum^{N}_{i=1}(y_i - \\hat y_i)^2$$\n",
    "\n",
    "substituting $\\hat y_i$ by $w^T x_i$ we get \n",
    "\n",
    "$$E = \\sum^{N}_{i=1}(y_i - w^T x_i)^2 $$\n",
    "\n",
    "Where are our variables here ?\n",
    "\n",
    "we have D variables which are the elements of w , so we differentiate wrt to element j in w , j goes from 1 to D\n",
    "\n",
    "$$ \\frac {\\partial E} {\\partial j} = \\sum ^ {N} _ {i=1} 2(y_i - w^T x_i) (-\\frac {\\partial (w^T x_i)} {\\partial w_j})$$\n",
    "\n",
    "$$ \\frac {\\partial E} {\\partial j} = \\sum ^ {N} _ {i=1} 2(y_i - w^T x_i) (-x_{ij}) $$\n",
    "\n",
    "i : which sample\n",
    "\n",
    "j : which feature \n",
    "\n",
    "when $w^T x_i$ is expressed in scalar form we get $w_1 x_{i,1} + ..... + w_j x_{i,j} + .... + w_D x_{i,D} $ since we differentiate wrt $w_j$ all terms except for $w_j x_{i,j}$ become 0 , then taking into account  $ x_{i,j}$ is just a scalar we get $ x_{i,j} $   \n",
    "\n",
    "Next we set to  0 \n",
    "\n",
    "$$ \\sum ^ {N} _ {i=1} 2(y_i - w^T x_i) (-x_{ij}) = 0 $$\n",
    "\n",
    "Multiply everything out , then bring -ve term to other side so we get\n",
    "\n",
    "$$ \\sum ^ {N} _ {i=1} y_i (-x_{ij}) - \\sum ^ {N} _ {i=1}  w^T x_i (-x_{ij})   $$\n",
    "\n",
    "$$   \\sum ^ {N} _ {i=1}  w^T x_i x_{ij} = \\sum ^ {N} _ {i=1} y_i x_{ij}   $$\n",
    "\n",
    "we can take $w^T$ out of summation , since summation is over i and w is independant of i\n",
    "\n",
    "$$  w^T \\sum ^ {N} _ {i=1}  x_i x_{ij} = \\sum ^ {N} _ {i=1} y_i x_{ij}   $$\n",
    "\n",
    "Now remembering that $$ a^T b = \\sum ^{N} _{i=1} a_i b_i $$\n",
    "\n",
    "We yeild :\n",
    "\n",
    "$w^T (X^T X_j) = y^T X_j $\n",
    "\n",
    "$X_j$ is column j of X , we need to rememebr now that j goes from 1 to D , meaning that this equation hold true for all values of j from 1 to D , and thus it holds true for all columns of X ,  and thus we can re-write the equation as :\n",
    "\n",
    "$w^T (X^T X) = y^T X $\n",
    "\n",
    "since we want $w$ not $w^T$ we can take the transpose of both sides\n",
    "\n",
    "$[w^T (X^T X)]^T = [y^T X]^T $\n",
    "\n",
    "and we arrive at \n",
    "\n",
    "$(X^T X)w = X^T y$\n",
    "\n",
    "This comes in the form of a standard linear equation $Ax = b$ in which we the solution is $ x = A^{-1} b $\n",
    "\n",
    "so we finally arrive a the solution : \n",
    "\n",
    "$$ w = (X^T X) ^ {-1} X^T y $$\n",
    "\n",
    "in numpy we can solve this using :\n",
    "\n",
    "$np.linalg.solve(X^TX,X^T y)$"
   ]
  },
  {
   "cell_type": "markdown",
   "metadata": {},
   "source": [
    "<h1>Math</h1>\n",
    "\n",
    "Now lets try to prove it in another (simpler) way\n",
    "\n",
    "J : cost/error \n",
    "\n",
    "t : targets , Nx1 matrix \n",
    "\n",
    "y : predictions , Nx1 matrix\n",
    "\n",
    "$$ J = \\sum ^ {N} _ {i=1} (t_i - y_i)^2 $$\n",
    "\n",
    "we can vectorise this as :\n",
    "\n",
    "$$ J = (t - y)^T (t - y)  $$\n",
    "\n",
    "since the dot product is actually multiplication (which does the squaring) followed by addition (which does the summation) , test it to get yourself convinced \n",
    "\n",
    "$ y = Xw $\n",
    "\n",
    "X : NxD matrix\n",
    "w : Dx1 vector\n",
    "\n",
    "now lets expand j , $$ J = (t - y)^T (t - y)  $$\n",
    "\n",
    "(you may use matrix cookbook for reference , http://matrixcookbook.com/ , also in references)\n",
    "\n",
    "$t^T t - t^T y - y^T t + y^T y$\n",
    "\n",
    "substitute $y$ with $Xw$\n",
    "\n",
    "$t^T t - t^T Xw - (Xw)^T t + (Xw)^T (Xw)$\n",
    "\n",
    "This also equals :\n",
    "\n",
    "\n",
    "$t^T t - t^T Xw - w^T X^T t + w^T X^T Xw$\n",
    "\n",
    "now we take the derivative wrt w , rules are in matrix cookbook (2.4.1) :\n",
    "\n",
    "$\\frac {\\partial j} {\\partial w} = - X^T t - X^T t + (X^T X + X^T X ) w  $\n",
    "\n",
    "$\\frac {\\partial j} {\\partial w} = - 2 X^T t  + 2 X^T X  w = 0  $\n",
    "\n",
    "$  X^T X  w  = X^T t    $\n",
    "\n",
    "And we elegentally arrive at the slution :\n",
    "\n",
    "$$ w  =  (X^T X )^{-1} X^T t  $$\n",
    "\n",
    "\n",
    "\n",
    "\n",
    "\n",
    "\n",
    "\n"
   ]
  },
  {
   "cell_type": "markdown",
   "metadata": {},
   "source": [
    "<h1>code</h1>"
   ]
  },
  {
   "cell_type": "code",
   "execution_count": 1,
   "metadata": {},
   "outputs": [],
   "source": [
    "import numpy as np\n",
    "import matplotlib.pyplot as plt\n",
    "import pandas as pd"
   ]
  },
  {
   "cell_type": "code",
   "execution_count": 2,
   "metadata": {},
   "outputs": [
    {
     "data": {
      "text/html": [
       "<div>\n",
       "<style scoped>\n",
       "    .dataframe tbody tr th:only-of-type {\n",
       "        vertical-align: middle;\n",
       "    }\n",
       "\n",
       "    .dataframe tbody tr th {\n",
       "        vertical-align: top;\n",
       "    }\n",
       "\n",
       "    .dataframe thead th {\n",
       "        text-align: right;\n",
       "    }\n",
       "</style>\n",
       "<table border=\"1\" class=\"dataframe\">\n",
       "  <thead>\n",
       "    <tr style=\"text-align: right;\">\n",
       "      <th></th>\n",
       "      <th>0</th>\n",
       "      <th>1</th>\n",
       "      <th>2</th>\n",
       "    </tr>\n",
       "  </thead>\n",
       "  <tbody>\n",
       "    <tr>\n",
       "      <th>0</th>\n",
       "      <td>17.930201</td>\n",
       "      <td>94.520592</td>\n",
       "      <td>320.259530</td>\n",
       "    </tr>\n",
       "    <tr>\n",
       "      <th>1</th>\n",
       "      <td>97.144697</td>\n",
       "      <td>69.593282</td>\n",
       "      <td>404.634472</td>\n",
       "    </tr>\n",
       "    <tr>\n",
       "      <th>2</th>\n",
       "      <td>81.775901</td>\n",
       "      <td>5.737648</td>\n",
       "      <td>181.485108</td>\n",
       "    </tr>\n",
       "    <tr>\n",
       "      <th>3</th>\n",
       "      <td>55.854342</td>\n",
       "      <td>70.325902</td>\n",
       "      <td>321.773638</td>\n",
       "    </tr>\n",
       "    <tr>\n",
       "      <th>4</th>\n",
       "      <td>49.366550</td>\n",
       "      <td>75.114040</td>\n",
       "      <td>322.465486</td>\n",
       "    </tr>\n",
       "  </tbody>\n",
       "</table>\n",
       "</div>"
      ],
      "text/plain": [
       "           0          1           2\n",
       "0  17.930201  94.520592  320.259530\n",
       "1  97.144697  69.593282  404.634472\n",
       "2  81.775901   5.737648  181.485108\n",
       "3  55.854342  70.325902  321.773638\n",
       "4  49.366550  75.114040  322.465486"
      ]
     },
     "execution_count": 2,
     "metadata": {},
     "output_type": "execute_result"
    }
   ],
   "source": [
    "data = pd.read_csv('datasets/data_2d.csv',header = None)\n",
    "data.head()"
   ]
  },
  {
   "cell_type": "code",
   "execution_count": 3,
   "metadata": {},
   "outputs": [],
   "source": [
    "data = data.to_numpy()\n",
    "X = data[:,:-1]\n",
    "ones = np.atleast_2d(np.ones(len(X))).T\n",
    "X = np.hstack((ones,X))\n",
    "Y = data[:,-1]"
   ]
  },
  {
   "cell_type": "code",
   "execution_count": 4,
   "metadata": {},
   "outputs": [],
   "source": [
    "w = np.linalg.solve(X.T@X,X.T@Y)"
   ]
  },
  {
   "cell_type": "code",
   "execution_count": 5,
   "metadata": {},
   "outputs": [
    {
     "name": "stdout",
     "output_type": "stream",
     "text": [
      "r-squared:  0.9980040612475777\n"
     ]
    }
   ],
   "source": [
    "# lets calculate r2\n",
    "Yhat = X@w\n",
    "delta = Y-Yhat\n",
    "res = delta@delta\n",
    "delta = Y-Y.mean()\n",
    "tot = delta@delta\n",
    "r2 = 1- res/tot\n",
    "print(\"r-squared: \",r2)"
   ]
  },
  {
   "cell_type": "markdown",
   "metadata": {},
   "source": [
    "<h1>Math</h1>"
   ]
  },
  {
   "cell_type": "markdown",
   "metadata": {},
   "source": [
    "Now we will try polynomial Regression !\n",
    "\n",
    "Linear Regression means that weight parameters are linear , it says nothing about what x is \n",
    "\n",
    "so for y = $ax^2 + bx+ c$ , we have y linear in a,b,c and so we can use linear regression "
   ]
  },
  {
   "cell_type": "markdown",
   "metadata": {},
   "source": [
    "<h1>code</h1>"
   ]
  },
  {
   "cell_type": "code",
   "execution_count": 6,
   "metadata": {},
   "outputs": [],
   "source": [
    "import numpy as np\n",
    "import matplotlib.pyplot as plt\n",
    "import pandas as pd"
   ]
  },
  {
   "cell_type": "code",
   "execution_count": 7,
   "metadata": {},
   "outputs": [
    {
     "data": {
      "text/html": [
       "<div>\n",
       "<style scoped>\n",
       "    .dataframe tbody tr th:only-of-type {\n",
       "        vertical-align: middle;\n",
       "    }\n",
       "\n",
       "    .dataframe tbody tr th {\n",
       "        vertical-align: top;\n",
       "    }\n",
       "\n",
       "    .dataframe thead th {\n",
       "        text-align: right;\n",
       "    }\n",
       "</style>\n",
       "<table border=\"1\" class=\"dataframe\">\n",
       "  <thead>\n",
       "    <tr style=\"text-align: right;\">\n",
       "      <th></th>\n",
       "      <th>0</th>\n",
       "      <th>1</th>\n",
       "    </tr>\n",
       "  </thead>\n",
       "  <tbody>\n",
       "    <tr>\n",
       "      <th>0</th>\n",
       "      <td>76.700709</td>\n",
       "      <td>663.797276</td>\n",
       "    </tr>\n",
       "    <tr>\n",
       "      <th>1</th>\n",
       "      <td>95.273544</td>\n",
       "      <td>1014.362282</td>\n",
       "    </tr>\n",
       "    <tr>\n",
       "      <th>2</th>\n",
       "      <td>73.095723</td>\n",
       "      <td>618.938827</td>\n",
       "    </tr>\n",
       "    <tr>\n",
       "      <th>3</th>\n",
       "      <td>46.951635</td>\n",
       "      <td>288.012877</td>\n",
       "    </tr>\n",
       "    <tr>\n",
       "      <th>4</th>\n",
       "      <td>33.313748</td>\n",
       "      <td>144.977556</td>\n",
       "    </tr>\n",
       "  </tbody>\n",
       "</table>\n",
       "</div>"
      ],
      "text/plain": [
       "           0            1\n",
       "0  76.700709   663.797276\n",
       "1  95.273544  1014.362282\n",
       "2  73.095723   618.938827\n",
       "3  46.951635   288.012877\n",
       "4  33.313748   144.977556"
      ]
     },
     "execution_count": 7,
     "metadata": {},
     "output_type": "execute_result"
    }
   ],
   "source": [
    "data = pd.read_csv('datasets/data_poly.csv',header = None)\n",
    "data.head()"
   ]
  },
  {
   "cell_type": "code",
   "execution_count": 8,
   "metadata": {},
   "outputs": [
    {
     "data": {
      "image/png": "[encoded data removed]",
      "text/plain": [
       "<Figure size 432x288 with 1 Axes>"
      ]
     },
     "metadata": {
      "needs_background": "light"
     },
     "output_type": "display_data"
    }
   ],
   "source": [
    "data = data.to_numpy()\n",
    "X = data[:,0]\n",
    "Y = data[:,1]\n",
    "plt.scatter(X,Y,c='g')\n",
    "plt.show()"
   ]
  },
  {
   "cell_type": "code",
   "execution_count": 9,
   "metadata": {},
   "outputs": [
    {
     "data": {
      "image/png": "[encoded data removed]",
      "text/plain": [
       "<Figure size 432x288 with 1 Axes>"
      ]
     },
     "metadata": {
      "needs_background": "light"
     },
     "output_type": "display_data"
    }
   ],
   "source": [
    "# clearly y is a quadratic function of x\n",
    "# so we need to solve y = a x^2 + bx + c\n",
    "X = np.atleast_2d(X).T\n",
    "ones = np.atleast_2d(np.ones(len(X))).T\n",
    "X_2 = X**2\n",
    "X = np.hstack((ones,X,X_2))\n",
    "w = np.linalg.solve(X.T@X,X.T@Y)\n",
    "Yhat = X@w\n",
    "plt.scatter(X[:,1],Y,c='g')\n",
    "plt.plot(sorted(X[:,1]),sorted(Yhat),c='b')\n",
    "plt.show()"
   ]
  },
  {
   "cell_type": "markdown",
   "metadata": {},
   "source": [
    "<h1>Code</h1>"
   ]
  },
  {
   "cell_type": "markdown",
   "metadata": {},
   "source": [
    "now we will try an example on some real data for polynomial linear regression\n",
    "\n",
    "Data is about systolic blood pressures for patients\n",
    "\n",
    "for rach patient $(X_1,X_2,X_3)$\n",
    "\n",
    "$X_1$ systolic blood pressure\n",
    "\n",
    "$X_2$ age in years\n",
    "\n",
    "$X_3$ weight in pounds\n",
    "\n",
    "we want to predict systolic blood pressure as a function of age and weight"
   ]
  },
  {
   "cell_type": "code",
   "execution_count": 10,
   "metadata": {},
   "outputs": [],
   "source": [
    "import numpy as np\n",
    "import matplotlib.pyplot as plt\n",
    "import pandas as pd"
   ]
  },
  {
   "cell_type": "code",
   "execution_count": 11,
   "metadata": {},
   "outputs": [
    {
     "name": "stdout",
     "output_type": "stream",
     "text": [
      "*** No CODEPAGE record, no encoding_override: will use 'ascii'\n"
     ]
    },
    {
     "data": {
      "text/html": [
       "<div>\n",
       "<style scoped>\n",
       "    .dataframe tbody tr th:only-of-type {\n",
       "        vertical-align: middle;\n",
       "    }\n",
       "\n",
       "    .dataframe tbody tr th {\n",
       "        vertical-align: top;\n",
       "    }\n",
       "\n",
       "    .dataframe thead th {\n",
       "        text-align: right;\n",
       "    }\n",
       "</style>\n",
       "<table border=\"1\" class=\"dataframe\">\n",
       "  <thead>\n",
       "    <tr style=\"text-align: right;\">\n",
       "      <th></th>\n",
       "      <th>X1</th>\n",
       "      <th>X2</th>\n",
       "      <th>X3</th>\n",
       "    </tr>\n",
       "  </thead>\n",
       "  <tbody>\n",
       "    <tr>\n",
       "      <th>0</th>\n",
       "      <td>132</td>\n",
       "      <td>52</td>\n",
       "      <td>173</td>\n",
       "    </tr>\n",
       "    <tr>\n",
       "      <th>1</th>\n",
       "      <td>143</td>\n",
       "      <td>59</td>\n",
       "      <td>184</td>\n",
       "    </tr>\n",
       "    <tr>\n",
       "      <th>2</th>\n",
       "      <td>153</td>\n",
       "      <td>67</td>\n",
       "      <td>194</td>\n",
       "    </tr>\n",
       "    <tr>\n",
       "      <th>3</th>\n",
       "      <td>162</td>\n",
       "      <td>73</td>\n",
       "      <td>211</td>\n",
       "    </tr>\n",
       "    <tr>\n",
       "      <th>4</th>\n",
       "      <td>154</td>\n",
       "      <td>64</td>\n",
       "      <td>196</td>\n",
       "    </tr>\n",
       "  </tbody>\n",
       "</table>\n",
       "</div>"
      ],
      "text/plain": [
       "    X1  X2   X3\n",
       "0  132  52  173\n",
       "1  143  59  184\n",
       "2  153  67  194\n",
       "3  162  73  211\n",
       "4  154  64  196"
      ]
     },
     "execution_count": 11,
     "metadata": {},
     "output_type": "execute_result"
    }
   ],
   "source": [
    "data = pd.read_excel('datasets/mlr02.xls')\n",
    "data.head()"
   ]
  },
  {
   "cell_type": "code",
   "execution_count": 12,
   "metadata": {},
   "outputs": [],
   "source": [
    "# we take X1 and X2 as inputs and try to predict X3\n",
    "data = data.to_numpy()"
   ]
  },
  {
   "cell_type": "code",
   "execution_count": 13,
   "metadata": {},
   "outputs": [],
   "source": [
    "X2 = data[:,1]\n",
    "X3 = data[:,2]\n",
    "Y = data[:,0]\n",
    "X23 = data[:,1:]"
   ]
  },
  {
   "cell_type": "code",
   "execution_count": 14,
   "metadata": {},
   "outputs": [
    {
     "data": {
      "image/png": "[encoded data removed]",
      "text/plain": [
       "<Figure size 432x288 with 1 Axes>"
      ]
     },
     "metadata": {
      "needs_background": "light"
     },
     "output_type": "display_data"
    }
   ],
   "source": [
    "plt.scatter(X2,Y,label = 'Y agains X2')\n",
    "plt.scatter(X3,Y, label = 'Y against X3')\n",
    "plt.legend()\n",
    "plt.show()"
   ]
  },
  {
   "cell_type": "code",
   "execution_count": 15,
   "metadata": {},
   "outputs": [],
   "source": [
    "def lin_reg(X,Y,plot=True):\n",
    "    if len(X.shape) == 1:\n",
    "        X = np.atleast_2d(X).T # form an NxD matrix\n",
    "        \n",
    "    ones = np.atleast_2d(np.ones(len(X))).T\n",
    "    X = np.hstack((ones,X))\n",
    "    # get weights \n",
    "    w = np.linalg.solve(X.T@X,X.T@Y)\n",
    "    # calculate r^2\n",
    "    Yhat = X@w\n",
    "    delta = Y - Yhat\n",
    "    res = delta@delta\n",
    "    delta = Y - Y.mean()\n",
    "    tot = delta@delta\n",
    "    r2 = 1 - res/tot\n",
    "    print(\"r-squared : \",r2)\n",
    "    if plot:\n",
    "        plt.scatter(X[:,1],Y,c='g')\n",
    "        plt.plot(X[:,1],Yhat,c='b')\n",
    "        plt.show()\n",
    "    print('----------------------------------------------------------')"
   ]
  },
  {
   "cell_type": "code",
   "execution_count": 16,
   "metadata": {},
   "outputs": [
    {
     "name": "stdout",
     "output_type": "stream",
     "text": [
      "r-squared :  0.9578407208147354\n"
     ]
    },
    {
     "data": {
      "image/png": "[encoded data removed]",
      "text/plain": [
       "<Figure size 432x288 with 1 Axes>"
      ]
     },
     "metadata": {
      "needs_background": "light"
     },
     "output_type": "display_data"
    },
    {
     "name": "stdout",
     "output_type": "stream",
     "text": [
      "----------------------------------------------------------\n",
      "r-squared :  0.9419952085293064\n"
     ]
    },
    {
     "data": {
      "image/png": "[encoded data removed]",
      "text/plain": [
       "<Figure size 432x288 with 1 Axes>"
      ]
     },
     "metadata": {
      "needs_background": "light"
     },
     "output_type": "display_data"
    },
    {
     "name": "stdout",
     "output_type": "stream",
     "text": [
      "----------------------------------------------------------\n",
      "r-squared :  0.976847104150209\n",
      "----------------------------------------------------------\n"
     ]
    }
   ],
   "source": [
    "lin_reg(X2,Y)\n",
    "lin_reg(X3,Y)\n",
    "lin_reg(X23,Y,plot=False)"
   ]
  }
 ],
 "metadata": {
  "kernelspec": {
   "display_name": "Python 3",
   "language": "python",
   "name": "python3"
  },
  "language_info": {
   "codemirror_mode": {
    "name": "ipython",
    "version": 3
   },
   "file_extension": ".py",
   "mimetype": "text/x-python",
   "name": "python",
   "nbconvert_exporter": "python",
   "pygments_lexer": "ipython3",
   "version": "3.8.2"
  }
 },
 "nbformat": 4,
 "nbformat_minor": 4
}
