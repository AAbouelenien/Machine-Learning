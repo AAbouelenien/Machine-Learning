{
 "cells": [
  {
   "cell_type": "code",
   "execution_count": 1,
   "metadata": {
    "colab": {},
    "colab_type": "code",
    "id": "OLPC9FU0wX7d"
   },
   "outputs": [],
   "source": [
    "# find MovieLense 20M dataset on kaggle\n",
    "# download rating.csv"
   ]
  },
  {
   "cell_type": "code",
   "execution_count": 3,
   "metadata": {
    "colab": {
     "base_uri": "https://localhost:8080/",
     "height": 34
    },
    "colab_type": "code",
    "id": "ZXzIQRlTwBNP",
    "outputId": "860f974b-2229-48cb-a08f-67d5a6e7d325"
   },
   "outputs": [],
   "source": [
    "import pickle\n",
    "import numpy as np\n",
    "import pandas as pd\n",
    "import matplotlib.pyplot as plt\n",
    "from sklearn.utils import shuffle\n",
    "from scipy.sparse import lil_matrix , csr_matrix , save_npz , load_npz\n",
    "from tensorflow.keras.models import Model\n",
    "from tensorflow.keras.layers import Input, Embedding, Dot, Add, Flatten, Dense, Concatenate\n",
    "from tensorflow.keras.layers import Dropout, BatchNormalization, Activation\n",
    "from tensorflow.keras.regularizers import l2\n",
    "from tensorflow.keras.optimizers import SGD, Adam\n",
    "import tensorflow.keras.backend as K\n",
    "\n"
   ]
  },
  {
   "cell_type": "markdown",
   "metadata": {
    "colab_type": "text",
    "id": "Xy1JbuxawBNS"
   },
   "source": [
    "<h2>Preprocessing<h2>"
   ]
  },
  {
   "cell_type": "code",
   "execution_count": null,
   "metadata": {
    "colab": {},
    "colab_type": "code",
    "id": "1hfsOvHbwBNS"
   },
   "outputs": [],
   "source": [
    "df = pd.read_csv('rating.csv')"
   ]
  },
  {
   "cell_type": "code",
   "execution_count": null,
   "metadata": {
    "colab": {
     "base_uri": "https://localhost:8080/",
     "height": 142
    },
    "colab_type": "code",
    "id": "D27t_ERNwBNV",
    "outputId": "41edce33-6897-4159-e445-94684de11b43"
   },
   "outputs": [
    {
     "data": {
      "text/html": [
       "<div>\n",
       "<style scoped>\n",
       "    .dataframe tbody tr th:only-of-type {\n",
       "        vertical-align: middle;\n",
       "    }\n",
       "\n",
       "    .dataframe tbody tr th {\n",
       "        vertical-align: top;\n",
       "    }\n",
       "\n",
       "    .dataframe thead th {\n",
       "        text-align: right;\n",
       "    }\n",
       "</style>\n",
       "<table border=\"1\" class=\"dataframe\">\n",
       "  <thead>\n",
       "    <tr style=\"text-align: right;\">\n",
       "      <th></th>\n",
       "      <th>userId</th>\n",
       "      <th>movieId</th>\n",
       "      <th>rating</th>\n",
       "      <th>timestamp</th>\n",
       "    </tr>\n",
       "  </thead>\n",
       "  <tbody>\n",
       "    <tr>\n",
       "      <th>0</th>\n",
       "      <td>1</td>\n",
       "      <td>2</td>\n",
       "      <td>3.5</td>\n",
       "      <td>2005-04-02 23:53:47</td>\n",
       "    </tr>\n",
       "    <tr>\n",
       "      <th>1</th>\n",
       "      <td>1</td>\n",
       "      <td>29</td>\n",
       "      <td>3.5</td>\n",
       "      <td>2005-04-02 23:31:16</td>\n",
       "    </tr>\n",
       "    <tr>\n",
       "      <th>2</th>\n",
       "      <td>1</td>\n",
       "      <td>32</td>\n",
       "      <td>3.5</td>\n",
       "      <td>2005-04-02 23:33:39</td>\n",
       "    </tr>\n",
       "  </tbody>\n",
       "</table>\n",
       "</div>"
      ],
      "text/plain": [
       "   userId  movieId  rating            timestamp\n",
       "0       1        2     3.5  2005-04-02 23:53:47\n",
       "1       1       29     3.5  2005-04-02 23:31:16\n",
       "2       1       32     3.5  2005-04-02 23:33:39"
      ]
     },
     "execution_count": 6,
     "metadata": {
      "tags": []
     },
     "output_type": "execute_result"
    }
   ],
   "source": [
    "df.head(3)"
   ]
  },
  {
   "cell_type": "code",
   "execution_count": null,
   "metadata": {
    "colab": {},
    "colab_type": "code",
    "id": "SK-WN2DfwBNY"
   },
   "outputs": [],
   "source": [
    "# IDs from 1 , we need to get them to start from 0\n",
    "# thankfully no missing number in between\n",
    "df.userId -= 1 "
   ]
  },
  {
   "cell_type": "code",
   "execution_count": null,
   "metadata": {
    "colab": {},
    "colab_type": "code",
    "id": "Iqf_YGmgwBNb"
   },
   "outputs": [],
   "source": [
    "# movie ids from 1 with missing number in between\n",
    "# make user id go from 0 - N-1 ,\n",
    "# not all movies have ids\n",
    "# this takes some time\n",
    "movie_ids = set(df.movieId.values)\n",
    "movie2idx = {k:v for v,k in enumerate(movie_ids)}\n",
    "df['movie_idx'] = df.apply(lambda row: movie2idx[row.movieId] , axis = 1)\n"
   ]
  },
  {
   "cell_type": "code",
   "execution_count": null,
   "metadata": {
    "colab": {},
    "colab_type": "code",
    "id": "b5SaozaQwBNf"
   },
   "outputs": [],
   "source": [
    "# drop unecessary timestamp col\n",
    "df = df.drop(columns=['timestamp'])"
   ]
  },
  {
   "cell_type": "code",
   "execution_count": null,
   "metadata": {
    "colab": {},
    "colab_type": "code",
    "id": "vTyfnyR5wBNi"
   },
   "outputs": [],
   "source": [
    "# since that took some time lets save\n",
    "df.to_csv('rating_1.csv')"
   ]
  },
  {
   "cell_type": "markdown",
   "metadata": {
    "colab_type": "text",
    "id": "Sq22Mk79NS_A"
   },
   "source": [
    "<h2>to sparse matrix</h2>"
   ]
  },
  {
   "cell_type": "code",
   "execution_count": 50,
   "metadata": {
    "colab": {},
    "colab_type": "code",
    "id": "5xyYrcSowBNl"
   },
   "outputs": [],
   "source": [
    "df = pd.read_csv('rating_1.csv')"
   ]
  },
  {
   "cell_type": "code",
   "execution_count": 58,
   "metadata": {
    "colab": {},
    "colab_type": "code",
    "id": "vEdB8t3OkOjp"
   },
   "outputs": [],
   "source": [
    "N = df.userId.max() + 1\n",
    "M = df.movie_idx.max() + 1\n",
    "\n",
    "df = shuffle(df)\n",
    "cutoff = int(0.8*len(df))\n",
    "df_train = df.iloc[:cutoff]\n",
    "df_test = df.iloc[cutoff:]"
   ]
  },
  {
   "cell_type": "code",
   "execution_count": 60,
   "metadata": {
    "colab": {
     "base_uri": "https://localhost:8080/",
     "height": 1000
    },
    "colab_type": "code",
    "id": "B1izK1frNtYR",
    "outputId": "47983dfc-09ac-4a49-8adc-fe34c682750d"
   },
   "outputs": [
    {
     "name": "stdout",
     "output_type": "stream",
     "text": [
      "processed 0.006 %\n",
      "processed 0.012 %\n",
      "processed 0.019 %\n",
      "processed 0.025 %\n",
      "processed 0.031 %\n",
      "processed 0.037 %\n",
      "processed 0.044 %\n",
      "processed 0.050 %\n",
      "processed 0.056 %\n",
      "processed 0.062 %\n",
      "processed 0.069 %\n",
      "processed 0.075 %\n",
      "processed 0.081 %\n",
      "processed 0.087 %\n",
      "processed 0.094 %\n",
      "processed 0.100 %\n",
      "processed 0.106 %\n",
      "processed 0.112 %\n",
      "processed 0.119 %\n",
      "processed 0.125 %\n",
      "processed 0.131 %\n",
      "processed 0.137 %\n",
      "processed 0.144 %\n",
      "processed 0.150 %\n",
      "processed 0.156 %\n",
      "processed 0.162 %\n",
      "processed 0.169 %\n",
      "processed 0.175 %\n",
      "processed 0.181 %\n",
      "processed 0.187 %\n",
      "processed 0.194 %\n",
      "processed 0.200 %\n",
      "processed 0.206 %\n",
      "processed 0.212 %\n",
      "processed 0.219 %\n",
      "processed 0.225 %\n",
      "processed 0.231 %\n",
      "processed 0.237 %\n",
      "processed 0.244 %\n",
      "processed 0.250 %\n",
      "processed 0.256 %\n",
      "processed 0.262 %\n",
      "processed 0.269 %\n",
      "processed 0.275 %\n",
      "processed 0.281 %\n",
      "processed 0.287 %\n",
      "processed 0.294 %\n",
      "processed 0.300 %\n",
      "processed 0.306 %\n",
      "processed 0.312 %\n",
      "processed 0.319 %\n",
      "processed 0.325 %\n",
      "processed 0.331 %\n",
      "processed 0.337 %\n",
      "processed 0.344 %\n",
      "processed 0.350 %\n",
      "processed 0.356 %\n",
      "processed 0.362 %\n",
      "processed 0.369 %\n",
      "processed 0.375 %\n",
      "processed 0.381 %\n",
      "processed 0.387 %\n",
      "processed 0.394 %\n",
      "processed 0.400 %\n",
      "processed 0.406 %\n",
      "processed 0.412 %\n",
      "processed 0.419 %\n",
      "processed 0.425 %\n",
      "processed 0.431 %\n",
      "processed 0.437 %\n",
      "processed 0.444 %\n",
      "processed 0.450 %\n",
      "processed 0.456 %\n",
      "processed 0.462 %\n",
      "processed 0.469 %\n",
      "processed 0.475 %\n",
      "processed 0.481 %\n",
      "processed 0.487 %\n",
      "processed 0.494 %\n",
      "processed 0.500 %\n",
      "processed 0.506 %\n",
      "processed 0.512 %\n",
      "processed 0.519 %\n",
      "processed 0.525 %\n",
      "processed 0.531 %\n",
      "processed 0.537 %\n",
      "processed 0.544 %\n",
      "processed 0.550 %\n",
      "processed 0.556 %\n",
      "processed 0.562 %\n",
      "processed 0.569 %\n",
      "processed 0.575 %\n",
      "processed 0.581 %\n",
      "processed 0.587 %\n",
      "processed 0.594 %\n",
      "processed 0.600 %\n",
      "processed 0.606 %\n",
      "processed 0.612 %\n",
      "processed 0.619 %\n",
      "processed 0.625 %\n",
      "processed 0.631 %\n",
      "processed 0.637 %\n",
      "processed 0.644 %\n",
      "processed 0.650 %\n",
      "processed 0.656 %\n",
      "processed 0.662 %\n",
      "processed 0.669 %\n",
      "processed 0.675 %\n",
      "processed 0.681 %\n",
      "processed 0.687 %\n",
      "processed 0.694 %\n",
      "processed 0.700 %\n",
      "processed 0.706 %\n",
      "processed 0.712 %\n",
      "processed 0.719 %\n",
      "processed 0.725 %\n",
      "processed 0.731 %\n",
      "processed 0.737 %\n",
      "processed 0.744 %\n",
      "processed 0.750 %\n",
      "processed 0.756 %\n",
      "processed 0.762 %\n",
      "processed 0.769 %\n",
      "processed 0.775 %\n",
      "processed 0.781 %\n",
      "processed 0.787 %\n",
      "processed 0.794 %\n",
      "processed 0.800 %\n",
      "processed 0.806 %\n",
      "processed 0.812 %\n",
      "processed 0.819 %\n",
      "processed 0.825 %\n",
      "processed 0.831 %\n",
      "processed 0.837 %\n",
      "processed 0.844 %\n",
      "processed 0.850 %\n",
      "processed 0.856 %\n",
      "processed 0.862 %\n",
      "processed 0.869 %\n",
      "processed 0.875 %\n",
      "processed 0.881 %\n",
      "processed 0.887 %\n",
      "processed 0.894 %\n",
      "processed 0.900 %\n",
      "processed 0.906 %\n",
      "processed 0.912 %\n",
      "processed 0.919 %\n",
      "processed 0.925 %\n",
      "processed 0.931 %\n",
      "processed 0.937 %\n",
      "processed 0.944 %\n",
      "processed 0.950 %\n",
      "processed 0.956 %\n",
      "processed 0.962 %\n",
      "processed 0.969 %\n",
      "processed 0.975 %\n",
      "processed 0.981 %\n",
      "processed 0.987 %\n",
      "processed 0.994 %\n",
      "processed 1.000 %\n"
     ]
    },
    {
     "data": {
      "text/plain": [
       "8865754     None\n",
       "13013959    None\n",
       "10923187    None\n",
       "9580520     None\n",
       "15561425    None\n",
       "            ... \n",
       "3538584     None\n",
       "17995881    None\n",
       "4553591     None\n",
       "15304217    None\n",
       "12271739    None\n",
       "Length: 16000210, dtype: object"
      ]
     },
     "execution_count": 60,
     "metadata": {
      "tags": []
     },
     "output_type": "execute_result"
    }
   ],
   "source": [
    "A = lil_matrix((N,M))\n",
    "count = 0\n",
    "\n",
    "def update_train(row): # populate A\n",
    "  global count\n",
    "  count+=1\n",
    "  if count % 100000 == 0:\n",
    "    print('processed %.3f ' %(float(count)/cutoff))\n",
    "  i = int(row.userId)\n",
    "  j = int(row.movie_idx)\n",
    "  A[i,j] = row.rating\n",
    "\n",
    "df_train.apply(update_train,axis = 1)"
   ]
  },
  {
   "cell_type": "code",
   "execution_count": 61,
   "metadata": {
    "colab": {},
    "colab_type": "code",
    "id": "bjMtck1uOpji"
   },
   "outputs": [],
   "source": [
    "A = A.tocsr() # csr format is better for saving\n",
    "save_npz('Atrain.npz',A)"
   ]
  },
  {
   "cell_type": "code",
   "execution_count": 64,
   "metadata": {
    "colab": {
     "base_uri": "https://localhost:8080/",
     "height": 901
    },
    "colab_type": "code",
    "id": "539XRYXWRTPQ",
    "outputId": "db23a2f5-881e-4d29-86ec-a2b3e6fabd55"
   },
   "outputs": [
    {
     "name": "stdout",
     "output_type": "stream",
     "text": [
      "processed 0.025 \n",
      "processed 0.050 \n",
      "processed 0.075 \n",
      "processed 0.100 \n",
      "processed 0.125 \n",
      "processed 0.150 \n",
      "processed 0.175 \n",
      "processed 0.200 \n",
      "processed 0.225 \n",
      "processed 0.250 \n",
      "processed 0.275 \n",
      "processed 0.300 \n",
      "processed 0.325 \n",
      "processed 0.350 \n",
      "processed 0.375 \n",
      "processed 0.400 \n",
      "processed 0.425 \n",
      "processed 0.450 \n",
      "processed 0.475 \n",
      "processed 0.500 \n",
      "processed 0.525 \n",
      "processed 0.550 \n",
      "processed 0.575 \n",
      "processed 0.600 \n",
      "processed 0.625 \n",
      "processed 0.650 \n",
      "processed 0.675 \n",
      "processed 0.700 \n",
      "processed 0.725 \n",
      "processed 0.750 \n",
      "processed 0.775 \n",
      "processed 0.800 \n",
      "processed 0.825 \n",
      "processed 0.850 \n",
      "processed 0.875 \n",
      "processed 0.900 \n",
      "processed 0.925 \n",
      "processed 0.950 \n",
      "processed 0.975 \n",
      "processed 1.000 \n"
     ]
    },
    {
     "data": {
      "text/plain": [
       "14286169    None\n",
       "2438494     None\n",
       "18884222    None\n",
       "9829131     None\n",
       "9059611     None\n",
       "            ... \n",
       "9686193     None\n",
       "2980963     None\n",
       "13443497    None\n",
       "18391219    None\n",
       "4859194     None\n",
       "Length: 4000053, dtype: object"
      ]
     },
     "execution_count": 64,
     "metadata": {
      "tags": []
     },
     "output_type": "execute_result"
    }
   ],
   "source": [
    "A_test = lil_matrix((N,M))\n",
    "count = 0\n",
    "\n",
    "def update_test(row): # populate A_test\n",
    "  global count\n",
    "  count+=1\n",
    "  if count % 100000 == 0:\n",
    "    print('processed %.3f ' %(float(count)/len(df_test)))\n",
    "  i = int(row.userId)\n",
    "  j = int(row.movie_idx)\n",
    "  A_test[i,j] = row.rating\n",
    "\n",
    "df_test.apply(update_test,axis = 1)"
   ]
  },
  {
   "cell_type": "code",
   "execution_count": 65,
   "metadata": {
    "colab": {},
    "colab_type": "code",
    "id": "J3WIzVbQRdxJ"
   },
   "outputs": [],
   "source": [
    "A_test = A_test.tocsr() \n",
    "save_npz('Atest.npz',A_test)"
   ]
  },
  {
   "cell_type": "markdown",
   "metadata": {
    "colab_type": "text",
    "id": "WugzxOIWSI2u"
   },
   "source": [
    "<h2>Autorec</h2>"
   ]
  },
  {
   "cell_type": "code",
   "execution_count": 30,
   "metadata": {
    "colab": {},
    "colab_type": "code",
    "id": "64D2s738SNaW"
   },
   "outputs": [],
   "source": [
    "batch_size = 128\n",
    "epochs = 10\n",
    "reg = 1e-4"
   ]
  },
  {
   "cell_type": "code",
   "execution_count": 31,
   "metadata": {
    "colab": {},
    "colab_type": "code",
    "id": "VYOrGK86Wr5n"
   },
   "outputs": [],
   "source": [
    "A = load_npz('Atrain.npz')\n",
    "A_test = load_npz('Atest.npz')"
   ]
  },
  {
   "cell_type": "code",
   "execution_count": 32,
   "metadata": {
    "colab": {},
    "colab_type": "code",
    "id": "WU7M-VW1WuPR"
   },
   "outputs": [],
   "source": [
    "# we need mask so unknown ratings' loss are not included in total loss\n",
    "mask = (A>0) * 1.0 # turn from T/F to 1/0 , all rating are between 0.5 and 5\n",
    "mask_test = (A_test > 0) * 1.0"
   ]
  },
  {
   "cell_type": "code",
   "execution_count": 33,
   "metadata": {
    "colab": {},
    "colab_type": "code",
    "id": "af9OymqzXJQM"
   },
   "outputs": [],
   "source": [
    "# make copies since we will shuffle train data in generator\n",
    "# both matricies A and A_test are (N,D) , its important that each user occupies same row in both matriceies\n",
    "# so take copies to use during test time\n",
    "\n",
    "A_copy = A.copy()\n",
    "mask_copy = mask.copy()\n",
    "A_test_copy = A_test.copy()\n",
    "mask_test_copy = mask_test.copy()\n",
    " "
   ]
  },
  {
   "cell_type": "code",
   "execution_count": 34,
   "metadata": {
    "colab": {},
    "colab_type": "code",
    "id": "xMlDyj7fZHZu"
   },
   "outputs": [],
   "source": [
    "mu = A.sum() / mask.sum() # get mean of known ratings"
   ]
  },
  {
   "cell_type": "code",
   "execution_count": 35,
   "metadata": {
    "colab": {
     "base_uri": "https://localhost:8080/",
     "height": 34
    },
    "colab_type": "code",
    "id": "h9MGDEd3dKKo",
    "outputId": "b09cd036-b1a3-47a5-8b72-dc1511f6de51"
   },
   "outputs": [
    {
     "name": "stdout",
     "output_type": "stream",
     "text": [
      "3.5258639417857642\n"
     ]
    }
   ],
   "source": [
    "print(mu)"
   ]
  },
  {
   "cell_type": "code",
   "execution_count": 36,
   "metadata": {
    "colab": {},
    "colab_type": "code",
    "id": "EXbxDCYBhlpH"
   },
   "outputs": [],
   "source": [
    "N,M = A.shape"
   ]
  },
  {
   "cell_type": "code",
   "execution_count": 37,
   "metadata": {
    "colab": {},
    "colab_type": "code",
    "id": "rbNfV7O8ZO0K"
   },
   "outputs": [],
   "source": [
    "# model\n",
    "i = Input(shape=(M,))\n",
    "x = Dropout(0.7)(i) # teach NN to predict missing rating not just construct new ones\n",
    "x = Dense(700,activation='tanh',kernel_regularizer = l2(reg))(x)\n",
    "x = Dense(M,kernel_regularizer = l2(reg))(x)"
   ]
  },
  {
   "cell_type": "code",
   "execution_count": 38,
   "metadata": {
    "colab": {},
    "colab_type": "code",
    "id": "Km8hNK6mZ8L3"
   },
   "outputs": [],
   "source": [
    "def custom_loss(y_true,y_pred): # keras' mse takes into account unknown ratings , so we need to make our own\n",
    "  mask = K.not_equal(y_true,0)\n",
    "  mask = K.cast(mask,dtype='float32')\n",
    "  diff = y_pred -  y_true\n",
    "  sqdiff = diff*diff*mask # get loses for only know ratings\n",
    "  sse = K.sum(sqdiff) # safe to over all items since unknows items have ratings 0\n",
    "  n = K.sum(mask) # number of items of known ratings\n",
    "  return sse / n\n"
   ]
  },
  {
   "cell_type": "code",
   "execution_count": 39,
   "metadata": {
    "colab": {},
    "colab_type": "code",
    "id": "r1IwQXkybuDE"
   },
   "outputs": [],
   "source": [
    "def generator(A,M):\n",
    "  while True:\n",
    "    A,M = shuffle(A,M)\n",
    "    for i in range(A.shape[0] // batch_size + 1):\n",
    "      lower = i*batch_size\n",
    "      upper = min(lower+batch_size,A.shape[0]) # last batch may be smaller than batch_size\n",
    "      a = A[lower:upper].toarray() \n",
    "      m = M[lower:upper].toarray() # mask\n",
    "      a = a - mu * m \n",
    "      # luckily mu is not an integer or exactly .5 thus no danger of some rating going to 0 and not included in cost\n",
    "      # also we dont want to subtract mu from unknown rating or else they become - mu and enter into cost , so we multiply by m\n",
    "      yield a,a"
   ]
  },
  {
   "cell_type": "code",
   "execution_count": 40,
   "metadata": {
    "colab": {},
    "colab_type": "code",
    "id": "XjM5u1oAdjOu"
   },
   "outputs": [],
   "source": [
    "# we want auto enc to predict test data from train data\n",
    "# if we pass in the test data that would be cheating since model will just output the input\n",
    "def test_generator(A,M,A_test,M_test): \n",
    "  while True:\n",
    "    for i in range(A.shape[0] // batch_size + 1):\n",
    "      lower = i*batch_size\n",
    "      upper = min(lower+batch_size,A.shape[0]) # last batch may be smaller than batch_size\n",
    "      a = A[lower:upper].toarray() \n",
    "      m = M[lower:upper].toarray() # mask\n",
    "      at = A_test[lower:upper].toarray()\n",
    "      mt = M_test[lower:upper].toarray()\n",
    "      a = a - mu * m \n",
    "      at = at - mu * mt\n",
    "      yield a,at"
   ]
  },
  {
   "cell_type": "code",
   "execution_count": 41,
   "metadata": {
    "colab": {},
    "colab_type": "code",
    "id": "p3voMwRDerID"
   },
   "outputs": [],
   "source": [
    "model = Model(i,x)\n",
    "model.compile(loss = custom_loss,optimizer=SGD(lr=0.08,momentum=0.9),metrics=[custom_loss])"
   ]
  },
  {
   "cell_type": "code",
   "execution_count": 42,
   "metadata": {
    "colab": {
     "base_uri": "https://localhost:8080/",
     "height": 51
    },
    "colab_type": "code",
    "id": "GsiTvmxffPTq",
    "outputId": "212ee814-ae8a-4359-d744-407e8ffcdc57"
   },
   "outputs": [
    {
     "name": "stdout",
     "output_type": "stream",
     "text": [
      "Epoch 1/10\n",
      "1082/1082 [==============================] - 288s 266ms/step - loss: 0.9871 - custom_loss: 0.7476 - val_loss: 0.9172 - val_custom_loss: 0.7080\n",
      "Epoch 2/10\n",
      "1082/1082 [==============================] - 289s 267ms/step - loss: 0.8315 - custom_loss: 0.6461 - val_loss: 0.8503 - val_custom_loss: 0.6863\n",
      "Epoch 3/10\n",
      "1082/1082 [==============================] - 296s 274ms/step - loss: 0.7686 - custom_loss: 0.6211 - val_loss: 0.8094 - val_custom_loss: 0.6768\n",
      "Epoch 4/10\n",
      "1082/1082 [==============================] - 363s 336ms/step - loss: 0.7283 - custom_loss: 0.6072 - val_loss: 0.7826 - val_custom_loss: 0.6719\n",
      "Epoch 5/10\n",
      "1082/1082 [==============================] - 304s 281ms/step - loss: 0.7008 - custom_loss: 0.5981 - val_loss: 0.7637 - val_custom_loss: 0.6680\n",
      "Epoch 6/10\n",
      "1082/1082 [==============================] - 305s 282ms/step - loss: 0.6816 - custom_loss: 0.5913 - val_loss: 0.7509 - val_custom_loss: 0.6655\n",
      "Epoch 7/10\n",
      "1082/1082 [==============================] - 296s 274ms/step - loss: 0.6682 - custom_loss: 0.5864 - val_loss: 0.7424 - val_custom_loss: 0.6639\n",
      "Epoch 8/10\n",
      "1082/1082 [==============================] - 285s 263ms/step - loss: 0.6582 - custom_loss: 0.5820 - val_loss: 0.7366 - val_custom_loss: 0.6626\n",
      "Epoch 9/10\n",
      "1082/1082 [==============================] - 290s 268ms/step - loss: 0.6511 - custom_loss: 0.5786 - val_loss: 0.7321 - val_custom_loss: 0.6610\n",
      "Epoch 10/10\n",
      "1082/1082 [==============================] - 294s 272ms/step - loss: 0.6460 - custom_loss: 0.5757 - val_loss: 0.7302 - val_custom_loss: 0.6610\n"
     ]
    }
   ],
   "source": [
    "r = model.fit_generator(\n",
    "    generator(A,mask),\n",
    "    validation_data=test_generator(A_copy,mask_copy,A_test_copy,mask_test_copy),\n",
    "    epochs = epochs,\n",
    "    steps_per_epoch = A.shape[0] // batch_size + 1,\n",
    "    validation_steps = A_test.shape[0] // batch_size +1\n",
    ")\n",
    "# keras reports regularised loss , so loss = mse (which is the custom_loss) _ l2 penatly"
   ]
  },
  {
   "cell_type": "code",
   "execution_count": 43,
   "metadata": {
    "colab": {},
    "colab_type": "code",
    "id": "lNQ7c-VIgMxd"
   },
   "outputs": [
    {
     "data": {
      "image/png": "[encoded data removed]",
      "text/plain": [
       "<Figure size 432x288 with 1 Axes>"
      ]
     },
     "metadata": {
      "needs_background": "light"
     },
     "output_type": "display_data"
    }
   ],
   "source": [
    "# plot losses\n",
    "plt.plot(r.history['loss'], label=\"train loss\")\n",
    "plt.plot(r.history['val_loss'], label=\"test loss\")\n",
    "plt.legend()\n",
    "plt.show()"
   ]
  },
  {
   "cell_type": "code",
   "execution_count": 44,
   "metadata": {
    "colab": {},
    "colab_type": "code",
    "id": "6RVQbGR4h3jQ"
   },
   "outputs": [
    {
     "data": {
      "image/png": "[encoded data removed]",
      "text/plain": [
       "<Figure size 432x288 with 1 Axes>"
      ]
     },
     "metadata": {
      "needs_background": "light"
     },
     "output_type": "display_data"
    }
   ],
   "source": [
    "# plot mse\n",
    "plt.plot(r.history['custom_loss'], label=\"train mse\")\n",
    "plt.plot(r.history['val_custom_loss'], label=\"test mse\")\n",
    "plt.legend()\n",
    "plt.show()"
   ]
  },
  {
   "cell_type": "code",
   "execution_count": null,
   "metadata": {
    "colab": {},
    "colab_type": "code",
    "id": "bJM7yMwei9xC"
   },
   "outputs": [],
   "source": []
  }
 ],
 "metadata": {
  "colab": {
   "collapsed_sections": [],
   "name": "Autorec.ipynb",
   "provenance": []
  },
  "kernelspec": {
   "display_name": "Python 3",
   "language": "python",
   "name": "python3"
  },
  "language_info": {
   "codemirror_mode": {
    "name": "ipython",
    "version": 3
   },
   "file_extension": ".py",
   "mimetype": "text/x-python",
   "name": "python",
   "nbconvert_exporter": "python",
   "pygments_lexer": "ipython3",
   "version": "3.8.2"
  }
 },
 "nbformat": 4,
 "nbformat_minor": 1
}
