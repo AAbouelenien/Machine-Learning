{
 "cells": [
  {
   "cell_type": "markdown",
   "metadata": {},
   "source": [
    "<h1>Math</h1>"
   ]
  },
  {
   "cell_type": "markdown",
   "metadata": {},
   "source": [
    "Lets consider linear classification in its simplest form"
   ]
  },
  {
   "cell_type": "code",
   "execution_count": 24,
   "metadata": {},
   "outputs": [
    {
     "data": {
      "image/png": "[encoded data removed]",
      "text/plain": [
       "<Figure size 432x288 with 1 Axes>"
      ]
     },
     "metadata": {
      "needs_background": "light"
     },
     "output_type": "display_data"
    }
   ],
   "source": [
    "import numpy as np\n",
    "import matplotlib.pyplot as plt \n",
    "\n",
    "N = 10\n",
    "x = np.linspace(-5,5,N)\n",
    "y = x\n",
    "up = y + (np.random.random((N)))*10+2\n",
    "down = y - (np.random.random((N)))*10-2\n",
    "\n",
    "\n",
    "plt.scatter(x,up , label = \"class x\")\n",
    "plt.scatter(x,down , label = \"class o\")\n",
    "plt.plot(x,y)\n",
    "plt.legend()\n",
    "plt.show()"
   ]
  },
  {
   "cell_type": "markdown",
   "metadata": {},
   "source": [
    "we have some points that belong to class 'x' and some points that belong to class 'o' and we would like to seperate them\n",
    "\n",
    "of course what we can seperate them with is a line\n",
    "\n",
    "$y = mx + b$\n",
    "\n",
    "The general form is:\n",
    "\n",
    "$0 = ax + by + c$\n",
    "\n",
    "for the line y = x , a = 1 , b = -1 , c = 0\n",
    "\n",
    "so our line (y=x) is the line $0 = x-y$\n",
    "\n",
    "Now for a point (2,1) , should this be classified as x or o\n",
    "\n",
    "Our line is \n",
    "\n",
    "$h(x) = x-y$\n",
    "\n",
    "$h(2,1) = 1 > 0 \\to 'o'$\n",
    "\n",
    "lets try with another point (1,2)\n",
    "\n",
    "$h(1,2) = -1 < 0 \\to 'x'$\n",
    "\n",
    "points above the line as (2,1) are 'x'\n",
    "\n",
    "points below the line as (1,2) are 'o'\n",
    "\n",
    "what about point (1,1)\n",
    "\n",
    "$h(2,1) =  0 $\n",
    "\n",
    "well for  points which lie on the line like 1,1 , we dont know !!!\n",
    "\n"
   ]
  },
  {
   "cell_type": "code",
   "execution_count": 27,
   "metadata": {},
   "outputs": [
    {
     "data": {
      "image/png": "[encoded data removed]",
      "text/plain": [
       "<Figure size 432x288 with 1 Axes>"
      ]
     },
     "metadata": {
      "needs_background": "light"
     },
     "output_type": "display_data"
    }
   ],
   "source": [
    "plt.scatter(2,1 , label = \"point (2,1) above the line class 'o'\")\n",
    "plt.scatter(1,2 , label = \"point (1,2) below the line class 'x'\")\n",
    "plt.plot(x,y)\n",
    "plt.legend()\n",
    "plt.show()"
   ]
  },
  {
   "cell_type": "markdown",
   "metadata": {},
   "source": [
    "we call each point $(x,y) \\to (x_1,x_2) = x$\n",
    "\n",
    "we rename the constants to $w_i$\n",
    "\n",
    "we call the bias term / ontercept w_0\n",
    "\n",
    "h(x) = w_0 + w_1x_1 + w_2x_2\n",
    "\n",
    "Thus we say h is a linear combination of components of x\n",
    "\n",
    "if we want to vectorise this we create a dummy variable $x_0$ swhich is always equal to  1 then  get :\n",
    "\n",
    "$h(x) = w^Tx$\n",
    "\n",
    "In 3-dimensions we have a plane , in > 3 dimensions we have a hyperplane"
   ]
  },
  {
   "cell_type": "markdown",
   "metadata": {},
   "source": [
    "<h1>Math</h1>"
   ]
  },
  {
   "cell_type": "markdown",
   "metadata": {},
   "source": [
    "We want to know how to obtain the prediction using logistic regression\n",
    "\n",
    "Assume we have 2 dimensional inputs , then \n",
    "\n",
    "$y = w_1x_1 + w_2x_2$\n",
    "\n",
    "after obtaining y , we pass y through a logistic function , these can be\n",
    "\n",
    "Hyperbolic tangent :\n",
    "\n",
    "$tanh(x) \\  \\in \\ (-1,1)$\n",
    "\n",
    "or sgmoid :\n",
    "\n",
    "$\\sigma(z) = \\frac {1} {1+e^{-z}} \\in (0,1)$\n",
    "\n",
    "in both cases y is a value from 0 to 1 , from then we decide the class\n",
    "\n",
    "so our outputs is\n",
    "\n",
    "$\\sigma(w^Tx)$\n",
    "\n",
    "if this values > 0.5 then class 'o' if less than class 'x' of =0.5 then we are on the boundary \n",
    " \n",
    "we usually say anything above 0.5 gives us class 1 and anything else gives us class 0 \n",
    "\n",
    "notice how the only difference between logistic regression and the linear classifier mentioned earlier is the logisitc function we add at the end"
   ]
  },
  {
   "cell_type": "markdown",
   "metadata": {},
   "source": [
    "<h1>code</h1>"
   ]
  },
  {
   "cell_type": "code",
   "execution_count": 48,
   "metadata": {},
   "outputs": [],
   "source": [
    "# we want to see a simple example of the feed-forward process \n",
    "import numpy as np\n",
    "\n",
    "N = 100\n",
    "D = 2\n",
    "# lets create some data\n",
    "X = np.random.randn(N,D)\n",
    "# now we add the colums for the bias term\n",
    "ones = np.atleast_2d(np.ones(N)).T\n",
    "X = np.hstack((ones,X))"
   ]
  },
  {
   "cell_type": "code",
   "execution_count": 52,
   "metadata": {},
   "outputs": [],
   "source": [
    "# D+1 since we add a bias term\n",
    "w = np.random.randn(D+1)\n",
    "z = X.dot(w)"
   ]
  },
  {
   "cell_type": "code",
   "execution_count": 53,
   "metadata": {},
   "outputs": [],
   "source": [
    "def sigmoid(z):\n",
    "    return 1/(1+np.exp(-z))"
   ]
  },
  {
   "cell_type": "code",
   "execution_count": 54,
   "metadata": {},
   "outputs": [
    {
     "name": "stdout",
     "output_type": "stream",
     "text": [
      "[0.57048646 0.62432508 0.87177737 0.810985   0.40492431 0.68944024\n",
      " 0.50208896 0.719525   0.87110022 0.80908985 0.75448827 0.88474687\n",
      " 0.66793336 0.8864108  0.34847176 0.95446097 0.7741574  0.74087443\n",
      " 0.90062781 0.62538938 0.92285911 0.9794434  0.70255358 0.86196442\n",
      " 0.68262612 0.47664767 0.8439977  0.65289225 0.76792441 0.80097955\n",
      " 0.81243133 0.57651154 0.77488469 0.70348409 0.85287407 0.82277536\n",
      " 0.63825463 0.86376278 0.72653231 0.81559695 0.90727502 0.92779403\n",
      " 0.85981624 0.81056823 0.71232492 0.33234592 0.60424757 0.84444591\n",
      " 0.93271472 0.91860564 0.57520252 0.57248332 0.51972013 0.60849299\n",
      " 0.63533446 0.86932069 0.5981368  0.67243701 0.88964126 0.60913365\n",
      " 0.72353474 0.70408764 0.86449208 0.74132711 0.97328204 0.86263753\n",
      " 0.86776379 0.80128582 0.69882242 0.21568428 0.30959215 0.71467853\n",
      " 0.48004684 0.86027545 0.83385308 0.21849579 0.88724865 0.86166305\n",
      " 0.91181687 0.79926008 0.91048271 0.7548906  0.88465899 0.84768046\n",
      " 0.83969685 0.47202148 0.61257937 0.87012196 0.83547874 0.82518428\n",
      " 0.86665543 0.9328982  0.84187794 0.81628516 0.68405709 0.38987869\n",
      " 0.57986213 0.60029789 0.80032716 0.70176141]\n"
     ]
    }
   ],
   "source": [
    "#now we get our output\n",
    "print(sigmoid(z))"
   ]
  },
  {
   "cell_type": "code",
   "execution_count": 55,
   "metadata": {},
   "outputs": [],
   "source": [
    "# as we expected all our values are between 0 and 1"
   ]
  },
  {
   "cell_type": "markdown",
   "metadata": {},
   "source": [
    "<h1>Math</h1>"
   ]
  },
  {
   "cell_type": "markdown",
   "metadata": {},
   "source": [
    "We want to know how to interpret the output of the logistic regression $\\sigma(w^Tx)$\n",
    "\n",
    "Assuming we go with binary classification , where each point belongs to either class 0 or 1 , we say that \n",
    "\n",
    "$p(y = 1 | x) = \\sigma(w^Tx) \\in (0,1)$\n",
    "\n",
    "so our output is the probability that this point belongs to class 1\n",
    "\n",
    "since all probabilities must some up to 1 we can also deduce :\n",
    "\n",
    "$p(y = 0 | x) = 1 - \\sigma(w^Tx) $\n",
    "\n",
    "if we  take 0.5 as the threshold we can say :\n",
    "\n",
    "predict round(p(y=1 | x)) , of course in this case a point with p = 0.5 ends up in class 1\n",
    "\n",
    "its also possible to use thresholds other than 0.5 but not common in deep learning\n",
    "\n",
    "How does this make sense , well:\n",
    "\n",
    "1) as we get further from the line , $|w^Tx|$ gets larger , and so we get closer to 0 or 1\n",
    "\n",
    "2) a point that lies exactly on the line , has $w^Tx = 0$ , $\\sigma(0)$ = 0.5\n",
    "\n",
    "makes sense !!!"
   ]
  },
  {
   "cell_type": "markdown",
   "metadata": {},
   "source": [
    "<h1>code</h1>"
   ]
  },
  {
   "cell_type": "code",
   "execution_count": 58,
   "metadata": {},
   "outputs": [],
   "source": [
    "# now we work on some real data\n",
    "import numpy as np\n",
    "import pandas as pd"
   ]
  },
  {
   "cell_type": "code",
   "execution_count": 60,
   "metadata": {},
   "outputs": [
    {
     "data": {
      "text/html": [
       "<div>\n",
       "<style scoped>\n",
       "    .dataframe tbody tr th:only-of-type {\n",
       "        vertical-align: middle;\n",
       "    }\n",
       "\n",
       "    .dataframe tbody tr th {\n",
       "        vertical-align: top;\n",
       "    }\n",
       "\n",
       "    .dataframe thead th {\n",
       "        text-align: right;\n",
       "    }\n",
       "</style>\n",
       "<table border=\"1\" class=\"dataframe\">\n",
       "  <thead>\n",
       "    <tr style=\"text-align: right;\">\n",
       "      <th></th>\n",
       "      <th>is_mobile</th>\n",
       "      <th>n_products_viewed</th>\n",
       "      <th>visit_duration</th>\n",
       "      <th>is_returning_visitor</th>\n",
       "      <th>time_of_day</th>\n",
       "      <th>user_action</th>\n",
       "    </tr>\n",
       "  </thead>\n",
       "  <tbody>\n",
       "    <tr>\n",
       "      <th>0</th>\n",
       "      <td>1</td>\n",
       "      <td>0</td>\n",
       "      <td>0.657510</td>\n",
       "      <td>0</td>\n",
       "      <td>3</td>\n",
       "      <td>0</td>\n",
       "    </tr>\n",
       "    <tr>\n",
       "      <th>1</th>\n",
       "      <td>1</td>\n",
       "      <td>1</td>\n",
       "      <td>0.568571</td>\n",
       "      <td>0</td>\n",
       "      <td>2</td>\n",
       "      <td>1</td>\n",
       "    </tr>\n",
       "    <tr>\n",
       "      <th>2</th>\n",
       "      <td>1</td>\n",
       "      <td>0</td>\n",
       "      <td>0.042246</td>\n",
       "      <td>1</td>\n",
       "      <td>1</td>\n",
       "      <td>0</td>\n",
       "    </tr>\n",
       "    <tr>\n",
       "      <th>3</th>\n",
       "      <td>1</td>\n",
       "      <td>1</td>\n",
       "      <td>1.659793</td>\n",
       "      <td>1</td>\n",
       "      <td>1</td>\n",
       "      <td>2</td>\n",
       "    </tr>\n",
       "    <tr>\n",
       "      <th>4</th>\n",
       "      <td>0</td>\n",
       "      <td>1</td>\n",
       "      <td>2.014745</td>\n",
       "      <td>1</td>\n",
       "      <td>1</td>\n",
       "      <td>2</td>\n",
       "    </tr>\n",
       "  </tbody>\n",
       "</table>\n",
       "</div>"
      ],
      "text/plain": [
       "   is_mobile  n_products_viewed  visit_duration  is_returning_visitor  \\\n",
       "0          1                  0        0.657510                     0   \n",
       "1          1                  1        0.568571                     0   \n",
       "2          1                  0        0.042246                     1   \n",
       "3          1                  1        1.659793                     1   \n",
       "4          0                  1        2.014745                     1   \n",
       "\n",
       "   time_of_day  user_action  \n",
       "0            3            0  \n",
       "1            2            1  \n",
       "2            1            0  \n",
       "3            1            2  \n",
       "4            1            2  "
      ]
     },
     "execution_count": 60,
     "metadata": {},
     "output_type": "execute_result"
    }
   ],
   "source": [
    "df = pd.read_csv('datasets/ecommerce_data.csv')\n",
    "df.head()"
   ]
  },
  {
   "cell_type": "code",
   "execution_count": 116,
   "metadata": {},
   "outputs": [],
   "source": [
    "data = df.to_numpy()\n",
    "X = data[:,:-1]\n",
    "Y = data[:,-1]\n",
    "\n",
    "N,D = X.shape\n",
    "# now normalise numeric columns  , n_products_viewed and visit duration\n",
    "X[:,1] = (X[:,1] - X[:,1].mean()) / X[:,1].std()\n",
    "X[:,2] = (X[:,2] - X[:,2].mean()) / X[:,2].std()"
   ]
  },
  {
   "cell_type": "code",
   "execution_count": 129,
   "metadata": {},
   "outputs": [],
   "source": [
    "# now one of the columns is time_of day\n",
    "# the time of day is categorised into 4 categories\n",
    "# 0,1,2,3 each spanning 6 hours of the day\n",
    "# since this is a categorical variable we want to one hot encode it\n",
    "# there are other categorical variables, but these are binary ones, and so we can let the effect of the other category be absorbed into the bias term\n",
    "# so we need to add another 4 one hot encoded columns\n",
    "\n",
    "for i in range(4):\n",
    "    col = np.zeros(N)\n",
    "    col[X[:,4] == i] = 1 \n",
    "    X = np.hstack((X,np.atleast_2d(col).T))\n",
    "\n",
    "# then we delete the original column\n",
    "X = np.delete(X,4,1)"
   ]
  },
  {
   "cell_type": "code",
   "execution_count": 135,
   "metadata": {},
   "outputs": [],
   "source": [
    "# for now we will work on binary classification\n",
    "# so we will take only samples where Y = 0 or Y = 1\n",
    "X = X[Y<=1]\n",
    "Y = Y[Y<=1]"
   ]
  },
  {
   "cell_type": "code",
   "execution_count": 145,
   "metadata": {},
   "outputs": [],
   "source": [
    "N,D = X.shape\n",
    "W = np.random.randn(D)\n",
    "# we use a bias term , equivalenty we could have had X with one more column of 1s and W to be D+1\n",
    "b = 0 "
   ]
  },
  {
   "cell_type": "code",
   "execution_count": 146,
   "metadata": {},
   "outputs": [],
   "source": [
    "def sigmoid(a):\n",
    "    return 1/(1+np.exp(-a))\n",
    "\n",
    "def forward(X,W,b):\n",
    "    return sigmoid(X@W + b)"
   ]
  },
  {
   "cell_type": "code",
   "execution_count": 147,
   "metadata": {},
   "outputs": [],
   "source": [
    "P_Y_given_X = forward(X,W,b)\n",
    "predictions = np.round(P_Y_given_X)"
   ]
  },
  {
   "cell_type": "code",
   "execution_count": 148,
   "metadata": {},
   "outputs": [],
   "source": [
    "def classification_rate(Y,P):\n",
    "    return np.mean(Y==P) "
   ]
  },
  {
   "cell_type": "code",
   "execution_count": 149,
   "metadata": {},
   "outputs": [
    {
     "name": "stdout",
     "output_type": "stream",
     "text": [
      "Score 0.5251256281407035\n"
     ]
    }
   ],
   "source": [
    "print(\"Score\",classification_rate(Y,predictions))"
   ]
  },
  {
   "cell_type": "code",
   "execution_count": 150,
   "metadata": {},
   "outputs": [],
   "source": [
    "# The random weights got us a low score\n",
    "# what we want to do next is train these weights to get a higher score\n",
    "# note that scores may vary widely for each run of this code since we work with randomly set weights"
   ]
  }
 ],
 "metadata": {
  "kernelspec": {
   "display_name": "Python 3",
   "language": "python",
   "name": "python3"
  },
  "language_info": {
   "codemirror_mode": {
    "name": "ipython",
    "version": 3
   },
   "file_extension": ".py",
   "mimetype": "text/x-python",
   "name": "python",
   "nbconvert_exporter": "python",
   "pygments_lexer": "ipython3",
   "version": "3.8.2"
  }
 },
 "nbformat": 4,
 "nbformat_minor": 4
}
