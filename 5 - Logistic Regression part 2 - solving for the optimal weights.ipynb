{
 "cells": [
  {
   "cell_type": "markdown",
   "metadata": {},
   "source": [
    "<h1>Math</h1>"
   ]
  },
  {
   "cell_type": "markdown",
   "metadata": {},
   "source": [
    "Now we will conisder a speccial case for logisitc regression, one that has a closed form solution\n",
    "\n",
    "Generally we cant find one and we will need to use gradient descenet\n",
    "\n",
    "The problem is this:\n",
    "\n",
    "we have data from 2 classes both are gaussian distributed\n",
    "\n",
    "both have same covariance but different means\n",
    "\n",
    "Here is the multivariate Gaussian PDF :\n",
    "\n",
    "$$p(x) = \\frac {1} {\\sqrt{(2\\pi)^D |\\Sigma|}} e^{- \\frac{1}{2} (x-\\mu)^T\\Sigma^{-1}(x-\\mu)}$$\n",
    "\n",
    "Now lets review Bayes rule :\n",
    "\n",
    "$p(Y|X) = p(X|Y)p(Y)/p(X)$\n",
    "\n",
    "so \n",
    "\n",
    "$p(Y=1|X) = p(X|Y=1)p(Y=1)/p(X)$\n",
    "\n",
    "$p(Y=0|X) = p(X|Y=0)p(Y=0)/p(X)$\n",
    "\n",
    "The likelihood part , $P(X|Y)$ is the gaussian we just mentioned , we calculate this by taking data from each class , getting the mean and covariances\n",
    "\n",
    "The prior ca be the maximum likelihood estimate , so for ex :\n",
    "\n",
    "P(Y=1) = #times class 1 appeared / #total  \n",
    "\n",
    "Next we manipulate the Bayes' Rule :\n",
    "\n",
    "so from :\n",
    "\n",
    "$p(y=1|x) = \\frac{p(x|y=1)p(y=1)}{p(x)}$\n",
    "\n",
    "we get : \n",
    "\n",
    "$$p(y=1|x) = \\frac{p(x|y=1)p(y=1)}{p(x|y=1)p(y=1) + p(x|y=0)p(y=0)}$$\n",
    "\n",
    "Then we divide top and bottom by $p(x|y=1)p(y=1)$\n",
    "\n",
    "$$p(y=1|x) = \\frac {1} {1+\\frac{p(x|y=0)p(y=0)}{p(x|y=1)p(y=1)}}$$\n",
    "\n",
    "Beleive it or not this looks like the logistic regression !!!\n",
    "\n",
    "Lets put them side by side so it becomes clearer :\n",
    "\n",
    "$$p(y=1|x) = \\frac {1} {1+\\frac{p(x|y=0)p(y=0)}{p(x|y=1)p(y=1)}} = \\frac{1}{1+\\exp(-(w^Tx+b))} $$\n",
    "\n",
    "$$-(w^Tx+b) = \\ln \\left( \\frac {p(x|y=0)p(y=0)}{p(x|y=1)(p(y=1)} \\right) $$\n",
    "\n",
    "now let :\n",
    "\n",
    "$p(y=1) = 1- \\alpha \\ , \\ p(y=0) = \\alpha$\n",
    "\n",
    "then \n",
    "\n",
    "$$\\ln \\left( \\frac {p(x|y=0)p(y=0)}{p(x|y=1)(p(y=1)} \\right) = \\ln p(x|y=0) + \\ln \\alpha - \\ln p(x|y=1) - \\ln(1-\\alpha)$$\n",
    "\n",
    "Now lets plugin the gaussian pdf :\n",
    "\n",
    "$$ = \\ln \\frac {1}{\\sqrt{(2\\pi)^D |\\Sigma|}}  e^ {-\\frac{1}{2} (x-\\mu_0)^T \\Sigma^{-1} (x- \\mu_0) } - \\ln \\frac {1}{\\sqrt{(2\\pi)^D |\\Sigma|}}  e^ {-\\frac{1}{2} (x-\\mu_1)^T \\Sigma^{-1} (x- \\mu_1) } + \\ln \\frac {\\alpha}{1 - \\alpha} $$\n",
    "\n",
    "Now 1/sqrt(...) part cancels out , we know that ln a - ln b = ln a/b , so imagine combining the 2 ln into one big ln , both 1/sqrt(...) cancel each other then return them back to difference\n",
    "\n",
    "once we do this we know $\\ln e^a = a$ , so we use this and then expand to reach :\n",
    "\n",
    "$$= - \\frac {1}{2}  \\left( x^T\\Sigma^{-1}x - x^T\\Sigma^{-1}\\mu_0 - \\mu_0^T \\Sigma^{-1} x + \\mu_0^T \\Sigma^{-1}\\mu_0 \\right) + \\frac {1}{2} \\left( x^T\\Sigma^{-1}x - x^T\\Sigma^{-1}\\mu_1 - \\mu_1^T \\Sigma^{-1}x + \\mu_1^T \\Sigma^{-1}\\mu_1\\right) + ln \\frac {\\alpha}{1-\\alpha}$$\n",
    "\n",
    "Now the quadratic terms cancel out \n",
    "\n",
    "Also we can show that $x^T \\Sigma^{-1} \\mu = \\mu^T \\Sigma^{-1}X$ , bearing in mind that the covariance and its inverse are symmetric\n",
    "\n",
    "cancelling the quadratic terms and adding like temrs , we arrive at :\n",
    "\n",
    "$$=\\mu_0 \\Sigma^{-1}x - \\mu_1^T \\Sigma^{-1} x - \\frac{1}{2}\\mu_0^T \\Sigma^{-1}\\mu_0 + \\frac{1}{2}\\mu_1^T \\Sigma^{-1}\\mu_1 + \\ln \\frac {\\alpha}{1-\\alpha}$$\n",
    "\n",
    "rearragning this we get :\n",
    "\n",
    "$$= \\left( \\mu_0^T - \\mu_1^T \\right) \\Sigma^{-1}x - \\frac {1}{2}\\mu_0 \\Sigma^{-1}\\mu_0 + \\frac{1}{2}\\mu_1 \\Sigma^{-1} \\mu_1 + \\ln \\frac {\\alpha}{1 - \\alpha}$$\n",
    "\n",
    "Comparing this with :\n",
    "\n",
    "$$ = - \\left( w^Tx + b\\right)$$\n",
    "\n",
    "we get :\n",
    "$$w^T = (\\mu_1^T - \\mu_0^T)\\Sigma^{-1}$$\n",
    "\n",
    "$$b = \\frac{1}{2}\\mu_0^T \\Sigma^{-1}\\mu_0 - \\frac{1}{2}\\mu_1^T \\Sigma^{-1}\\mu_1 - \\ln \\frac{\\alpha}{1-\\alpha} $$\n",
    "\n",
    "This method is called LDA : Linear Discriminant Analysis\n",
    "\n",
    "If we have different covariances , QDA : Quadratic discriminant analysis , obviously since the quadratic terms wont cancel out\n",
    "\n",
    "This solution is optomal provided assumptions about distributions are true , generally they are not and we need to do gradient descent\n",
    "\n",
    "Before taking a code example , we introduce the error function for the logistic regression"
   ]
  },
  {
   "cell_type": "markdown",
   "metadata": {},
   "source": [
    "<h1>Math</h1>"
   ]
  },
  {
   "cell_type": "markdown",
   "metadata": {},
   "source": [
    "The linear regression cost function assumed a gaussian distributed error , because log(Gaussian) = squared function\n",
    "\n",
    "Logistic Regression error cant be gaussian distributed since the target is only 0/1 and the output is only a number beween 0-1\n",
    "\n",
    "what do we want from an error function ?\n",
    "\n",
    "we want it to be 0 when there is no error , and we want it to get larger the more incorrect we are\n",
    "\n",
    "Cross-Entropy Error :\n",
    "\n",
    "$$J = -[t \\  log(y) + (1-t) log (1-y)]$$\n",
    "\n",
    "t = target , thats either 0 or 1\n",
    "\n",
    "y = output of logistic  , thats a number between 0 and 1\n",
    "\n",
    "Notice how only one term matters at a time , if t = 1 , only the first term matters if t = 0 only the second term matters\n",
    "\n",
    "since y is a number between 0 and 1 , log(y) is a number between 0 and -inf\n",
    "\n",
    "lets try some examples\n",
    "\n",
    "t = 1 , y = 1 , error = 0 \n",
    "\n",
    "t = 0 , y = 0 , error = 0\n",
    "\n",
    "so we know that error = 0 when we are correct\n",
    "\n",
    "t = 1 , y = 0.99 , error =0.11\n",
    "\n",
    "t = 1 , y = 0.5 , error = 0.69\n",
    "\n",
    "t = 1 , y = 0.1 , error = 2.3\n",
    "\n",
    "so we also know that the error grows larger as we get more wring\n",
    "\n",
    "this means that the cost function is working as expected\n",
    "\n",
    "Finally , not that we want to calculate the total error for all the training data , to optimise over the entire data simultaneuosly\n",
    "\n",
    "so we sum up over all the individual errors\n",
    "\n",
    "$$J = - \\sum^N_{n=1} t_n \\log(y_n) + (1 - t_n) log (1 - y_n)$$\n",
    "\n"
   ]
  },
  {
   "cell_type": "markdown",
   "metadata": {},
   "source": [
    "<h1>code</h1>"
   ]
  },
  {
   "cell_type": "code",
   "execution_count": 286,
   "metadata": {},
   "outputs": [],
   "source": [
    "# now lets try solving using random weights and LDA\n",
    "# then compare the results using our loss function\n",
    "import numpy as np\n",
    "import matplotlib.pyplot as plt"
   ]
  },
  {
   "cell_type": "code",
   "execution_count": 287,
   "metadata": {},
   "outputs": [],
   "source": [
    "N = 100\n",
    "D = 2\n",
    "\n",
    "X = np.random.randn(N,D)\n",
    "\n",
    "# the first 50 points belong to class 0 and are centered around -2\n",
    "X[:50,:] = X[:50,:] - 2*np.ones((50,D))\n",
    "# the last 50 points belong to class 1 and are centered around 2\n",
    "X[50:,:] = X[50:,:] + 2*np.ones((50,D))\n",
    "# so each class has a different mean\n",
    "# since we sample all the data from N , we know we have equal variances in both classes = 1 by default\n",
    "# so we can use LDA\n",
    "\n",
    "# here we initialise the targets\n",
    "T = np.array([0]*50 + [1]*50)\n",
    "\n",
    "# now we concatenate a column of ones with X\n",
    "ones = np.atleast_2d(np.ones(N)).T\n",
    "X_b = np.hstack((ones,X))"
   ]
  },
  {
   "cell_type": "code",
   "execution_count": 288,
   "metadata": {},
   "outputs": [],
   "source": [
    "def sigmoid(z):\n",
    "    return 1/(1+np.exp(-z))\n",
    "\n",
    "def cross_entropy(T,Y):\n",
    "    E = 0\n",
    "    for i in range(N):\n",
    "        if T[i] == 1:\n",
    "            E -= np.log(Y[i])\n",
    "        else:\n",
    "            E -= np.log(1-Y[i])\n",
    "    return E"
   ]
  },
  {
   "cell_type": "code",
   "execution_count": 289,
   "metadata": {},
   "outputs": [],
   "source": [
    "# initialise weights\n",
    "w = np.random.randn(D+1)\n",
    "z = X_b.dot(w)\n",
    "Y = sigmoid(z)"
   ]
  },
  {
   "cell_type": "code",
   "execution_count": 290,
   "metadata": {},
   "outputs": [
    {
     "data": {
      "text/plain": [
       "58.56712398478864"
      ]
     },
     "execution_count": 290,
     "metadata": {},
     "output_type": "execute_result"
    }
   ],
   "source": [
    "# first we calculate error using the random weights\n",
    "cross_entropy(T,Y)"
   ]
  },
  {
   "cell_type": "code",
   "execution_count": 291,
   "metadata": {},
   "outputs": [],
   "source": [
    "# now lets use LDA\n",
    "# we assume knowledge of the means mu0 = -2 , mu1 = 2\n",
    "mu_0 = np.array([-2]*D)\n",
    "mu_1 = np.array([2]*D)\n",
    "# we also know the cov matrix since we know var = 1 \n",
    "cov = np.array([[1,0],[0,1]])\n",
    "# next use the equations\n",
    "\n",
    "w = (mu_1.T - mu_0.T) @ np.linalg.inv(cov)\n",
    "# since half the samples are from class 0 and half are from class 1\n",
    "# we take p(y=1) = p(y=0) = 0.5\n",
    "b = 1/2*(mu_0).T @ np.linalg.inv(cov) @ (mu_0).T - 1/2*(mu_1).T @ np.linalg.inv(cov) @ (mu_1).T - np.log(0.5/(1-0.5))"
   ]
  },
  {
   "cell_type": "code",
   "execution_count": 292,
   "metadata": {},
   "outputs": [],
   "source": [
    "# concatenate bias term with weight\n",
    "w = np.concatenate(([b],w))"
   ]
  },
  {
   "cell_type": "code",
   "execution_count": 293,
   "metadata": {
    "scrolled": true
   },
   "outputs": [
    {
     "data": {
      "text/plain": [
       "0.07068138812632332"
      ]
     },
     "execution_count": 293,
     "metadata": {},
     "output_type": "execute_result"
    }
   ],
   "source": [
    "# now calculate error again\n",
    "z = X_b.dot(w)\n",
    "Y = sigmoid(z)\n",
    "cross_entropy(T,Y)"
   ]
  },
  {
   "cell_type": "code",
   "execution_count": 294,
   "metadata": {},
   "outputs": [],
   "source": [
    "# with real data we scan split into train and test sets\n",
    "# then we can use the train data , which we know their labels \n",
    "# to calculate the mean and variances of each class\n",
    "# if our assumptions are valid , then we can use LDA\n",
    "# here we simplify things\n",
    "# next lets visualise our solution"
   ]
  },
  {
   "cell_type": "code",
   "execution_count": 295,
   "metadata": {},
   "outputs": [
    {
     "name": "stdout",
     "output_type": "stream",
     "text": [
      "[0. 4. 4.]\n"
     ]
    }
   ],
   "source": [
    "print(w)"
   ]
  },
  {
   "cell_type": "code",
   "execution_count": 296,
   "metadata": {},
   "outputs": [
    {
     "data": {
      "image/png": "[encoded data removed]",
      "text/plain": [
       "<Figure size 432x288 with 1 Axes>"
      ]
     },
     "metadata": {
      "needs_background": "light"
     },
     "output_type": "display_data"
    }
   ],
   "source": [
    "# we know our line takes the form ax+by+c = 0\n",
    "# pluggin in the weights we arrive at 4x+4y+0=0\n",
    "# so our line is actually y = -x\n",
    "\n",
    "plt.scatter(X[:,0],X[:,1],c=T,s=100,alpha=0.5)\n",
    "\n",
    "x_axis = np.linspace(-6,6,100)\n",
    "y_axis = -x_axis\n",
    "plt.plot(x_axis,y_axis)\n",
    "plt.show()"
   ]
  },
  {
   "cell_type": "code",
   "execution_count": 297,
   "metadata": {},
   "outputs": [],
   "source": [
    "# as expected we see 2 gaussian clouds and a discriminating line"
   ]
  },
  {
   "cell_type": "markdown",
   "metadata": {},
   "source": [
    "<h1>Math</h1>"
   ]
  },
  {
   "cell_type": "markdown",
   "metadata": {},
   "source": [
    "As an excercise ,  we will try using deriving and using QDA\n",
    "\n",
    "QDA is the same as LDA without the assumption of the same covariances , so we now have $\\Sigma_0$ and $\\Sigma_1$\n",
    "\n",
    "Everything is the same till we plug in the gaussian pdfs , once again now we have  $\\Sigma_0$ and $\\Sigma_1$\n",
    "\n",
    "\n",
    "$$ = \\ln \\frac {1}{\\sqrt{(2\\pi)^D |\\Sigma_0|}}  e^ {-\\frac{1}{2} (x-\\mu_0)^T \\Sigma_0^{-1} (x- \\mu_0) } - \\ln \\frac {1}{\\sqrt{(2\\pi)^D |\\Sigma_1|}}  e^ {-\\frac{1}{2} (x-\\mu_1)^T \\Sigma_1^{-1} (x- \\mu_1) } + \\ln \\frac {\\alpha}{1 - \\alpha} $$\n",
    "\n",
    "From this we get \n",
    "\n",
    "$$\\ln \\frac {1}{\\sqrt{(2\\pi)^D |\\Sigma_0|}} + \\ln e^ {-\\frac{1}{2} (x-\\mu_0)^T \\Sigma_0^{-1} (x- \\mu_0) } - \\ln \\frac {1}{\\sqrt{(2\\pi)^D |\\Sigma_1|}} - \\ln e^ {-\\frac{1}{2} (x-\\mu_1)^T \\Sigma_1^{-1} (x- \\mu_1) } + \\ln \\frac {\\alpha}{1 - \\alpha}$$\n",
    "\n",
    "now we can group the constant terms togehter into one constant K , log out the exponents and get and we get :\n",
    "\n",
    "$$ {-\\frac{1}{2} (x-\\mu_0)^T \\Sigma_0^{-1} (x- \\mu_0) }  + {\\frac{1}{2} (x-\\mu_1)^T \\Sigma_1^{-1} (x- \\mu_1) } + K$$\n",
    "\n",
    "$$ K = \\ln \\frac {1}{\\sqrt{(2\\pi)^D |\\Sigma_0|} } - \\ln \\frac {1}{\\sqrt{(2\\pi)^D |\\Sigma_1|}} + \\ln \\frac {\\alpha}{1 - \\alpha} $$\n",
    "\n",
    "We simplify this further by expanding to get :\n",
    "\n",
    "$$= - \\frac {1}{2}  \\left( x^T\\Sigma_0^{-1}x - x^T\\Sigma_0^{-1}\\mu_0 - \\mu_0^T \\Sigma_0^{-1} x + \\mu_0^T \\Sigma_0^{-1}\\mu_0 \\right) + \\frac {1}{2} \\left( x^T\\Sigma_1^{-1}x - x^T\\Sigma_1^{-1}\\mu_1 - \\mu_1^T \\Sigma_1^{-1}x + \\mu_1^T \\Sigma+1^{-1}\\mu_1\\right) + K $$\n",
    "\n",
    "hhhhhhh :\n",
    "\n",
    "$$ - \\frac{1}{2} x^T \\Sigma_0^{-1} x + \\mu_0^T \\Sigma^{-1} x - \\frac{1}{2} \\mu_0^T \\Sigma_0^{-1}\\mu_0 + \\frac{1}{2} x^T \\Sigma_1^{-1}x - \\mu_1 \\Sigma_1^{-1} x + \\frac{1}{2} \\mu_1 \\Sigma_1^{-1} \\mu_1 + K $$\n",
    "\n",
    "once again we add the constant terms to K to get another constant H , we also rearange the expression to get similar terms together\n",
    "\n",
    "$$ - \\frac{1}{2} x^T \\Sigma_0^{-1} x  + \\frac{1}{2} x^T \\Sigma_1^{-1}x + \\mu_0^T \\Sigma^{-1} x - \\mu_1 \\Sigma_1^{-1} x + H $$\n",
    "\n",
    "$$C = K - \\frac{1}{2} \\mu_0^T \\Sigma_0^{-1}\\mu_0 + \\frac{1}{2} \\mu_1 \\Sigma_1^{-1} \\mu_1 $$\n",
    "\n",
    "rewriting the full expression for H :\n",
    "\n",
    "$$H = \\ln \\frac {1}{\\sqrt{(2\\pi)^D |\\Sigma_0|} } - \\ln \\frac {1}{\\sqrt{(2\\pi)^D |\\Sigma_1|}} + \\ln \\frac {\\alpha}{1 - \\alpha} - \\frac{1}{2} \\mu_0^T \\Sigma_0^{-1}\\mu_0 + \\frac{1}{2} \\mu_1 \\Sigma_1^{-1} \\mu_1 $$\n",
    "\n",
    "Grouping terms together we get :\n",
    "\n",
    "$$ x^T  \\left[ \\frac{1}{2} \\left( \\Sigma_1^{-1} - \\Sigma_0^{-1} \\right) \\right] x + \\left( \\mu_0^T \\Sigma_0^{-1} -  \\mu_1^T \\Sigma_1^{-1} \\right) x + H $$\n",
    "\n",
    "We now need to remember that this equates to $-(w^Tx + b)$ , to get rid of the -ve sign we multiply by -1  :\n",
    "\n",
    "$$ x^T  \\left[ \\frac{1}{2} \\left( \\Sigma_0^{-1} - \\Sigma_1^{-1} \\right) \\right] x + \\left( \\mu_1^T \\Sigma_1^{-1} -  \\mu_0^T \\Sigma_1^{-0} \\right) x - H $$\n",
    "\n",
    "Finally we the solution is :\n",
    "\n",
    "$$ x^T A x + B x + C $$\n",
    "\n",
    "$$A = \\frac{1}{2} \\left( \\Sigma_0^{-1} - \\Sigma_1^{-1} \\right)$$\n",
    "\n",
    "$$B =  \\mu_1^T \\Sigma_1^{-1} -  \\mu_0^T \\Sigma_0^{-1} $$\n",
    "\n",
    "$$C =  \\ln \\frac {1}{\\sqrt{(2\\pi)^D |\\Sigma_1|}} - \\ln \\frac {1}{\\sqrt{(2\\pi)^D |\\Sigma_0|} }  + \\frac{1}{2} \\mu_0^T \\Sigma_0^{-1}\\mu_0  - \\frac{1}{2} \\mu_1 \\Sigma_1^{-1} \\mu_1 - \\ln \\frac {\\alpha}{1 - \\alpha}$$\n",
    "\n"
   ]
  },
  {
   "cell_type": "markdown",
   "metadata": {},
   "source": [
    "<h1>Code</h1>"
   ]
  },
  {
   "cell_type": "code",
   "execution_count": 299,
   "metadata": {},
   "outputs": [],
   "source": [
    "# on the same data we will try the QDA approach\n",
    "# run the previous code section first\n",
    "# we now that both classes have same covariences but we would like to see if the result converges to LDA\n",
    "cov_0 = cov_1 = cov\n",
    "\n",
    "A = 1/2*(np.linalg.inv(cov_0) - np.linalg.inv(cov_1))\n",
    "B = mu_1.T @ np.linalg.inv(cov_1) - mu_0.T @ np.linalg.inv(cov_0)\n",
    "C = np.log(1/np.sqrt(2*np.pi)**D*np.linalg.det(cov_1)) - np.log(1/np.sqrt(2*np.pi)**D*np.linalg.det(cov_0)) + 1/2*mu_0.T @ np.linalg.inv(cov_0) @ mu_0 - 1/2*mu_1 @ np.linalg.inv(cov_1)@mu_1 - np.log(0.5/(1-0.5))"
   ]
  },
  {
   "cell_type": "code",
   "execution_count": 300,
   "metadata": {},
   "outputs": [
    {
     "name": "stdout",
     "output_type": "stream",
     "text": [
      "A:  [[0. 0.]\n",
      " [0. 0.]]\n",
      "B:  [4. 4.]\n",
      "C:  0.0\n"
     ]
    }
   ],
   "source": [
    "print(\"A: \",A)\n",
    "print(\"B: \",B)\n",
    "print(\"C: \",C)\n"
   ]
  },
  {
   "cell_type": "code",
   "execution_count": 162,
   "metadata": {},
   "outputs": [],
   "source": [
    "# clearly we arrive at the same solution\n",
    "# now lets try some data , this time the 2 classes have different means and variances\n",
    "# we want to compare the performance of LDA vs QDA\n",
    "import numpy as np\n",
    "import matplotlib.pyplot as plt\n",
    "\n",
    "D = 2\n",
    "N = 100\n",
    "X_0 = (np.random.randn(50,D)*3) - 10*np.ones((50,D)) # variance 4 mean -10\n",
    "X_1 = (np.random.randn(50,D)*5) + 10*np.ones((50,D)) # variance 9 mean 10\n"
   ]
  },
  {
   "cell_type": "code",
   "execution_count": 169,
   "metadata": {},
   "outputs": [],
   "source": [
    "# this time we let numpy do the calculations\n",
    "# data generated is not necessarily perfectly accurate \n",
    "mu_0 = np.mean(X_0,axis=0)\n",
    "mu_1 = np.mean(X_1,axis=0)\n",
    "\n",
    "cov_0 = np.cov(X_0.T)\n",
    "cov_1 = np.cov(X_1.T)\n",
    "\n",
    "# for the LDA we will take the cov as the mean of both covariances\n",
    "cov = (cov_0+cov_1)/2\n",
    "\n",
    "X = np.concatenate((X_0,X_1))\n",
    "\n",
    "# finally lets set the targets\n",
    "T = np.array([0]*50 + [1]*50)"
   ]
  },
  {
   "cell_type": "code",
   "execution_count": 170,
   "metadata": {},
   "outputs": [
    {
     "data": {
      "image/png": "[encoded data removed]",
      "text/plain": [
       "<Figure size 432x288 with 1 Axes>"
      ]
     },
     "metadata": {
      "needs_background": "light"
     },
     "output_type": "display_data"
    }
   ],
   "source": [
    "# lets plot the data\n",
    "plt.scatter(X[:,0],X[:,1],c=T,s=100,alpha=0.5)\n",
    "plt.show()"
   ]
  },
  {
   "cell_type": "code",
   "execution_count": 171,
   "metadata": {},
   "outputs": [],
   "source": [
    "def sigmoid(z):\n",
    "    return 1/(1+np.exp(-z))\n",
    "\n",
    "def cross_entropy(T,Y):\n",
    "    E = 0\n",
    "    for i in range(N):\n",
    "        if T[i] == 1:\n",
    "            E -= np.log(Y[i])\n",
    "        else:\n",
    "            E -= np.log(1-Y[i])\n",
    "    return E"
   ]
  },
  {
   "cell_type": "code",
   "execution_count": 172,
   "metadata": {},
   "outputs": [
    {
     "data": {
      "text/plain": [
       "0.38170176823035734"
      ]
     },
     "execution_count": 172,
     "metadata": {},
     "output_type": "execute_result"
    }
   ],
   "source": [
    "# now LDA\n",
    "\n",
    "ones = np.atleast_2d(np.ones(N)).T\n",
    "X_b = np.hstack((ones,X))\n",
    "w = np.random.randn(D+1)\n",
    "\n",
    "\n",
    "w = (mu_1.T - mu_0.T) @ np.linalg.inv(cov)\n",
    "b = 1/2*(mu_0).T @ np.linalg.inv(cov) @ (mu_0).T - 1/2*(mu_1).T @ np.linalg.inv(cov) @ (mu_1).T - np.log(0.5/(1-0.5))\n",
    "\n",
    "w = np.concatenate(([b],w))\n",
    "\n",
    "z = X_b.dot(w)\n",
    "Y = sigmoid(z)\n",
    "cross_entropy(T,Y)\n"
   ]
  },
  {
   "cell_type": "code",
   "execution_count": 173,
   "metadata": {},
   "outputs": [
    {
     "data": {
      "text/plain": [
       "0.5740548614389442"
      ]
     },
     "execution_count": 173,
     "metadata": {},
     "output_type": "execute_result"
    }
   ],
   "source": [
    "# now again with QDA\n",
    "A = 1/2*(np.linalg.inv(cov_0) - np.linalg.inv(cov_1))\n",
    "B = mu_1.T @ np.linalg.inv(cov_1) - mu_0.T @ np.linalg.inv(cov_0)\n",
    "C = np.log(1/np.sqrt(2*np.pi)**D*np.linalg.det(cov_1)) - np.log(1/np.sqrt(2*np.pi)**D*np.linalg.det(cov_0)) + 1/2*mu_0.T @ np.linalg.inv(cov_0) @ mu_0 - 1/2*mu_1 @ np.linalg.inv(cov_1)@mu_1 - np.log(0.5/(1-0.5))\n",
    "\n",
    "z = ((X@A)*X).sum(axis=1) + X@B + C\n",
    "Y = sigmoid(z)\n",
    "cross_entropy(T,Y)"
   ]
  },
  {
   "cell_type": "code",
   "execution_count": 174,
   "metadata": {},
   "outputs": [],
   "source": [
    "# LDA seems to act even better than QDA\n",
    "# but we need to rememebr that for LDA we got our cov to be the mean of both covariances\n",
    "# and so this assumption causes us to solve a different problem where both classes have covariance cov\n",
    "# which may lead to a better sol\n",
    "# for some other random sets , QDA was better\n",
    "# of course , should we make the same assumption for QDA , it converges to LDA and gives the better solution so fair enough\n",
    "# that is to say , that if QDA acheives better then it is better , if LDA acheived better due to our assumption , should the same assumption be used for QDA we get the same result\n",
    "# and so QDA appears to be superior to LDA\n",
    "# it is still worth mentioning that though LDA has a less error value , both acheive an accuracy of 1\n",
    "# lets revise quickly how we calculated z"
   ]
  },
  {
   "cell_type": "markdown",
   "metadata": {},
   "source": [
    "for one point x we perform $x^T A x$\n",
    "\n",
    "we need to remember that in linear algabera's convention x is a column vector so x is Dx1 , and so x.T is 1xD\n",
    "\n",
    "since in a matrix X , a single point x is already a row vector , meaning x is already 1xD , $x^T A$ can be done for all points as X A\n",
    "\n",
    "then we do the dot product with x , this is equivalent to elementwise multiplication then summing the contents of each row\n",
    "\n",
    "the rest of the terms are trivially implemented "
   ]
  },
  {
   "cell_type": "markdown",
   "metadata": {},
   "source": [
    "<h1>Math</h1>"
   ]
  },
  {
   "cell_type": "markdown",
   "metadata": {},
   "source": [
    "We want to see how the logistic problem is also rooted in probability \n",
    "\n",
    "lets consider the likelihood for a bias coin\n",
    "\n",
    "so we have a coin with :\n",
    "\n",
    "$$p(H) = p$$\n",
    "\n",
    "$$p(T) = 1-p$$\n",
    "\n",
    "so we flip the coins N flips , say N = 10 and we get 7H and 3T\n",
    "\n",
    "Total likelihood ? (That is the probability of seeing what we saw)\n",
    "\n",
    "$$L = p^7(1-p)^3$$\n",
    "\n",
    "this is correct , since each coin toss is independant and so we can multiply each individual probability\n",
    "\n",
    "Now we want to maximise L wrt to p , that is choose a p that gives the maximum L\n",
    "\n",
    "well , maximising L is the same as maximising log(L) since log is a monotonically increasing function , so the point at which L is maximun log(L) is also maximum\n",
    "\n",
    "$$l = \\log \\left[ p^7 (1-p)^3\\right]$$\n",
    "\n",
    "$$l = \\log p^7 + log(1-p)^3$$\n",
    "\n",
    "$$l = 7\\log p + 3log(1-p)$$\n",
    "\n",
    "now lets set this to 0\n",
    "\n",
    "$$\\frac {dl} {dp} = \\frac {7}{p} + \\frac {3}{1-p}(-1) = 0$$\n",
    "\n",
    "and we solve for p\n",
    "\n",
    "$$\\frac {7}{p} = \\frac {3}{1-p}$$\n",
    "\n",
    "$$\\frac {1-p}{p} = \\frac {3}{7}$$\n",
    "\n",
    "$$\\frac {1}{p} - 1 = \\frac{3}{7}$$\n",
    "\n",
    "$$\\frac {1}{p}  = \\frac{10}{7}$$\n",
    "\n",
    "$$ p = \\frac {7}{10} = p(H)$$\n",
    "\n",
    "now lets apply a similar idea to logistic regression , we know that\n",
    "\n",
    "$$ p(y=1|x) = \\sigma(w^T x) = y $$\n",
    "\n",
    "In the same way we did with the coin example we can write the likelihood as :\n",
    "\n",
    "$$ L = \\prod^{N}_{n=1} y_n^{t_n} (1-y_n)^{1-t_n} $$\n",
    "\n",
    "where for sample n , $y_n$ is p(y=1|n) , and $t_n$ is the target for sample n\n",
    "\n",
    "This is true because , for sample any sample n , if $t_n = 1$, the $p = y_n$ and if t = 0 , then $p = 1 - y_n$  \n",
    "\n",
    "$$l = \\sum ^{N} _{n=1} t_n \\log y_n + (1-t_n) log(1-y_n)$$\n",
    "\n",
    "but thats actually the negative of the cross entropy function !!!\n",
    "\n",
    "so maximising the log-likelihood is the same as minimising the cross-entropy error"
   ]
  },
  {
   "cell_type": "markdown",
   "metadata": {},
   "source": [
    "<h1>Math</h1>"
   ]
  },
  {
   "cell_type": "markdown",
   "metadata": {},
   "source": [
    "Now we want to use gradient descent to optimise our weights\n",
    "\n",
    "of course , we can take the derivative and try to solve for the weights but we will find that we cant\n",
    "\n",
    "so we take the derivative and then use gradient descent\n",
    "\n",
    "$$ J = - \\sum^{N}_{n=1} t_n \\log(y_n) + (1-t_n) \\ log (1 - y_n)$$\n",
    "\n",
    "hmmmmmm\n",
    "\n",
    "J is a function of $y_n$ \n",
    "\n",
    "$y_n$ which is the output of the sigmoid is a function of the input of the sigmoid , sometimes we call it the activation , $a_n$\n",
    "\n",
    "$a_n$ is a function of the weights , $a_n = w^T x$\n",
    "\n",
    "if we want to optimise the J wrt the weights we want $\\frac{\\partial J}{\\partial w_i}$\n",
    "\n",
    "so we use the chain rule , split into 3 derivatives , then multiply then\n",
    "\n",
    "$$\\frac {\\partial J} {\\partial w_i} = \\sum^{N}_{n=1} \\frac {\\partial J}{\\partial y_n} \\frac {\\partial y_n}{\\partial a_n} \\frac {\\partial a_n}{\\partial w_i} $$\n",
    "\n",
    "first lets get $\\frac {\\partial J} {\\partial y_n}$\n",
    "\n",
    "$$ J = - \\sum^{N}_{n=1} t_n \\log(y_n) + (1-t_n) \\ log (1 - y_n) $$\n",
    "\n",
    "$$\\frac {\\partial J} {\\partial y_n} = - \\ \\ \\ \\ t_n \\frac{1}{y_n} + (1 - t_n) \\frac{1}{1-y_n}(-1) $$\n",
    "\n",
    "next  $\\ \\frac {\\partial y_n} {\\partial a_n}$\n",
    "\n",
    "$$y_n = \\sigma(a_n) = \\frac {1} {1+e^{-a_n}}$$\n",
    "\n",
    "$$\\frac {\\partial y_n} {\\partial a_n} = \\frac {-1} {(1+e^{-a_n})^2}(e^{-a_n})(-1)$$\n",
    "\n",
    "$$\\frac {\\partial y_n} {\\partial a_n} = \\frac {e^{-a_n}} {(1+e^{-a_n})^2} = \\frac {1}{1+e^{-a_n}} \\frac {e^{-a_n}}{1+e^{-a_n}} = y_n(1-y_n) $$\n",
    "\n",
    "$$\\frac {\\partial y_n} {\\partial a_n} = y_n(1-y_n)$$\n",
    "\n",
    "now $\\frac {\\partial a_n}{\\partial w_i}$\n",
    "\n",
    "$$a_n = w^T x_n$$\n",
    "\n",
    "$$a_n = w_0x_{n0} + w_1x_{n1} + w_1x_{n2} + ...$$\n",
    "\n",
    "$$\\frac {\\partial a_n} {\\partial w_i} = x_{ni}$$\n",
    "\n",
    "Now lets multiply all together to get $\\frac{\\partial J}{\\partial w_i}$\n",
    "\n",
    "$$\\frac {\\partial J} {\\partial w_i} = - \\sum^{N}_{n=1} \\frac{t_n}{y_n} y_n (1-y_n) x_{ni} - \\frac{1-t_n}{1-y_n}y_n(1-y_n)x_{ni}$$\n",
    "\n",
    "\n",
    "$$\\frac {\\partial J} {\\partial w_i} = - \\sum^{N}_{n=1} t_n (1-y_n) x_{ni} - (1-t_n)y_nx_{ni}$$\n",
    "\n",
    "$$\\frac {\\partial J} {\\partial w_i} = - \\left[ t_n - t_ny_n - y_n + t_ny_n\\right]x_{ni}$$\n",
    "\n",
    "$$\\frac {\\partial J} {\\partial w_i} = \\sum^{N}_{n=1}(y_n - t_n)x_{ni}$$\n",
    "\n",
    "since each ith component on the left side only depends on the ith component on the right side we can write this in vector form as :\n",
    "\n",
    "$$\\frac {\\partial J}{\\partial w} = \\sum^{N}_{n=1} (y_n - t_n)x_n$$\n",
    "\n",
    "remembering that $a^Tb = \\sum^{N}_{n=1} a_n b_n$\n",
    "\n",
    "we can vectorise this as :\n",
    "\n",
    "$$\\frac {\\partial J} {\\partial w} = X^T (Y-T)$$\n",
    "\n",
    "Revising the dimensions , (DxN)(Nx1) $\\to$ (Dx1) which is the correct shape for w\n",
    "\n",
    "N gets summed over\n",
    "\n",
    "Now what happens to the bias term , we can just incorporate it into x it self by adding a column of 1s , in case we want to find an expresssion for it explicitly :\n",
    "\n",
    "$$\\frac {\\partial J} {\\partial w_0} = \\sum^{N}_{n=1}(y_n - t_n)x_{n0} = \\sum^{N}_{n=1}(y_n - t_n)$$\n",
    "\n",
    "since all $x_{n0}$ are 1s\n",
    "\n",
    "\n",
    "\n",
    "\n",
    "\n",
    "\n",
    "\n"
   ]
  },
  {
   "cell_type": "markdown",
   "metadata": {},
   "source": [
    "<h1>code</h1>"
   ]
  },
  {
   "cell_type": "code",
   "execution_count": 35,
   "metadata": {},
   "outputs": [],
   "source": [
    "# now back again to the same example we used for the LDA\n",
    "import numpy as np\n",
    "import matplotlib.pyplot as plt"
   ]
  },
  {
   "cell_type": "code",
   "execution_count": 36,
   "metadata": {},
   "outputs": [],
   "source": [
    "N = 100\n",
    "D = 2\n",
    "\n",
    "X = np.random.randn(N,D)\n",
    "\n",
    "# the first 50 points belong to class 0 and are centered around -2\n",
    "X[:50,:] = X[:50,:] - 2*np.ones((50,D))\n",
    "# the last 50 points belong to class 1 and are centered around 2\n",
    "X[50:,:] = X[50:,:] + 2*np.ones((50,D))\n",
    "\n",
    "# here we initialise the targets\n",
    "T = np.array([0]*50 + [1]*50)\n",
    "\n",
    "# now we concatenate a column of ones with X\n",
    "ones = np.atleast_2d(np.ones(N)).T\n",
    "X_b = np.hstack((ones,X))"
   ]
  },
  {
   "cell_type": "code",
   "execution_count": 37,
   "metadata": {},
   "outputs": [],
   "source": [
    "def sigmoid(z):\n",
    "    return 1/(1+np.exp(-z))\n",
    "\n",
    "def cross_entropy(T,Y):\n",
    "    E = 0\n",
    "    for i in range(N):\n",
    "        if T[i] == 1:\n",
    "            E -= np.log(Y[i])\n",
    "        else:\n",
    "            E -= np.log(1-Y[i])\n",
    "    return E"
   ]
  },
  {
   "cell_type": "code",
   "execution_count": 38,
   "metadata": {},
   "outputs": [],
   "source": [
    "w = np.random.randn(D+1)\n",
    "z = X_b @ w\n",
    "Y = sigmoid(z)"
   ]
  },
  {
   "cell_type": "code",
   "execution_count": 39,
   "metadata": {},
   "outputs": [
    {
     "name": "stdout",
     "output_type": "stream",
     "text": [
      "66.0308711191527\n"
     ]
    }
   ],
   "source": [
    "# error for random weights\n",
    "print(cross_entropy(T,Y))"
   ]
  },
  {
   "cell_type": "code",
   "execution_count": 40,
   "metadata": {},
   "outputs": [],
   "source": [
    "# now lets go for gradient descent\n",
    "learning_rate = 0.1\n",
    "costs = []\n",
    "for i in range(100) : # steps\n",
    "    e = cross_entropy(T,Y)\n",
    "    costs.append(e)\n",
    "    w -= learning_rate * (X_b.T @ (Y-T))\n",
    "    Y = sigmoid(X_b@w)\n",
    "\n",
    "    "
   ]
  },
  {
   "cell_type": "code",
   "execution_count": 41,
   "metadata": {},
   "outputs": [
    {
     "data": {
      "image/png": "[encoded data removed]",
      "text/plain": [
       "<Figure size 432x288 with 1 Axes>"
      ]
     },
     "metadata": {
      "needs_background": "light"
     },
     "output_type": "display_data"
    }
   ],
   "source": [
    "plt.plot(costs)\n",
    "plt.show()"
   ]
  },
  {
   "cell_type": "markdown",
   "metadata": {},
   "source": [
    "<h1>code</h1>"
   ]
  },
  {
   "cell_type": "code",
   "execution_count": 9,
   "metadata": {},
   "outputs": [],
   "source": [
    "# now back to the e-commerece data we used in 4\n",
    "# in 4 we showed how to preprocess the data\n",
    "# we use the same steps to preprocess the data"
   ]
  },
  {
   "cell_type": "code",
   "execution_count": 10,
   "metadata": {},
   "outputs": [],
   "source": [
    "# now we work on some real data\n",
    "import numpy as np\n",
    "import pandas as pd\n",
    "from sklearn.utils import shuffle"
   ]
  },
  {
   "cell_type": "code",
   "execution_count": 11,
   "metadata": {},
   "outputs": [
    {
     "data": {
      "text/html": [
       "<div>\n",
       "<style scoped>\n",
       "    .dataframe tbody tr th:only-of-type {\n",
       "        vertical-align: middle;\n",
       "    }\n",
       "\n",
       "    .dataframe tbody tr th {\n",
       "        vertical-align: top;\n",
       "    }\n",
       "\n",
       "    .dataframe thead th {\n",
       "        text-align: right;\n",
       "    }\n",
       "</style>\n",
       "<table border=\"1\" class=\"dataframe\">\n",
       "  <thead>\n",
       "    <tr style=\"text-align: right;\">\n",
       "      <th></th>\n",
       "      <th>is_mobile</th>\n",
       "      <th>n_products_viewed</th>\n",
       "      <th>visit_duration</th>\n",
       "      <th>is_returning_visitor</th>\n",
       "      <th>time_of_day</th>\n",
       "      <th>user_action</th>\n",
       "    </tr>\n",
       "  </thead>\n",
       "  <tbody>\n",
       "    <tr>\n",
       "      <th>0</th>\n",
       "      <td>1</td>\n",
       "      <td>0</td>\n",
       "      <td>0.657510</td>\n",
       "      <td>0</td>\n",
       "      <td>3</td>\n",
       "      <td>0</td>\n",
       "    </tr>\n",
       "    <tr>\n",
       "      <th>1</th>\n",
       "      <td>1</td>\n",
       "      <td>1</td>\n",
       "      <td>0.568571</td>\n",
       "      <td>0</td>\n",
       "      <td>2</td>\n",
       "      <td>1</td>\n",
       "    </tr>\n",
       "    <tr>\n",
       "      <th>2</th>\n",
       "      <td>1</td>\n",
       "      <td>0</td>\n",
       "      <td>0.042246</td>\n",
       "      <td>1</td>\n",
       "      <td>1</td>\n",
       "      <td>0</td>\n",
       "    </tr>\n",
       "    <tr>\n",
       "      <th>3</th>\n",
       "      <td>1</td>\n",
       "      <td>1</td>\n",
       "      <td>1.659793</td>\n",
       "      <td>1</td>\n",
       "      <td>1</td>\n",
       "      <td>2</td>\n",
       "    </tr>\n",
       "    <tr>\n",
       "      <th>4</th>\n",
       "      <td>0</td>\n",
       "      <td>1</td>\n",
       "      <td>2.014745</td>\n",
       "      <td>1</td>\n",
       "      <td>1</td>\n",
       "      <td>2</td>\n",
       "    </tr>\n",
       "  </tbody>\n",
       "</table>\n",
       "</div>"
      ],
      "text/plain": [
       "   is_mobile  n_products_viewed  visit_duration  is_returning_visitor  \\\n",
       "0          1                  0        0.657510                     0   \n",
       "1          1                  1        0.568571                     0   \n",
       "2          1                  0        0.042246                     1   \n",
       "3          1                  1        1.659793                     1   \n",
       "4          0                  1        2.014745                     1   \n",
       "\n",
       "   time_of_day  user_action  \n",
       "0            3            0  \n",
       "1            2            1  \n",
       "2            1            0  \n",
       "3            1            2  \n",
       "4            1            2  "
      ]
     },
     "execution_count": 11,
     "metadata": {},
     "output_type": "execute_result"
    }
   ],
   "source": [
    "df = pd.read_csv('datasets/ecommerce_data.csv')\n",
    "df.head()"
   ]
  },
  {
   "cell_type": "code",
   "execution_count": 12,
   "metadata": {},
   "outputs": [],
   "source": [
    "data = df.to_numpy()\n",
    "X = data[:,:-1]\n",
    "Y = data[:,-1]\n",
    "\n",
    "N,D = X.shape\n",
    "# now normalise numeric columns  , n_products_viewed and visit duration\n",
    "X[:,1] = (X[:,1] - X[:,1].mean()) / X[:,1].std()\n",
    "X[:,2] = (X[:,2] - X[:,2].mean()) / X[:,2].std()\n"
   ]
  },
  {
   "cell_type": "code",
   "execution_count": 13,
   "metadata": {},
   "outputs": [],
   "source": [
    "# now one of the columns is time_of day\n",
    "# the time of day is categorised into 4 categories\n",
    "# 0,1,2,3 each spanning 6 hours of the day\n",
    "# since this is a categorical variable we want to one hot encode it\n",
    "# there are other categorical variables, but these are binary ones, and so we can let the effect of the other category be absorbed into the bias term\n",
    "# so we need to add another 4 one hot encoded columns\n",
    "\n",
    "for i in range(4):\n",
    "    col = np.zeros(N)\n",
    "    col[X[:,4] == i] = 1 \n",
    "    X = np.hstack((X,np.atleast_2d(col).T))\n",
    "\n",
    "# then we delete the original column\n",
    "X = np.delete(X,4,1)"
   ]
  },
  {
   "cell_type": "code",
   "execution_count": 14,
   "metadata": {},
   "outputs": [],
   "source": [
    "# for now we will work on binary classification\n",
    "# so we will take only samples where Y = 0 or Y = 1\n",
    "X = X[Y<=1]\n",
    "Y = Y[Y<=1]"
   ]
  },
  {
   "cell_type": "code",
   "execution_count": 15,
   "metadata": {},
   "outputs": [],
   "source": [
    "# this time we will split the data into train and test sets\n",
    "# we use train set to train the model and optimise the weights\n",
    "# then we use the test sets to compute our score\n",
    "X,Y = shuffle(X,Y)\n",
    "Xtrain = X[:-100]\n",
    "Ytrain = Y[:-100]\n",
    "Xtest = X[-100:]\n",
    "Ytest = Y[-100:]"
   ]
  },
  {
   "cell_type": "code",
   "execution_count": 16,
   "metadata": {},
   "outputs": [],
   "source": [
    "N,D = X.shape\n",
    "W = np.random.randn(D)\n",
    "# we use a bias term , equivalenty we could have had X with one more column of 1s and W to be D+1\n",
    "b = 0 "
   ]
  },
  {
   "cell_type": "code",
   "execution_count": 17,
   "metadata": {},
   "outputs": [],
   "source": [
    "def sigmoid(a):\n",
    "    return 1/(1+np.exp(-a))\n",
    "\n",
    "def forward(X,W,b):\n",
    "    return sigmoid(X@W + b)\n",
    "\n",
    "def classification_rate(Y,P):\n",
    "    return np.mean(Y==P) \n",
    "\n",
    "def cross_entropy(T,pY):\n",
    "    return -np.mean(T*np.log(pY) + (1-T)*np.log(1-pY))\n"
   ]
  },
  {
   "cell_type": "code",
   "execution_count": 18,
   "metadata": {},
   "outputs": [
    {
     "name": "stdout",
     "output_type": "stream",
     "text": [
      "iteration:  0  ctrain:  1.668752767996244  ctest:  1.4505969745511451\n",
      "iteration:  1000  ctrain:  0.20433084353755648  ctest:  0.12713541856943272\n",
      "iteration:  2000  ctrain:  0.20337131497159294  ctest:  0.12415333291349723\n",
      "iteration:  3000  ctrain:  0.20331316526473123  ctest:  0.12358728653683963\n",
      "iteration:  4000  ctrain:  0.20330887686916285  ctest:  0.1234436529187348\n",
      "iteration:  5000  ctrain:  0.20330854512381263  ctest:  0.1234044456960937\n",
      "iteration:  6000  ctrain:  0.20330851912635023  ctest:  0.12339352735094647\n",
      "iteration:  7000  ctrain:  0.20330851708170944  ctest:  0.12339046986839898\n",
      "iteration:  8000  ctrain:  0.20330851692074137  ctest:  0.12338961234279772\n",
      "iteration:  9000  ctrain:  0.2033085169080652  ctest:  0.12338937172949133\n"
     ]
    }
   ],
   "source": [
    "# now lets train \n",
    "train_costs = []\n",
    "test_costs = []\n",
    "learning_rate = 0.001\n",
    "\n",
    "for i in range(10000):\n",
    "    pYtrain = forward(Xtrain,W,b)\n",
    "    pYtest = forward(Xtest,W,b)\n",
    "    \n",
    "    ctrain = cross_entropy(Ytrain,pYtrain)\n",
    "    ctest = cross_entropy(Ytest,pYtest)\n",
    "    \n",
    "    train_costs.append(ctrain)\n",
    "    test_costs.append(ctest)\n",
    "    \n",
    "    W -= learning_rate * Xtrain.T@(pYtrain - Ytrain)\n",
    "    b -= learning_rate * (pYtrain - Ytrain).sum()\n",
    "    \n",
    "    if i%1000 == 0:\n",
    "        print ('iteration: ',i,' ctrain: ',ctrain,' ctest: ',ctest)"
   ]
  },
  {
   "cell_type": "code",
   "execution_count": 19,
   "metadata": {},
   "outputs": [
    {
     "data": {
      "image/png": "[encoded data removed]",
      "text/plain": [
       "<Figure size 432x288 with 1 Axes>"
      ]
     },
     "metadata": {
      "needs_background": "light"
     },
     "output_type": "display_data"
    }
   ],
   "source": [
    "plt.plot(train_costs,label = 'train costs')\n",
    "plt.plot(test_costs,label = 'test costs')\n",
    "plt.legend()\n",
    "plt.show()"
   ]
  },
  {
   "cell_type": "code",
   "execution_count": 20,
   "metadata": {},
   "outputs": [
    {
     "name": "stdout",
     "output_type": "stream",
     "text": [
      "final train classification rate:  0.9664429530201343\n",
      "final test classification rate:  0.98\n"
     ]
    }
   ],
   "source": [
    "print('final train classification rate: ',classification_rate(Ytrain,np.round(pYtrain)))\n",
    "print('final test classification rate: ',classification_rate(Ytest,np.round(pYtest)))"
   ]
  },
  {
   "cell_type": "code",
   "execution_count": null,
   "metadata": {},
   "outputs": [],
   "source": []
  }
 ],
 "metadata": {
  "kernelspec": {
   "display_name": "Python 3",
   "language": "python",
   "name": "python3"
  },
  "language_info": {
   "codemirror_mode": {
    "name": "ipython",
    "version": 3
   },
   "file_extension": ".py",
   "mimetype": "text/x-python",
   "name": "python",
   "nbconvert_exporter": "python",
   "pygments_lexer": "ipython3",
   "version": "3.8.2"
  }
 },
 "nbformat": 4,
 "nbformat_minor": 4
}
