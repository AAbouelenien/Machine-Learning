{
 "cells": [
  {
   "cell_type": "markdown",
   "metadata": {},
   "source": [
    "<h1>Math</h1>"
   ]
  },
  {
   "cell_type": "markdown",
   "metadata": {},
   "source": [
    "Now we will discuss another way of forming clusters known as hierarchical clustering , specifically Agglomerative Clustering\n",
    "\n",
    "This is a greedy algorithm in which we start with some set of points , merge the 2 closest , then repeat until we have only one group of all the points\n",
    "\n",
    "so for ex:\n",
    "\n",
    "<img src=\"extras/15.1.PNG\"></img>\n",
    "\n",
    "but then were are the actual clusters ? which ones do we choose ?\n",
    "\n",
    "to answer this question we have to make a plot of clusters and this is what is called a dendrogram (basically its a tree-shaped graph , we will see one shortly)\n",
    "\n",
    "In a dendrogram , the height of each node in the tree is proportional to the distacne between the 2 clusters it joins together\n",
    "\n",
    "so ,  height of cluster A/B = dist(clusterA , cluster B)\n",
    "\n",
    "we can choose based on what we see visually or using some criteria as a threshold\n",
    "\n"
   ]
  },
  {
   "cell_type": "markdown",
   "metadata": {},
   "source": [
    "<h1>Math</h1>"
   ]
  },
  {
   "cell_type": "markdown",
   "metadata": {},
   "source": [
    "we want now to consider different options that we have when implementing the algorithm\n",
    "\n",
    "first lets talk about distance metrics\n",
    "\n",
    "<table style=\"width:100%\", border: 1px solid black;>\n",
    "  <tr>\n",
    "    <td>Euclidean distance</td>\n",
    "    <td>$${\\Vert a-b \\Vert}_2 = \\sqrt{\\sum_i (a_i - b_i)^2}$$</td>\n",
    "  </tr>\n",
    "  <tr>\n",
    "    <td>Squared Euclidean distance</td>\n",
    "    <td>$${\\Vert a-b \\Vert}_2^2 = {\\sum_i (a_i - b_i)^2}$$</td>\n",
    "  </tr>\n",
    "  <tr>\n",
    "    <td>Manhattan distance</td>\n",
    "    <td>$${\\Vert a-b \\Vert}_1 = \\sum_i \\vert  a_i - b_i \\vert$$</td>\n",
    "  </tr>\n",
    "  <tr>\n",
    "    <td>maximun distance</td>\n",
    "    <td>$${\\Vert a-b \\Vert}_\\infty = \\max_i \\vert a_i - b_i \\vert $$</td>\n",
    "  </tr>\n",
    "  <tr>\n",
    "    <td>mahalanobis distance</td>\n",
    "    <td>$$\\sqrt{{(a-b)}^T S^{-1}(a-b)}$$</td>\n",
    "  </tr>\n",
    "\n",
    " </table>\n",
    " \n",
    "so for we assumed we are using Euclidean distance but this doesnot necessary be the case since other distance metrics may be better , so its up to us to experiment and see which one gives best results\n",
    "\n",
    "in Mahalanobis distance , S is the covariance\n",
    "\n",
    "we can even invent our own distance metric , but it has to follow some rules :\n",
    "\n",
    "1) $$d(x,y) \\ge 0 $$ non-negaativity or seperation axiom , we cannot have negative distances\n",
    "\n",
    "2) $$d(x,y) = 0 \\leftrightarrow  x=y$$ identity of indiscernibles , distance between x and y = 0 if and only if x = 0\n",
    "\n",
    "3) $$d(x,y) = d(y,x)$$ symmetry\n",
    "\n",
    "4) $$d(x,z) \\le d(x,y) + d(y,z)$$ subaddivity or triangle inequality , this means that the shortest distance between any two points is a straight line\n",
    "\n",
    "Next we want to know how to join the clusters together \n",
    "\n",
    "we know we want to join the 2 closest clusters , but what is the distance between 2 clusters ?\n",
    "\n",
    "Mean vs Mean ? Median vs Median ? 2 closest points ? 2 furthest points ?\n",
    "\n",
    "1) Single-Linkage:\n",
    "\n",
    "d(clusterA,clusterB) = min distance between any 2 points , 1 from A , 1 from B\n",
    "\n",
    "<img src=\"extras/15.2.PNG\"><img>\n",
    "\n",
    "in code it might look something like \n",
    "\n",
    "```python\n",
    "min_dist = Infinity\n",
    "for p1 in cluster1:\n",
    "    for p2 in cluster2:\n",
    "        min_dist = min(d(p1,p2),min_dist)\n",
    "```\n",
    "\n",
    "one downside is what we call the Chaining Effect , in which we just keep choosing the thing beside our current cluster , and in the end the total points are far apart (we will se this in the code section)\n",
    "\n",
    "2) Complete Linkage , this is the opposite of single linkage , here d(clusterA,clusterB) = max dist between any 2 points , 1 from A , 1 from B\n",
    "\n",
    "<img src=\"extras/15.3.PNG\"><img>\n",
    "\n",
    "in code \n",
    "\n",
    "```python\n",
    "max_dist = 0\n",
    "for p1 in cluster1:\n",
    "    for p2 in cluster2:\n",
    "        max_dist = max(d(p1,p2),max_dist)\n",
    "```\n",
    "\n",
    "3) Mean distane (UPGMA) : take the mean of the distances between every possible 2 points , one from A and 1 from B\n",
    "\n",
    "<img src=\"extras/15.4.PNG\"><img>\n",
    "\n",
    "in code \n",
    "\n",
    "```python\n",
    "dist = 0\n",
    "for p1 in cluster1:\n",
    "    for p2 in cluster2:\n",
    "        dist = d(p1,p2)\n",
    "dist = dist/(len(cluster1)*len(cluster2))\n",
    "```\n",
    "\n",
    "4) Ward's criterion : minimises increase in variance \n",
    "\n",
    "Here we look at each pair of clusters , and see how much the variance would increase if we join them together\n",
    "\n",
    "if clusters are very far apart , when they are joined together , the variance of the joined cluster will be very large , so we will avoid that by joining clusters that are close together\n",
    "\n",
    "SUM \\ of \\ squares \\ criterion:\n",
    "\n",
    "$$SS = \\sum_j \\sum_{i\\in R_j} (x_i-m_j)^2$$\n",
    "\n",
    "\n",
    "Merging cost:\n",
    "\n",
    "$$\\Delta = \\sum_i (x_i - \\bar x)^2 - \\sum_{i \\in A} {(x_i - a)}^2 - \\sum_{i \\in B}(x_i - \\bar b)^2$$\n",
    "\n",
    "$$= \\frac{n_a n_b}{n_a + n_b}(\\bar a - \\bar b)^2$$\n",
    "\n",
    "as we can see the merging cost equal to sum of squares of the merged cluster minus the sum of squares of each cluster alone\n",
    "\n",
    "The variance is the average of the sum of squares  "
   ]
  },
  {
   "cell_type": "markdown",
   "metadata": {},
   "source": [
    "<h1>Code</h1>"
   ]
  },
  {
   "cell_type": "code",
   "execution_count": 4,
   "metadata": {},
   "outputs": [],
   "source": [
    "import numpy as np\n",
    "import matplotlib.pyplot as plt\n",
    "\n",
    "from scipy.cluster.hierarchy import dendrogram , linkage"
   ]
  },
  {
   "cell_type": "code",
   "execution_count": 8,
   "metadata": {},
   "outputs": [
    {
     "data": {
      "image/png": "[encoded data removed]",
      "text/plain": [
       "<Figure size 432x288 with 1 Axes>"
      ]
     },
     "metadata": {
      "needs_background": "light"
     },
     "output_type": "display_data"
    }
   ],
   "source": [
    "D = 2  # number of dimensions\n",
    "s = 4 # how far apart means are\n",
    "N = 900 # number of samples\n",
    "\n",
    "# we will create 3 gaussian clouds\n",
    "\n",
    "mu1 = np.array([0,0])\n",
    "mu2 = np.array([s,s])\n",
    "mu3 = np.array([0,s])\n",
    "\n",
    "X = np.zeros((N,D))\n",
    "\n",
    "X[:300,:] = np.random.randn(300,D) + mu1\n",
    "X[300:600,:] = np.random.randn(300,D) + mu2\n",
    "X[600:,:] = np.random.randn(300,D) + mu3\n",
    "\n",
    "\n",
    "plt.scatter(X[:,0],X[:,1])\n",
    "plt.show()"
   ]
  },
  {
   "cell_type": "code",
   "execution_count": 9,
   "metadata": {},
   "outputs": [
    {
     "name": "stdout",
     "output_type": "stream",
     "text": [
      "Z.shape (899, 4)\n"
     ]
    },
    {
     "data": {
      "image/png": "[encoded data removed]",
      "text/plain": [
       "<Figure size 432x288 with 1 Axes>"
      ]
     },
     "metadata": {
      "needs_background": "light"
     },
     "output_type": "display_data"
    }
   ],
   "source": [
    "Z = linkage(X,'ward')\n",
    "print(\"Z.shape\",Z.shape)\n",
    "plt.title(\"ward\")\n",
    "dendrogram(Z)\n",
    "plt.show()"
   ]
  },
  {
   "cell_type": "code",
   "execution_count": 14,
   "metadata": {},
   "outputs": [
    {
     "name": "stdout",
     "output_type": "stream",
     "text": [
      "Z.shape (899, 4)\n"
     ]
    },
    {
     "data": {
      "image/png": "[encoded data removed]",
      "text/plain": [
       "<Figure size 432x288 with 1 Axes>"
      ]
     },
     "metadata": {
      "needs_background": "light"
     },
     "output_type": "display_data"
    }
   ],
   "source": [
    "Z = linkage(X,'single')\n",
    "print(\"Z.shape\",Z.shape)\n",
    "plt.title(\"sinlge\")\n",
    "dendrogram(Z)\n",
    "plt.show()"
   ]
  },
  {
   "cell_type": "code",
   "execution_count": 13,
   "metadata": {},
   "outputs": [],
   "source": [
    "# chaining effect happening"
   ]
  },
  {
   "cell_type": "code",
   "execution_count": 11,
   "metadata": {},
   "outputs": [
    {
     "name": "stdout",
     "output_type": "stream",
     "text": [
      "Z.shape (899, 4)\n"
     ]
    },
    {
     "data": {
      "image/png": "[encoded data removed]",
      "text/plain": [
       "<Figure size 432x288 with 1 Axes>"
      ]
     },
     "metadata": {
      "needs_background": "light"
     },
     "output_type": "display_data"
    }
   ],
   "source": [
    "Z = linkage(X,'complete')\n",
    "print(\"Z.shape\",Z.shape)\n",
    "plt.title(\"complete\")\n",
    "dendrogram(Z)\n",
    "plt.show()"
   ]
  },
  {
   "cell_type": "code",
   "execution_count": 17,
   "metadata": {},
   "outputs": [
    {
     "data": {
      "text/plain": [
       "array([[7.20000000e+02, 7.27000000e+02, 3.62876432e-03, 2.00000000e+00],\n",
       "       [6.34000000e+02, 6.99000000e+02, 5.56747169e-03, 2.00000000e+00],\n",
       "       [3.66000000e+02, 3.72000000e+02, 1.27053340e-02, 2.00000000e+00],\n",
       "       ...,\n",
       "       [2.58000000e+02, 1.79500000e+03, 8.20929381e-01, 8.98000000e+02],\n",
       "       [8.84000000e+02, 1.79600000e+03, 8.28912741e-01, 8.99000000e+02],\n",
       "       [8.02000000e+02, 1.79700000e+03, 8.32689592e-01, 9.00000000e+02]])"
      ]
     },
     "execution_count": 17,
     "metadata": {},
     "output_type": "execute_result"
    }
   ],
   "source": [
    "# the size of Z is (N-1)x4\n",
    "Z"
   ]
  },
  {
   "cell_type": "code",
   "execution_count": 18,
   "metadata": {},
   "outputs": [
    {
     "name": "stdout",
     "output_type": "stream",
     "text": [
      "Z.shape (899, 4)\n"
     ]
    },
    {
     "data": {
      "image/png": "[encoded data removed]",
      "text/plain": [
       "<Figure size 432x288 with 1 Axes>"
      ]
     },
     "metadata": {
      "needs_background": "light"
     },
     "output_type": "display_data"
    }
   ],
   "source": [
    "Z = linkage(X,'ward')\n",
    "print(\"Z.shape\",Z.shape)\n",
    "plt.title(\"ward\")\n",
    "dendrogram(Z)\n",
    "plt.show()"
   ]
  },
  {
   "cell_type": "code",
   "execution_count": 22,
   "metadata": {},
   "outputs": [],
   "source": [
    "# say we have n points\n",
    "# Z is (n-1)x4\n",
    "# convince yourself that for n samples the number of clusters in all levels is n-1 (not including points)\n",
    "# keeping in mind that the dendrogram is basically a binary tree so each parent cluster joins only 2 child clusters\n",
    "# Z[i,0] and Z[i,1] contain the indecies of clusters that joined to form a new cluster at iteration i, the cluster formed has index n+i\n",
    "# so a cluster with index less than n is actually a data point\n",
    "# Z[i,2] represents the distance between 2 child clusters\n",
    "# Z[i,3] represents number of elements in newly formed cluster"
   ]
  },
  {
   "cell_type": "markdown",
   "metadata": {},
   "source": [
    "<h1>Math</h1>"
   ]
  },
  {
   "cell_type": "markdown",
   "metadata": {},
   "source": [
    "In the next code sectionnow we will apply Hierarchical clustering to a new dataset , tweets\n",
    "\n",
    "Those are the tweets of Donald Trump and Hilary Clinton from around the 2016 election\n",
    "\n",
    "But how can we calculate distances between tweets ?\n",
    "\n",
    "we need a way to change each tweet into a vector, this is a very big topic which will be discussed thoroughly later when we reach NLP , for now we will quickly introduce a method called tf-idf and use sklearn instead of implementing it ourselves\n",
    "\n",
    "lets assume one tweet(or generally a document) has the following sentence : \"the dog chased the cat\"\n",
    "\n",
    "Then the word counts :\n",
    "\n",
    "the : 2\n",
    "\n",
    "dog : 1\n",
    "\n",
    "chased : 1\n",
    "\n",
    "cat : 1\n",
    "\n",
    "if we organise words in alpha-order we get\n",
    "(cat,chased,dog,the) $\\to$ (1,1,1,2) , and we obtain a vector\n",
    "\n",
    "But this approach has its cons , mainly , raw counts are problematic since in most documents some words show up a disproportionate number of times and most often these words are not important , ex \"the\" , \"a\",\"in\",\"this\"\n",
    "\n",
    "If we want to discriminate , for ex, between documents of physics and biology , then interesting words/features might be \"DNA\",\"mass\",\"gravity\" and we want these to have the high values\n",
    "\n",
    "so we have 2 problems , first in each document irrelevant words appear a lot more than relevant words , also irrelevant words show up in all documents\n",
    "\n",
    "TF-IDF = term-frequency inverse document frequency \n",
    "\n",
    "Term frequency = raw counts of words\n",
    "\n",
    "Inverse document = 1/(number of documents a word appears in)\n",
    "\n",
    "A word becomes interesting if it shows up often in just a few documents\n",
    "\n",
    "This will be discussed in detail later , for now its enough to understand the intuition and remember that this is a method to change documents to vectors "
   ]
  },
  {
   "cell_type": "code",
   "execution_count": 96,
   "metadata": {},
   "outputs": [],
   "source": [
    "# data link\n",
    "#https://www.kaggle.com/benhamner/clinton-trump-tweets/home\n",
    "import numpy as np\n",
    "import pandas as pd\n",
    "import re\n",
    "import matplotlib.pyplot as plt\n",
    "from scipy.spatial.distance import pdist\n",
    "from scipy.cluster.hierarchy import dendrogram , linkage , fcluster\n",
    "from sklearn.feature_extraction.text import TfidfVectorizer\n",
    "from sklearn.ensemble import RandomForestClassifier"
   ]
  },
  {
   "cell_type": "code",
   "execution_count": 2,
   "metadata": {},
   "outputs": [],
   "source": [
    "# list of stopwords to removed from tweets\n",
    "stopwords = ['the','about',\n",
    "  'an',\n",
    "  'and',\n",
    "  'are',\n",
    "  'at',\n",
    "  'be',\n",
    "  'can',\n",
    "  'for',\n",
    "  'from',\n",
    "  'if',\n",
    "  'in',\n",
    "  'is',\n",
    "  'it',\n",
    "  'of',\n",
    "  'on',\n",
    "  'or',\n",
    "  'that',\n",
    "  'this',\n",
    "  'to',\n",
    "  'you',\n",
    "  'your',\n",
    "  'with',\n",
    "]\n",
    "\n",
    "# using a pre-built stop-wrods list removes too many words leading to poor result\n",
    "# this may imply that  some words which people typically consider as stopwords are actually important"
   ]
  },
  {
   "cell_type": "code",
   "execution_count": 3,
   "metadata": {},
   "outputs": [],
   "source": [
    "# this will remove URLs and usernames \n",
    "# URLs are not that unique\n",
    "# usernames , maybe\n",
    "url_finder = re.compile(r\"(?:\\@|https?\\://)\\S+\")"
   ]
  },
  {
   "cell_type": "code",
   "execution_count": 4,
   "metadata": {},
   "outputs": [],
   "source": [
    "def filter_tweet(s):\n",
    "    s = s.lower() # lower case \n",
    "    s = url_finder.sub(\"\",s) # remove URLS and usernames\n",
    "    return s"
   ]
  },
  {
   "cell_type": "code",
   "execution_count": 5,
   "metadata": {},
   "outputs": [
    {
     "data": {
      "text/html": [
       "<div>\n",
       "<style scoped>\n",
       "    .dataframe tbody tr th:only-of-type {\n",
       "        vertical-align: middle;\n",
       "    }\n",
       "\n",
       "    .dataframe tbody tr th {\n",
       "        vertical-align: top;\n",
       "    }\n",
       "\n",
       "    .dataframe thead th {\n",
       "        text-align: right;\n",
       "    }\n",
       "</style>\n",
       "<table border=\"1\" class=\"dataframe\">\n",
       "  <thead>\n",
       "    <tr style=\"text-align: right;\">\n",
       "      <th></th>\n",
       "      <th>id</th>\n",
       "      <th>handle</th>\n",
       "      <th>text</th>\n",
       "      <th>is_retweet</th>\n",
       "      <th>original_author</th>\n",
       "      <th>time</th>\n",
       "      <th>in_reply_to_screen_name</th>\n",
       "      <th>in_reply_to_status_id</th>\n",
       "      <th>in_reply_to_user_id</th>\n",
       "      <th>is_quote_status</th>\n",
       "      <th>...</th>\n",
       "      <th>place_type</th>\n",
       "      <th>place_country_code</th>\n",
       "      <th>place_country</th>\n",
       "      <th>place_contained_within</th>\n",
       "      <th>place_attributes</th>\n",
       "      <th>place_bounding_box</th>\n",
       "      <th>source_url</th>\n",
       "      <th>truncated</th>\n",
       "      <th>entities</th>\n",
       "      <th>extended_entities</th>\n",
       "    </tr>\n",
       "  </thead>\n",
       "  <tbody>\n",
       "    <tr>\n",
       "      <th>0</th>\n",
       "      <td>780925634159796224</td>\n",
       "      <td>HillaryClinton</td>\n",
       "      <td>The question in this election: Who can put the...</td>\n",
       "      <td>False</td>\n",
       "      <td>NaN</td>\n",
       "      <td>2016-09-28T00:22:34</td>\n",
       "      <td>NaN</td>\n",
       "      <td>NaN</td>\n",
       "      <td>NaN</td>\n",
       "      <td>False</td>\n",
       "      <td>...</td>\n",
       "      <td>NaN</td>\n",
       "      <td>NaN</td>\n",
       "      <td>NaN</td>\n",
       "      <td>NaN</td>\n",
       "      <td>NaN</td>\n",
       "      <td>NaN</td>\n",
       "      <td>https://studio.twitter.com</td>\n",
       "      <td>False</td>\n",
       "      <td>{'media': [{'display_url': 'pic.twitter.com/Xr...</td>\n",
       "      <td>{'media': [{'display_url': 'pic.twitter.com/Xr...</td>\n",
       "    </tr>\n",
       "    <tr>\n",
       "      <th>1</th>\n",
       "      <td>780916180899037184</td>\n",
       "      <td>HillaryClinton</td>\n",
       "      <td>Last night, Donald Trump said not paying taxes...</td>\n",
       "      <td>True</td>\n",
       "      <td>timkaine</td>\n",
       "      <td>2016-09-27T23:45:00</td>\n",
       "      <td>NaN</td>\n",
       "      <td>NaN</td>\n",
       "      <td>NaN</td>\n",
       "      <td>False</td>\n",
       "      <td>...</td>\n",
       "      <td>NaN</td>\n",
       "      <td>NaN</td>\n",
       "      <td>NaN</td>\n",
       "      <td>NaN</td>\n",
       "      <td>NaN</td>\n",
       "      <td>NaN</td>\n",
       "      <td>http://twitter.com</td>\n",
       "      <td>False</td>\n",
       "      <td>{'media': [{'display_url': 'pic.twitter.com/t0...</td>\n",
       "      <td>{'media': [{'display_url': 'pic.twitter.com/t0...</td>\n",
       "    </tr>\n",
       "    <tr>\n",
       "      <th>2</th>\n",
       "      <td>780911564857761793</td>\n",
       "      <td>HillaryClinton</td>\n",
       "      <td>Couldn't be more proud of @HillaryClinton. Her...</td>\n",
       "      <td>True</td>\n",
       "      <td>POTUS</td>\n",
       "      <td>2016-09-27T23:26:40</td>\n",
       "      <td>NaN</td>\n",
       "      <td>NaN</td>\n",
       "      <td>NaN</td>\n",
       "      <td>False</td>\n",
       "      <td>...</td>\n",
       "      <td>NaN</td>\n",
       "      <td>NaN</td>\n",
       "      <td>NaN</td>\n",
       "      <td>NaN</td>\n",
       "      <td>NaN</td>\n",
       "      <td>NaN</td>\n",
       "      <td>https://about.twitter.com/products/tweetdeck</td>\n",
       "      <td>False</td>\n",
       "      <td>{'user_mentions': [{'id_str': '1536791610', 'n...</td>\n",
       "      <td>NaN</td>\n",
       "    </tr>\n",
       "    <tr>\n",
       "      <th>3</th>\n",
       "      <td>780907038650068994</td>\n",
       "      <td>HillaryClinton</td>\n",
       "      <td>If we stand together, there's nothing we can't...</td>\n",
       "      <td>False</td>\n",
       "      <td>NaN</td>\n",
       "      <td>2016-09-27T23:08:41</td>\n",
       "      <td>NaN</td>\n",
       "      <td>NaN</td>\n",
       "      <td>NaN</td>\n",
       "      <td>False</td>\n",
       "      <td>...</td>\n",
       "      <td>NaN</td>\n",
       "      <td>NaN</td>\n",
       "      <td>NaN</td>\n",
       "      <td>NaN</td>\n",
       "      <td>NaN</td>\n",
       "      <td>NaN</td>\n",
       "      <td>https://studio.twitter.com</td>\n",
       "      <td>False</td>\n",
       "      <td>{'media': [{'display_url': 'pic.twitter.com/Q3...</td>\n",
       "      <td>{'media': [{'display_url': 'pic.twitter.com/Q3...</td>\n",
       "    </tr>\n",
       "    <tr>\n",
       "      <th>4</th>\n",
       "      <td>780897419462602752</td>\n",
       "      <td>HillaryClinton</td>\n",
       "      <td>Both candidates were asked about how they'd co...</td>\n",
       "      <td>False</td>\n",
       "      <td>NaN</td>\n",
       "      <td>2016-09-27T22:30:27</td>\n",
       "      <td>NaN</td>\n",
       "      <td>NaN</td>\n",
       "      <td>NaN</td>\n",
       "      <td>False</td>\n",
       "      <td>...</td>\n",
       "      <td>NaN</td>\n",
       "      <td>NaN</td>\n",
       "      <td>NaN</td>\n",
       "      <td>NaN</td>\n",
       "      <td>NaN</td>\n",
       "      <td>NaN</td>\n",
       "      <td>https://about.twitter.com/products/tweetdeck</td>\n",
       "      <td>False</td>\n",
       "      <td>{'user_mentions': [], 'symbols': [], 'urls': [...</td>\n",
       "      <td>NaN</td>\n",
       "    </tr>\n",
       "  </tbody>\n",
       "</table>\n",
       "<p>5 rows × 28 columns</p>\n",
       "</div>"
      ],
      "text/plain": [
       "                   id          handle  \\\n",
       "0  780925634159796224  HillaryClinton   \n",
       "1  780916180899037184  HillaryClinton   \n",
       "2  780911564857761793  HillaryClinton   \n",
       "3  780907038650068994  HillaryClinton   \n",
       "4  780897419462602752  HillaryClinton   \n",
       "\n",
       "                                                text  is_retweet  \\\n",
       "0  The question in this election: Who can put the...       False   \n",
       "1  Last night, Donald Trump said not paying taxes...        True   \n",
       "2  Couldn't be more proud of @HillaryClinton. Her...        True   \n",
       "3  If we stand together, there's nothing we can't...       False   \n",
       "4  Both candidates were asked about how they'd co...       False   \n",
       "\n",
       "  original_author                 time in_reply_to_screen_name  \\\n",
       "0             NaN  2016-09-28T00:22:34                     NaN   \n",
       "1        timkaine  2016-09-27T23:45:00                     NaN   \n",
       "2           POTUS  2016-09-27T23:26:40                     NaN   \n",
       "3             NaN  2016-09-27T23:08:41                     NaN   \n",
       "4             NaN  2016-09-27T22:30:27                     NaN   \n",
       "\n",
       "   in_reply_to_status_id  in_reply_to_user_id  is_quote_status  ...  \\\n",
       "0                    NaN                  NaN            False  ...   \n",
       "1                    NaN                  NaN            False  ...   \n",
       "2                    NaN                  NaN            False  ...   \n",
       "3                    NaN                  NaN            False  ...   \n",
       "4                    NaN                  NaN            False  ...   \n",
       "\n",
       "  place_type  place_country_code  place_country  place_contained_within  \\\n",
       "0        NaN                 NaN            NaN                     NaN   \n",
       "1        NaN                 NaN            NaN                     NaN   \n",
       "2        NaN                 NaN            NaN                     NaN   \n",
       "3        NaN                 NaN            NaN                     NaN   \n",
       "4        NaN                 NaN            NaN                     NaN   \n",
       "\n",
       "   place_attributes place_bounding_box  \\\n",
       "0               NaN                NaN   \n",
       "1               NaN                NaN   \n",
       "2               NaN                NaN   \n",
       "3               NaN                NaN   \n",
       "4               NaN                NaN   \n",
       "\n",
       "                                     source_url truncated  \\\n",
       "0                    https://studio.twitter.com     False   \n",
       "1                            http://twitter.com     False   \n",
       "2  https://about.twitter.com/products/tweetdeck     False   \n",
       "3                    https://studio.twitter.com     False   \n",
       "4  https://about.twitter.com/products/tweetdeck     False   \n",
       "\n",
       "                                            entities  \\\n",
       "0  {'media': [{'display_url': 'pic.twitter.com/Xr...   \n",
       "1  {'media': [{'display_url': 'pic.twitter.com/t0...   \n",
       "2  {'user_mentions': [{'id_str': '1536791610', 'n...   \n",
       "3  {'media': [{'display_url': 'pic.twitter.com/Q3...   \n",
       "4  {'user_mentions': [], 'symbols': [], 'urls': [...   \n",
       "\n",
       "                                   extended_entities  \n",
       "0  {'media': [{'display_url': 'pic.twitter.com/Xr...  \n",
       "1  {'media': [{'display_url': 'pic.twitter.com/t0...  \n",
       "2                                                NaN  \n",
       "3  {'media': [{'display_url': 'pic.twitter.com/Q3...  \n",
       "4                                                NaN  \n",
       "\n",
       "[5 rows x 28 columns]"
      ]
     },
     "execution_count": 5,
     "metadata": {},
     "output_type": "execute_result"
    }
   ],
   "source": [
    "df = pd.read_csv('datasets/tweets.csv')\n",
    "df.head()"
   ]
  },
  {
   "cell_type": "code",
   "execution_count": 6,
   "metadata": {},
   "outputs": [],
   "source": [
    "# covert tweets to list\n",
    "text = df.text.tolist()\n",
    "# filter tweets\n",
    "text = [filter_tweet(s) for s in text]"
   ]
  },
  {
   "cell_type": "code",
   "execution_count": 7,
   "metadata": {},
   "outputs": [],
   "source": [
    "# now vectorise\n",
    "tfidf = TfidfVectorizer(max_features=100,stop_words = stopwords)\n",
    "# notice how we limit features to 100 , which will speed up things\n",
    "# since the features are actually words we are limiting the vocabulary size\n",
    "# the words chosen are those with the highest frequency count\n",
    "# this is why it is important to remove words we beleive are non-important if possible like stopwords\n",
    "# so we prevent them from making it to feature vectors list instead of an important words\n",
    "# tfidf vectoriser returns a sparse matrix , we change it to an array\n",
    "# it does this because most of values end up being 0 , and so a sparse matrix is more effecient\n",
    "X = tfidf.fit_transform(text).todense()"
   ]
  },
  {
   "cell_type": "code",
   "execution_count": 27,
   "metadata": {},
   "outputs": [],
   "source": [
    "# in order to do Hierarchial clustering we need to calculate pairwise distances is O(N^2)\n",
    "# so we eed to subsample the data or it gets extremely slow \n",
    "N = X.shape[0]\n",
    "idx = np.random.choice(N,size=2000,replace=False)\n",
    "x = X[idx]\n",
    "labels = df.handle[idx].to_numpy()"
   ]
  },
  {
   "cell_type": "code",
   "execution_count": 28,
   "metadata": {},
   "outputs": [
    {
     "name": "stdout",
     "output_type": "stream",
     "text": [
      "proportion @realDonaldTrump 0.496\n",
      "proportion @HillaryClinton 0.504\n"
     ]
    }
   ],
   "source": [
    "# now we check that Trumps and clintons tweets are equally represented\n",
    "pTrump = (\"realDonaldTrump\" == labels).mean()\n",
    "print(\"proportion @realDonaldTrump %.3f\" % pTrump)\n",
    "print(\"proportion @HillaryClinton %.3f\" % (1-pTrump))"
   ]
  },
  {
   "cell_type": "code",
   "execution_count": 29,
   "metadata": {},
   "outputs": [],
   "source": [
    "# transform data matrix into pairwise distance list\n",
    "# we dont have to do this since linkage can handle a raw data matrix\n",
    "dist_array = pdist(x)"
   ]
  },
  {
   "cell_type": "code",
   "execution_count": 30,
   "metadata": {},
   "outputs": [
    {
     "data": {
      "image/png": "[encoded data removed]",
      "text/plain": [
       "<Figure size 432x288 with 1 Axes>"
      ]
     },
     "metadata": {
      "needs_background": "light"
     },
     "output_type": "display_data"
    }
   ],
   "source": [
    "Z = linkage(dist_array,\"ward\")\n",
    "plt.title(\"Ward\")\n",
    "dendrogram(Z,labels=labels)\n",
    "plt.show()"
   ]
  },
  {
   "cell_type": "code",
   "execution_count": 79,
   "metadata": {},
   "outputs": [],
   "source": [
    "#clearly we can see tweets belong to 2 distinct clusters\n",
    "# now we want to calculate purity\n",
    "\n",
    "# first we create labels from 1..k , since scipy returns cluster assignments as integers from 1,...,k\n",
    "T = labels\n",
    "T[T == \"realDonaldTrump\"] = 1\n",
    "T[T == \"HillaryClinton\"] = 2"
   ]
  },
  {
   "cell_type": "code",
   "execution_count": 80,
   "metadata": {},
   "outputs": [],
   "source": [
    "# now we get cluster assignments\n",
    "# by looking at dendogram we can set a threshold of 9 to decide clusters\n",
    "Y = fcluster(Z,9,criterion='distance')\n",
    "# return values 1,..,k"
   ]
  },
  {
   "cell_type": "code",
   "execution_count": 84,
   "metadata": {},
   "outputs": [],
   "source": [
    "def purity(T,Y):\n",
    "    N = len(T)\n",
    "    total = 0.0\n",
    "    for k in set(T): # for each label\n",
    "        max_intersection = 0.0\n",
    "        for j in set(T):\n",
    "            intersection = ((Y==k) & (T==j)).sum()\n",
    "            if intersection > max_intersection:\n",
    "                max_intersection = intersection\n",
    "        total += max_intersection\n",
    "    return total / N    "
   ]
  },
  {
   "cell_type": "code",
   "execution_count": 85,
   "metadata": {},
   "outputs": [
    {
     "name": "stdout",
     "output_type": "stream",
     "text": [
      "purity : 0.5615\n"
     ]
    }
   ],
   "source": [
    "print(\"purity :\",purity(T,Y))"
   ]
  },
  {
   "cell_type": "code",
   "execution_count": 93,
   "metadata": {},
   "outputs": [
    {
     "name": "stdout",
     "output_type": "stream",
     "text": [
      "percentage Donald in first cluster:  0.9461538461538461\n",
      "percentage Clinton in first cluster:  0.05384615384615388\n"
     ]
    }
   ],
   "source": [
    "# lets consider each cluster alone\n",
    "# cluster 1\n",
    "actually_donald = ((Y==1)&(T==1)).sum()\n",
    "p_donald =  actually_donald / (Y==1).sum()\n",
    "print(\"percentage Donald in first cluster: \",p_donald)\n",
    "print(\"percentage Clinton in first cluster: \",1-p_donald)"
   ]
  },
  {
   "cell_type": "code",
   "execution_count": 94,
   "metadata": {},
   "outputs": [
    {
     "name": "stdout",
     "output_type": "stream",
     "text": [
      "percentage Donald in second cluster:  0.5347593582887701\n",
      "percentage Donald in second cluster:  0.4652406417112299\n"
     ]
    }
   ],
   "source": [
    "# so we know for sure the first cluster is for Donald Trump\n",
    "# now lwets consider the seconds one\n",
    "actually_donald = ((Y==2)&(T==2)).sum()\n",
    "p_donald =  actually_donald / (Y==2).sum()\n",
    "print(\"percentage Donald in second cluster: \",p_donald)\n",
    "print(\"percentage Donald in second cluster: \",1-p_donald)"
   ]
  },
  {
   "cell_type": "code",
   "execution_count": 95,
   "metadata": {},
   "outputs": [],
   "source": [
    "# Clintons cluster is not as pure as Trump cluster\n",
    "# this align with our prior knowledge of elections , Trump had a simple repetitve memish message"
   ]
  },
  {
   "cell_type": "code",
   "execution_count": 98,
   "metadata": {},
   "outputs": [
    {
     "name": "stdout",
     "output_type": "stream",
     "text": [
      "Classifier score 0.9553072625698324\n"
     ]
    }
   ],
   "source": [
    "# lets compare this with a classifier \n",
    "rf = RandomForestClassifier()\n",
    "rf.fit(X,df.handle)\n",
    "print('Classifier score',rf.score(X,df.handle))\n",
    "# so with a classifier we get 95% accuracy "
   ]
  },
  {
   "cell_type": "code",
   "execution_count": 143,
   "metadata": {},
   "outputs": [],
   "source": [
    "# finally we want to know the most representetive words in each cluster\n",
    "w2i = tfidf.vocabulary_\n",
    "# get average vector in Donald Trump cluster\n",
    "# so the higher the value of the word (given by tfidf) and the more it is repeated\n",
    "# the greater its value will be in d_avg\n",
    "d_avg = x[C==1].mean(axis=0)\n",
    "d_avg = np.squeeze(np.array(d_avg))\n",
    "# sort words by values in d_avg\n",
    "# w2i[w] is the index of the word , d_avg[w2i[w]] is average value of this word\n",
    "# sorted sorts ascendingly , so we use -d_avg so that larger values appear first \n",
    "d_sorted = sorted(w2i.keys(),key=lambda w: -d_avg[w2i[w]])"
   ]
  },
  {
   "cell_type": "code",
   "execution_count": 144,
   "metadata": {},
   "outputs": [
    {
     "name": "stdout",
     "output_type": "stream",
     "text": [
      "Top 10 'Donal cluster ' words \n",
      "\n",
      "thank\n",
      "trump2016\n",
      "makeamericagreatagain\n",
      "new\n",
      "america\n",
      "great\n",
      "will\n",
      "just\n",
      "trump\n",
      "by\n"
     ]
    }
   ],
   "source": [
    "print(\"Top 10 'Donal cluster ' words \\n\")\n",
    "print(\"\\n\".join(d_sorted[:10]))"
   ]
  },
  {
   "cell_type": "code",
   "execution_count": 145,
   "metadata": {},
   "outputs": [
    {
     "name": "stdout",
     "output_type": "stream",
     "text": [
      "Top 10 'Clinton Cluster' words \n",
      "\n",
      "trump\n",
      "hillary\n",
      "we\n",
      "will\n",
      "our\n",
      "not\n",
      "he\n",
      "great\n",
      "donald\n",
      "was\n"
     ]
    }
   ],
   "source": [
    "d_avg = x[C==2].mean(axis=0)\n",
    "d_avg = np.squeeze(np.array(d_avg))\n",
    "d_sorted = sorted(w2i.keys(),key=lambda w: -d_avg[w2i[w]])\n",
    "print(\"Top 10 'Clinton Cluster' words \\n\")\n",
    "print(\"\\n\".join(d_sorted[:10]))"
   ]
  },
  {
   "cell_type": "code",
   "execution_count": null,
   "metadata": {},
   "outputs": [],
   "source": [
    "# once again this confirms what we know\n",
    "# Trumps campaign was charecterised by very memorable and repetitive slogans\n",
    "# on the other hand words in Clinton's campaign are not s memish as thos in Trump's "
   ]
  }
 ],
 "metadata": {
  "kernelspec": {
   "display_name": "Python 3",
   "language": "python",
   "name": "python3"
  },
  "language_info": {
   "codemirror_mode": {
    "name": "ipython",
    "version": 3
   },
   "file_extension": ".py",
   "mimetype": "text/x-python",
   "name": "python",
   "nbconvert_exporter": "python",
   "pygments_lexer": "ipython3",
   "version": "3.8.2"
  }
 },
 "nbformat": 4,
 "nbformat_minor": 4
}
