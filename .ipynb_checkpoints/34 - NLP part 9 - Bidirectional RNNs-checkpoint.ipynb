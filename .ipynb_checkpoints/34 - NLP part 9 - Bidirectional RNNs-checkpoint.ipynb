{
 "cells": [
  {
   "cell_type": "markdown",
   "metadata": {},
   "source": [
    "<h1>Math</h1>"
   ]
  },
  {
   "cell_type": "markdown",
   "metadata": {},
   "source": [
    "In this notebook we are going to look at bidirectional RNNs\n",
    "\n",
    "This should be rather short, since the idea behind it isnt to complicated nor is the code\n",
    "\n",
    "However, despite being so simple bidirectional RNNs are an easy way to imporve our NN's ability to learn\n",
    "\n",
    "And there is good practical motivation for this, so thats what we are going to look at\n",
    "\n",
    "---\n",
    "\n",
    "<h3>Bidirectional RNNs</h3>\n",
    "\n",
    "So first lets talk about motivation\n",
    "\n",
    "Why is there a need for bidirectional RNNs in the first place ?\n",
    "\n",
    "It helps to put this into the xonttext of an NLP task, such as NER (Named Entity Recognition)\n",
    "\n",
    "This is a task where we try to extract named entities such as people, companies, dates, times and so on\n",
    "\n",
    "consider the sentence\n",
    "\n",
    "\"<strong>General</strong> relativity is an exciting theory about the physics of space and time\"\n",
    "\n",
    "In this sentence, the word general wouldnt be labeled as anything since it is not a person, its not a company, its not a date or a time or a location\n",
    "\n",
    "Now consider the sentence\n",
    "\n",
    "\"<strong>General Zod</strong> is an enemy of <strong>Superman</strong>\"\n",
    "\n",
    "In this sentence, we might mark \"General Zod\" as a Person, since thats how we refer to the character in the Superman comics\n",
    "\n",
    "Now consider the sentence\n",
    "\n",
    "\"<strong>General Motors</strong> manufactures cars and trucks\"\n",
    "\n",
    "In this sentence, \"General Motors\" is a company (Org)\n",
    "\n",
    "---\n",
    "\n",
    "so in all three of these cases, the word \"General\" would be tagged as something else\n",
    "\n",
    "But the problem is, the word \"General\" appears at the beginning of the sentence\n",
    "\n",
    "<ul>\n",
    "    <li>General relativity is an exciting theory about the physics of space and time</li>\n",
    "    <li>General Zod is an enemy of Superman</li>\n",
    "    <li>General Motors manufactures cars and trucks</li>\n",
    "</ul>\n",
    "\n",
    "which means our LSTM or GRU wont see any of the other words of the sentence before it has an opportunity to make a prediction on the word \"General\"\n",
    "\n",
    "of course we as humans can easily see that the word \"General\" has a different role in all three setneces, because we can see the whole sentence simultaneously\n",
    "\n",
    "so, how do we solve this problem ?\n",
    "\n",
    "---\n",
    "\n",
    "well given that this notebook is all about Bidirectional RNNs, then the we should have guessed by now that the solution to this is to use Bidirectional RNNs (tadaaa !)\n",
    "\n",
    "so lets look at how a bidirectional RNN works\n",
    "\n",
    "the basic idea is this, we first do a normal RNN calculation as usual\n",
    "\n",
    "<img src='extras/34.1.PNG' width='450'></img>\n",
    "\n",
    "lets pretend, for simplicity sake, we are using an RNN or a GRU so there is only one hidden state which we will call $h_t$\n",
    "\n",
    "notice how in this special circumstance, we draw arrows over the $h$s, the reason why will become apparent soon\n",
    "\n",
    "ok, so these $h$s are just what we get with the regular RNN going forward in time\n",
    "\n",
    "---\n",
    "\n",
    "Now suppose we had another RNN, but this time we calculated all the $h$s in reverse\n",
    "\n",
    "<img src='extras/34.2.PNG' width='450'></img>\n",
    "\n",
    "so we start with $h_T$ then we calculate $h_{T-1}$  and we work all the way back to $h_1$\n",
    "\n",
    "notice how these arrows are facing backwards, to denote that, with this RNN we have calculated the hidden states by looking at the input sequence in reverse\n",
    "\n",
    "and of course this idea of going backwards, helps us solve our problem of accurately marking the named entity for the word \"General\" that appeared at the beginning of our example sentences\n",
    "\n",
    "---\n",
    "\n",
    "So a Bidirectional RNN is an RNN where we just calculate both the forward $\\overrightarrow{h}$s and the backward $\\overleftarrow{h}$s at the same time\n",
    "\n",
    "<img src='extras/34.3.PNG' width='450'></img>\n",
    "\n",
    "to get the final output, we just concatenate these vectors together\n",
    "\n",
    "$$\\large h_t = \\bigg[\\overrightarrow{h_t},\\overleftarrow{h_t}\\bigg]$$\n",
    "\n",
    "so if the layer size of each individual RNN is $M$, then $\\overrightarrow{h}$s will give us a sequence of size $T \\times M$ and $\\overleftarrow{h}$s will also give us a sequence of size of $T \\times M$\n",
    "\n",
    "Agter concatenating them, we will, of course, get a sequence of size $T \\times 2M$\n",
    "\n",
    "or we can think of it as, $h_t$ is a vector of size $2M$ and we have $T$ of them\n",
    "\n",
    "---\n",
    "\n",
    "<h3>Many-to-one</h3>\n",
    "\n",
    "One think we might recall from before (notebook 32) where we talked about many-to-one problems such as spam classification, we have several options for which hidden state we want to look at to get the final output\n",
    "\n",
    "<img src='extras/34.4.PNG' width='600'></img>\n",
    "\n",
    "One of those oprions was just to get the final $h_T$ at the end of the input sequence since that would mean that we have read all the words in the input\n",
    "\n",
    "well, we can see that this does not quite make sense in a Bidirectional RNN\n",
    "\n",
    "for the sequence going backwards, $\\overleftarrow{h_t}$ has only looked at one word, the final word in the sequence\n",
    "\n",
    "so in this case what makes more sense ?\n",
    "\n",
    "what we will do in this scenario is that we will take $\\overrightarrow{h_T}$ and $\\overleftarrow{h_1}$ and concatenate these two together to get what we are going to call the output of the RNN unit\n",
    "\n",
    "$$\\large h_t = \\bigg[\\overrightarrow{h_T},\\overleftarrow{h_1}\\bigg]$$\n",
    "\n",
    "in this case, both the forward RNN and the backward RNN have seen all the words in the sentence\n",
    "\n",
    "from this we can pass it into the dense layer, calculate $y$ and so on\n",
    "\n",
    "In fact this is the default behaviour in keras, if ```return_sequences=False``` (we are going to see this in code)\n",
    "\n",
    "---\n",
    "\n",
    "of course we do know of one other way to deal with many-to-one tasks, and that is to just consider all the hidden states at a time\n",
    "\n",
    "this takes into account all the hidden states and just takes the max, just like what we would do in a CNN (and thus instructor's preference)\n",
    "\n",
    "$$ out = \\max_t h_t$$\n",
    "\n",
    "in fact, this kind of thinking is going to come in handy later, when we take about Attention\n",
    "\n",
    "the basic idea is this, any of these hidden states could be useful so lets try to pick the best one\n",
    "\n",
    "in this scenario, all we do is take the max of $h_t$ over all time, pass this through a dense layer and get out output prediction\n",
    "\n",
    "---\n",
    "\n",
    "<h3>In Keras</h3>\n",
    "\n",
    "One cool thing about the bidirectional RNN is that it requires almost zero changes to our code\n",
    "\n",
    "we use what is called a wrapper layer in Keras, how this works is, anywhere we see an RNN layer like ```LSTM(M)```, we just wrap that with a bidirectional layer ```Bidirectional(LSTM(M))```, and that automatically makes it a bidirectional LSTM\n",
    "\n",
    "so keras makes things supereasy for us if we want to use Bidirectional RNNs\n",
    "\n",
    "just like when we looked at normal LSMTs and GRUs, there is some nuance when it comes to debugging code\n",
    "\n",
    "what exactly does a Bidirectional RNN return if we set ```return_state``` and ```return_sequences``` to True/False\n",
    "\n",
    "In the next code section we will do a simple test to explore the API of the bidirectional RNN in keras\n",
    "\n",
    "---\n",
    "\n",
    "<h3>When not to use a Bidirectional RNN</h3>\n",
    "\n",
    "One last thing we want to mention is that, while Bidirectional RNNs are powerful, there may be some situations where using one is not appropriate\n",
    "\n",
    "In genreal, Bidirectional RNNs should not be used when our task is to predict the future\n",
    "\n",
    "if we are trying to predict tomorrow's stock price or whether for example or if we are trying to predict who is going to win the next big tennis match, in these types of situations where we have to predict something from the future it doesnot make sense to use a Bidirectional RNN because that would require having data from even further into the future, which of course is not possible\n",
    "\n",
    "so we dont use Bidirectional RNNs to predict the future\n",
    "\n",
    "For NLP it makes sense because generally, we get to see the entire input seqeunce all at once"
   ]
  },
  {
   "cell_type": "markdown",
   "metadata": {},
   "source": [
    "<h1>code</h1>"
   ]
  },
  {
   "cell_type": "code",
   "execution_count": 1,
   "metadata": {},
   "outputs": [],
   "source": [
    "# so we basically look at whats returned, thats the shape of each thing, and what effects do the arguments have\n",
    "from tensorflow.keras.models import Model\n",
    "from tensorflow.keras.layers import Input,LSTM,GRU,Bidirectional\n",
    "import numpy as np"
   ]
  },
  {
   "cell_type": "code",
   "execution_count": 11,
   "metadata": {},
   "outputs": [],
   "source": [
    "T = 8 # sequence length\n",
    "D = 2 # input dimensionality\n",
    "M = 3 # latent dimensionality\n",
    "\n",
    "X = np.random.randn(1,T,D) # one input sequence"
   ]
  },
  {
   "cell_type": "code",
   "execution_count": 12,
   "metadata": {},
   "outputs": [],
   "source": [
    "# create our model\n",
    "# two experiments with return_state=True\n",
    "# first experiment : return_sequences=True\n",
    "# second experiment : return_sequences=False\n",
    "input_ = Input(shape=(T,D))\n",
    "rnn = Bidirectional(LSTM(M,return_state=True,return_sequences=True))\n",
    "x = rnn(input_)\n",
    "\n",
    "model = Model(input_,x)"
   ]
  },
  {
   "cell_type": "code",
   "execution_count": 13,
   "metadata": {},
   "outputs": [
    {
     "name": "stdout",
     "output_type": "stream",
     "text": [
      "o [[[-0.04809046 -0.04750615  0.06153975  0.11790699 -0.12269498\n",
      "    0.06011644]\n",
      "  [-0.09302795 -0.14974168  0.1257619   0.04397364 -0.06537843\n",
      "   -0.04541238]\n",
      "  [ 0.07669261  0.14032972 -0.0185649  -0.00287098  0.01367933\n",
      "   -0.20762715]\n",
      "  [ 0.2626414   0.2022909  -0.22558816  0.02559306  0.02329346\n",
      "   -0.07691372]\n",
      "  [ 0.27084756  0.27851665 -0.16722026  0.05964515 -0.05614446\n",
      "    0.08746254]\n",
      "  [ 0.16887458  0.11743172  0.04004222  0.03000818 -0.04737357\n",
      "    0.13269912]\n",
      "  [ 0.0577307   0.17692216  0.00513203  0.03962826 -0.04912725\n",
      "    0.07995328]\n",
      "  [-0.09268878  0.01443559  0.11351901 -0.00334075  0.01137632\n",
      "    0.11271737]]]\n",
      "o.shape (1, 8, 6)\n",
      "h1 [[-0.09268878  0.01443559  0.11351901]]\n",
      "c1 [[-0.13154662  0.02627203  0.41971704]]\n",
      "h2 [[ 0.11790699 -0.12269498  0.06011644]]\n",
      "c2 [[ 0.23106983 -0.34563363  0.12644002]]\n"
     ]
    }
   ],
   "source": [
    "o,h1,c1,h2,c2 = model.predict(X)\n",
    "\n",
    "print('o',o) # output\n",
    "print('o.shape',o.shape)\n",
    "print('h1',h1) # hidden state of forward LSTM\n",
    "print('c1',c1) # cell state of backward LSTM\n",
    "print('h2',h2) # hidden state of backward LSTM\n",
    "print('c2',c2) # cell state of backward LSTM"
   ]
  },
  {
   "cell_type": "code",
   "execution_count": 14,
   "metadata": {},
   "outputs": [
    {
     "name": "stdout",
     "output_type": "stream",
     "text": [
      "h1 - first M elements of o[-1]\n",
      "[[-0.09268878  0.01443559  0.11351901]] [-0.09268878  0.01443559  0.11351901]\n",
      "h2 - last M elements of o[0]\n",
      "[[ 0.11790699 -0.12269498  0.06011644]] [ 0.11790699 -0.12269498  0.06011644]\n"
     ]
    }
   ],
   "source": [
    "# ok so this is pretty interesting\n",
    "# one thing we remember from our previous study \n",
    "# is that the hidden state should correspond to the last output\n",
    "# sicne the output simply contains the hidden state at each time step\n",
    "\n",
    "# so h1 (which is h(T) of forward Bi-LSTM) is the same as the first 3 elements of o[-1]\n",
    "print('h1 - first M elements of o[-1]')\n",
    "print(h1,o[0][-1][:M])\n",
    "\n",
    "# and h2 (which is h(1) of backward Bi-LSTM) is the sane as last 3 elements of o[0]\n",
    "print('h2 - last M elements of o[0]')\n",
    "print(h2,o[0][0][-M:])"
   ]
  },
  {
   "cell_type": "code",
   "execution_count": 15,
   "metadata": {},
   "outputs": [],
   "source": [
    "# now again with return seuqences = False\n",
    "input_ = Input(shape=(T,D))\n",
    "rnn = Bidirectional(LSTM(M,return_state=True,return_sequences=False))\n",
    "x = rnn(input_)\n",
    "\n",
    "model = Model(input_,x)"
   ]
  },
  {
   "cell_type": "code",
   "execution_count": 16,
   "metadata": {},
   "outputs": [
    {
     "name": "stdout",
     "output_type": "stream",
     "text": [
      "o [[ 0.00322486  0.05881823 -0.01087529 -0.21382873 -0.06509628 -0.08188722]]\n",
      "o.shape (1, 6)\n",
      "h1 [[ 0.00322486  0.05881823 -0.01087529]]\n",
      "c1 [[ 0.00588418  0.12177576 -0.03013453]]\n",
      "h2 [[-0.21382873 -0.06509628 -0.08188722]]\n",
      "c2 [[-0.31919807 -0.18827742 -0.12180948]]\n"
     ]
    }
   ],
   "source": [
    "o,h1,c1,h2,c2 = model.predict(X)\n",
    "\n",
    "print('o',o) # output\n",
    "print('o.shape',o.shape)\n",
    "print('h1',h1) # hidden state of forward LSTM\n",
    "print('c1',c1) # cell state of backward LSTM\n",
    "print('h2',h2) # hidden state of backward LSTM\n",
    "print('c2',c2) # cell state of backward LSTM"
   ]
  },
  {
   "cell_type": "code",
   "execution_count": 17,
   "metadata": {},
   "outputs": [],
   "source": [
    "# as expected, the output is jsut the concatenation of h1 and h2\n",
    "# but what's weird about this from a programming persepctive \n",
    "# is that its a weird mix of the output we get when we returned it as a sequence\n",
    "# so its not just the last row of that seqeucne, \n",
    "# its instead the first part of the last row and the second part of the first row \n",
    "# concatenated together"
   ]
  },
  {
   "cell_type": "code",
   "execution_count": 18,
   "metadata": {},
   "outputs": [],
   "source": [
    "# next lets redo our toxic comments example using Bi-LSTMs"
   ]
  },
  {
   "cell_type": "markdown",
   "metadata": {},
   "source": [
    "<h1>code</h1>"
   ]
  },
  {
   "cell_type": "code",
   "execution_count": 1,
   "metadata": {},
   "outputs": [],
   "source": [
    "import pandas as pd\n",
    "import numpy as np\n",
    "import matplotlib.pyplot as plt\n",
    "from tensorflow.keras.preprocessing.text import Tokenizer\n",
    "from tensorflow.keras.preprocessing.sequence import pad_sequences\n",
    "from tensorflow.keras.layers import Dense,Input,LSTM,GlobalMaxPool1D,Embedding,Bidirectional\n",
    "from tensorflow.keras.models import Model\n",
    "from sklearn.metrics import roc_auc_score\n",
    "import tensorflow as tf"
   ]
  },
  {
   "cell_type": "code",
   "execution_count": 2,
   "metadata": {},
   "outputs": [],
   "source": [
    "MAX_SEQUENCE_LENGTH = 100\n",
    "MAX_VOCAB_SIZE = 20000\n",
    "EMBEDDING_DIM = 100 # we will be using GloVe [50,100,200,300]\n",
    "VALIDATION_SPLIT = 0.2\n",
    "BATCH_SIZE = 128\n",
    "EPOCHS = 10\n",
    "M = 15"
   ]
  },
  {
   "cell_type": "code",
   "execution_count": 3,
   "metadata": {},
   "outputs": [
    {
     "data": {
      "text/html": [
       "<div>\n",
       "<style scoped>\n",
       "    .dataframe tbody tr th:only-of-type {\n",
       "        vertical-align: middle;\n",
       "    }\n",
       "\n",
       "    .dataframe tbody tr th {\n",
       "        vertical-align: top;\n",
       "    }\n",
       "\n",
       "    .dataframe thead th {\n",
       "        text-align: right;\n",
       "    }\n",
       "</style>\n",
       "<table border=\"1\" class=\"dataframe\">\n",
       "  <thead>\n",
       "    <tr style=\"text-align: right;\">\n",
       "      <th></th>\n",
       "      <th>id</th>\n",
       "      <th>comment_text</th>\n",
       "      <th>toxic</th>\n",
       "      <th>severe_toxic</th>\n",
       "      <th>obscene</th>\n",
       "      <th>threat</th>\n",
       "      <th>insult</th>\n",
       "      <th>identity_hate</th>\n",
       "    </tr>\n",
       "  </thead>\n",
       "  <tbody>\n",
       "    <tr>\n",
       "      <th>0</th>\n",
       "      <td>0000997932d777bf</td>\n",
       "      <td>Explanation\\nWhy the edits made under my usern...</td>\n",
       "      <td>0</td>\n",
       "      <td>0</td>\n",
       "      <td>0</td>\n",
       "      <td>0</td>\n",
       "      <td>0</td>\n",
       "      <td>0</td>\n",
       "    </tr>\n",
       "    <tr>\n",
       "      <th>1</th>\n",
       "      <td>000103f0d9cfb60f</td>\n",
       "      <td>D'aww! He matches this background colour I'm s...</td>\n",
       "      <td>0</td>\n",
       "      <td>0</td>\n",
       "      <td>0</td>\n",
       "      <td>0</td>\n",
       "      <td>0</td>\n",
       "      <td>0</td>\n",
       "    </tr>\n",
       "    <tr>\n",
       "      <th>2</th>\n",
       "      <td>000113f07ec002fd</td>\n",
       "      <td>Hey man, I'm really not trying to edit war. It...</td>\n",
       "      <td>0</td>\n",
       "      <td>0</td>\n",
       "      <td>0</td>\n",
       "      <td>0</td>\n",
       "      <td>0</td>\n",
       "      <td>0</td>\n",
       "    </tr>\n",
       "    <tr>\n",
       "      <th>3</th>\n",
       "      <td>0001b41b1c6bb37e</td>\n",
       "      <td>\"\\nMore\\nI can't make any real suggestions on ...</td>\n",
       "      <td>0</td>\n",
       "      <td>0</td>\n",
       "      <td>0</td>\n",
       "      <td>0</td>\n",
       "      <td>0</td>\n",
       "      <td>0</td>\n",
       "    </tr>\n",
       "    <tr>\n",
       "      <th>4</th>\n",
       "      <td>0001d958c54c6e35</td>\n",
       "      <td>You, sir, are my hero. Any chance you remember...</td>\n",
       "      <td>0</td>\n",
       "      <td>0</td>\n",
       "      <td>0</td>\n",
       "      <td>0</td>\n",
       "      <td>0</td>\n",
       "      <td>0</td>\n",
       "    </tr>\n",
       "  </tbody>\n",
       "</table>\n",
       "</div>"
      ],
      "text/plain": [
       "                 id                                       comment_text  toxic  \\\n",
       "0  0000997932d777bf  Explanation\\nWhy the edits made under my usern...      0   \n",
       "1  000103f0d9cfb60f  D'aww! He matches this background colour I'm s...      0   \n",
       "2  000113f07ec002fd  Hey man, I'm really not trying to edit war. It...      0   \n",
       "3  0001b41b1c6bb37e  \"\\nMore\\nI can't make any real suggestions on ...      0   \n",
       "4  0001d958c54c6e35  You, sir, are my hero. Any chance you remember...      0   \n",
       "\n",
       "   severe_toxic  obscene  threat  insult  identity_hate  \n",
       "0             0        0       0       0              0  \n",
       "1             0        0       0       0              0  \n",
       "2             0        0       0       0              0  \n",
       "3             0        0       0       0              0  \n",
       "4             0        0       0       0              0  "
      ]
     },
     "execution_count": 3,
     "metadata": {},
     "output_type": "execute_result"
    }
   ],
   "source": [
    "# first lets load in data and take a look at it\n",
    "data = pd.read_csv('datasets/toxic comments/train.csv')\n",
    "data.head()"
   ]
  },
  {
   "cell_type": "code",
   "execution_count": 4,
   "metadata": {},
   "outputs": [],
   "source": [
    "# so we have a multilabel classification problem\n",
    "X = data['comment_text'].to_numpy()\n",
    "Y = data.iloc[:,2:].to_numpy()"
   ]
  },
  {
   "cell_type": "code",
   "execution_count": 5,
   "metadata": {},
   "outputs": [],
   "source": [
    "# next lets tokenise our sentences\n",
    "tokeniser = Tokenizer(num_words=MAX_VOCAB_SIZE)\n",
    "tokeniser.fit_on_texts(X)\n",
    "X = tokeniser.texts_to_sequences(X)\n",
    "\n",
    "word2idx = tokeniser.word_index"
   ]
  },
  {
   "cell_type": "code",
   "execution_count": 6,
   "metadata": {},
   "outputs": [],
   "source": [
    "# next we pad our sentences\n",
    "X = pad_sequences(X,maxlen=MAX_SEQUENCE_LENGTH)"
   ]
  },
  {
   "cell_type": "code",
   "execution_count": 7,
   "metadata": {},
   "outputs": [],
   "source": [
    "# next we want to create our embedding matrix\n",
    "# first we load in the pre trained word vectors\n",
    "file = 'datasets/glove/glove.6B.'+str(EMBEDDING_DIM)+'d.txt'\n",
    "word2vec = {}\n",
    "for line in open(file,encoding='utf8'):\n",
    "    line = line.split()\n",
    "    word = line[0]\n",
    "    vec = line[1:]\n",
    "    vec = np.array(vec).astype('float32')\n",
    "    word2vec[word] = vec\n"
   ]
  },
  {
   "cell_type": "code",
   "execution_count": 8,
   "metadata": {},
   "outputs": [],
   "source": [
    "V = min(len(word2idx)+1,MAX_VOCAB_SIZE)\n",
    "# now lets create our embedding matrix\n",
    "embedding = np.zeros((V,EMBEDDING_DIM))\n",
    "\n",
    "# now we fill the matrix with the pretrained word embeddings\n",
    "# if a word is not in our pretrained vectors , we leave it as zeros\n",
    "\n",
    "for word,idx in word2idx.items():\n",
    "    vec = word2vec.get(word,0)\n",
    "    if idx < V:\n",
    "        embedding[idx] = vec\n"
   ]
  },
  {
   "cell_type": "code",
   "execution_count": 9,
   "metadata": {},
   "outputs": [],
   "source": [
    "embedding_layer = Embedding(\n",
    "    V,\n",
    "    EMBEDDING_DIM,\n",
    "    weights = [embedding],\n",
    "    input_length=MAX_SEQUENCE_LENGTH,\n",
    "    trainable = False\n",
    ")\n"
   ]
  },
  {
   "cell_type": "code",
   "execution_count": 10,
   "metadata": {},
   "outputs": [],
   "source": [
    "# now we are ready to build our model !\n",
    "# Input shape now is NxT\n",
    "# so at each time step we have index of a word\n",
    "i = Input(shape=(MAX_SEQUENCE_LENGTH,))\n",
    "x = embedding_layer(i) # NxTxD\n",
    "# here we just warp LSTM with Bidirectional\n",
    "x = Bidirectional(LSTM(M,return_sequences=True))(x)\n",
    "x = GlobalMaxPool1D()(x)\n",
    "x = Dense(128,activation='relu')(x)\n",
    "# we are doing 6 seperate binary classifications\n",
    "o = Dense(Y.shape[1],activation='sigmoid')(x)\n",
    "\n",
    "model = Model(i,o)\n"
   ]
  },
  {
   "cell_type": "code",
   "execution_count": 11,
   "metadata": {},
   "outputs": [],
   "source": [
    "model.compile(\n",
    "    loss='binary_crossentropy',\n",
    "    optimizer='rmsprop',\n",
    "    metrics = ['accuracy']\n",
    ")"
   ]
  },
  {
   "cell_type": "code",
   "execution_count": 12,
   "metadata": {},
   "outputs": [
    {
     "name": "stdout",
     "output_type": "stream",
     "text": [
      "Epoch 1/10\n",
      "998/998 [==============================] - 57s 52ms/step - loss: 0.1163 - accuracy: 0.8899 - val_loss: 0.0622 - val_accuracy: 0.9941\n",
      "Epoch 2/10\n",
      "998/998 [==============================] - 52s 52ms/step - loss: 0.0560 - accuracy: 0.9940 - val_loss: 0.0569 - val_accuracy: 0.9940\n",
      "Epoch 3/10\n",
      "998/998 [==============================] - 53s 53ms/step - loss: 0.0537 - accuracy: 0.9935 - val_loss: 0.0586 - val_accuracy: 0.9873\n",
      "Epoch 4/10\n",
      "998/998 [==============================] - 52s 53ms/step - loss: 0.0497 - accuracy: 0.9938 - val_loss: 0.0514 - val_accuracy: 0.9931\n",
      "Epoch 5/10\n",
      "998/998 [==============================] - 52s 52ms/step - loss: 0.0479 - accuracy: 0.9930 - val_loss: 0.0502 - val_accuracy: 0.9937\n",
      "Epoch 6/10\n",
      "998/998 [==============================] - 51s 51ms/step - loss: 0.0470 - accuracy: 0.9934 - val_loss: 0.0508 - val_accuracy: 0.9923\n",
      "Epoch 7/10\n",
      "998/998 [==============================] - 51s 51ms/step - loss: 0.0453 - accuracy: 0.9931 - val_loss: 0.0500 - val_accuracy: 0.9919\n",
      "Epoch 8/10\n",
      "998/998 [==============================] - 51s 52ms/step - loss: 0.0441 - accuracy: 0.9932 - val_loss: 0.0500 - val_accuracy: 0.9920\n",
      "Epoch 9/10\n",
      "998/998 [==============================] - 52s 52ms/step - loss: 0.0428 - accuracy: 0.9935 - val_loss: 0.0511 - val_accuracy: 0.9916\n",
      "Epoch 10/10\n",
      "998/998 [==============================] - 51s 52ms/step - loss: 0.0425 - accuracy: 0.9937 - val_loss: 0.0529 - val_accuracy: 0.9902\n"
     ]
    }
   ],
   "source": [
    "with tf.device('/cpu:0'):\n",
    "    r = model.fit(\n",
    "        X,Y,\n",
    "        batch_size=BATCH_SIZE,\n",
    "        epochs=EPOCHS,\n",
    "        validation_split = VALIDATION_SPLIT\n",
    "    )"
   ]
  },
  {
   "cell_type": "code",
   "execution_count": 13,
   "metadata": {},
   "outputs": [],
   "source": [
    "# one interesting thing is, this actually runs faster on our CPU than on our GPU\n",
    "# for the previous two examples, the CNN & LSTM (notebook 32), we got faster performance on our GPU\n",
    "# but for some reason, when we stwitched it to Bi-LSTM things slowed down a bit\n",
    "# so thats smth to keep in mind, not everything is optimised for GPU\n",
    "# and sometimes, things can be faster on GPU than CPU\n",
    "# although it is rare\n",
    "# there are differences between libraries too\n",
    "# so for example tensorflow would be faster than pytorch in one thing\n",
    "# and pytorch would be faster than tensorflow  at another thing\n",
    "# and there is no guarantee that all the implementations for things in keras contain optimal tensorflow code\n",
    "# although given that the people working at it are the leading experts in the feild\n",
    "# we should generally feel pretty safe using keras"
   ]
  },
  {
   "cell_type": "code",
   "execution_count": 14,
   "metadata": {},
   "outputs": [
    {
     "data": {
      "image/png": "[encoded data removed]",
      "text/plain": [
       "<Figure size 432x288 with 1 Axes>"
      ]
     },
     "metadata": {
      "needs_background": "light"
     },
     "output_type": "display_data"
    }
   ],
   "source": [
    "plt.plot(r.history['loss'],label='loss')\n",
    "plt.plot(r.history['val_loss'],label='val_loss')\n",
    "plt.show()"
   ]
  },
  {
   "cell_type": "code",
   "execution_count": 15,
   "metadata": {},
   "outputs": [
    {
     "data": {
      "image/png": "[encoded data removed]",
      "text/plain": [
       "<Figure size 432x288 with 1 Axes>"
      ]
     },
     "metadata": {
      "needs_background": "light"
     },
     "output_type": "display_data"
    }
   ],
   "source": [
    "plt.plot(r.history['accuracy'],label='acc')\n",
    "plt.plot(r.history['val_accuracy'],label='val_acc')\n",
    "plt.show()"
   ]
  },
  {
   "cell_type": "code",
   "execution_count": 16,
   "metadata": {},
   "outputs": [
    {
     "name": "stdout",
     "output_type": "stream",
     "text": [
      "AUC :  0.9848174784070745\n"
     ]
    }
   ],
   "source": [
    "# next lets calculate the auc score\n",
    "# first we want to make predictions\n",
    "p = model.predict(X)\n",
    "# then we want to calculate auc for each column\n",
    "# then take the mean\n",
    "aucs = []\n",
    "for i in range(p.shape[1]):\n",
    "    auc = roc_auc_score(Y[:,i],p[:,i])\n",
    "    aucs.append(auc)\n",
    "\n",
    "print('AUC : ',np.mean(aucs))"
   ]
  },
  {
   "cell_type": "markdown",
   "metadata": {},
   "source": [
    "<h1>Math</h1>"
   ]
  },
  {
   "cell_type": "markdown",
   "metadata": {},
   "source": [
    "Now we will be seeing another cool application of Bidirectional RNNs\n",
    "\n",
    "---\n",
    "\n",
    "<h3>Image Classification with Bidirectional RNNs</h3>\n",
    "\n",
    "We saw before (notebook 32) how CNNs, which are typically used for images, could also be used for NLP\n",
    "\n",
    "This time, we are going to do the opposite, we will see how RNNs, which are typically used for NLP, or more generally sequences, can also be used for images\n",
    "\n",
    "---\n",
    "\n",
    "<h3>Architecture</h3>\n",
    "\n",
    "Now we want to go over the basic architecture of our RNN classifier, and see how it makes use of Bi-directional RNNs\n",
    "\n",
    "The trick here is, thinking of an image, as a sequence of image pixels\n",
    "\n",
    "one problem with this, that we can immediately see, is what we takled about before, images are 2D signals, whereas sequences and NLP, such as audio and text, are 1-D signals\n",
    "\n",
    "RNNs, such as GRU and LSTM, workd on 1-D signals because they only go in one direction\n",
    "\n",
    "so how can they work on a 2-D signal like an image\n",
    "\n",
    "which direction is time ?\n",
    "\n",
    "<img src='extras/34.5.PNG' width='600'></img>\n",
    "\n",
    "---\n",
    "\n",
    "To solve this problem, we have to look at the image in two different ways\n",
    "\n",
    "<img src='extras/34.6.PNG' width='600'></img>\n",
    "\n",
    "first picture our sequence of word vectors which we have seen before\n",
    "\n",
    "this is a $T \\times D$ matrix, $T$ is the sequence length and $D$ is the feature dimensionality\n",
    "\n",
    "on this input sequence we run our RNN from top to bottom or if we are using a Bidirectional RNN, which we are, we run our RNN from top to bottom and from bottom to top\n",
    "\n",
    "with an image, we have an object that is $H \\times W$, but importantly its still 2D\n",
    "\n",
    "so we can scan it from top to bottom and bottom to top, we are just sort of losing some perspective\n",
    "\n",
    "in this scenario, we think of the height of the image as different points of time, but we think of the width of the image as different features\n",
    "\n",
    "---\n",
    "\n",
    "but now lets do something interesting \n",
    "\n",
    "if we rotate this image $90^\\circ$, now the original height is going in the horizontal direction and the width is going into the vertical direction\n",
    "\n",
    "<img src='extras/34.7.PNG' width='600'></img>\n",
    "\n",
    "Now we cab run another Bidirectional LSTM and now its going along the image's original width dimension\n",
    "\n",
    "so in other words, if we rotate the image first, and we run a Bidirectional LSTM on it, then we are effectively now treating the width as different points in time and the height as different features\n",
    "\n",
    "---\n",
    "\n",
    "what happens if we do this is that we get two different branches in our model\n",
    "\n",
    "<img src='extras/34.8.PNG' width='600'></img>\n",
    "\n",
    "we have the vertical RNN and the horizontal RNN\n",
    "\n",
    "As usual, we are going to use global maxpooling in order to pick out the most useful hidden states from our RNN scan\n",
    "\n",
    "as a quiz, we might want to try to guess what the output size of this is going to be\n",
    "\n",
    "suppose the dimensionality of a single LSTM is $M$\n",
    "\n",
    "what's the shape of the data going to be after going the data through a Bidirectional LSTM and global maxpooling ?\n",
    "\n",
    "---\n",
    "\n",
    "So if we recall the output size of a Bidirectional LSTM is $2M$\n",
    "\n",
    "so far a batch size of $N$, the output of our first Bidirectional LSTM will be $N \\times H \\times 2M$\n",
    "\n",
    "remember that $H$ is like the time dimension $T$ for the first TNN unit\n",
    "\n",
    "and we know that pooling operated over the time dimension, so basically that goes awy and we get $N \\times 2M$ at the end\n",
    "\n",
    "for the second, Bidirectional LSTM, we have the opposite scenario\n",
    "\n",
    "we have rotated the image, so the data is of shape $N \\times W \\times H$, and the RNN is going to treat width like time\n",
    "\n",
    "so the output of the second bi-directional LSTM will be $N \\times W \\times 2M$, and after maxpooling we will get $N \\times 2M$\n",
    "\n",
    "---\n",
    "\n",
    "so now we have two things of $N \\times 2M$, in deep learning the typical way of dealing with this is just to concatenate them together\n",
    "\n",
    "<img src='extras/34.10.PNG' width='700'></img>\n",
    "\n",
    "so two things of $N \\times 2M$, gives us $N \\times 4M$\n",
    "\n",
    "of course we have to concatenate along the feature dimension because we cant end up with more samples than we started with\n",
    "\n",
    "---\n",
    "\n",
    "After this, the process is as usual\n",
    "\n",
    "we pass the data through a dense layer, and put it through a softmax activation\n",
    "\n",
    "<img src='extras/34.11.PNG' width='700'></img>\n"
   ]
  },
  {
   "cell_type": "markdown",
   "metadata": {},
   "source": [
    "<h1>code</h1>"
   ]
  },
  {
   "cell_type": "code",
   "execution_count": 16,
   "metadata": {},
   "outputs": [],
   "source": [
    "# now lets try with the MNIST dataset\n",
    "import tensorflow as tf\n",
    "import numpy as np\n",
    "import matplotlib.pyplot as plt\n",
    "from tensorflow.keras.models import Model\n",
    "from tensorflow.keras.layers import Input,Dense,LSTM,GlobalMaxPool1D,Bidirectional,Concatenate,Lambda\n",
    "from tensorflow.keras.optimizers import Adam,SGD"
   ]
  },
  {
   "cell_type": "code",
   "execution_count": 2,
   "metadata": {},
   "outputs": [],
   "source": [
    "mnist = tf.keras.datasets.mnist\n",
    "\n",
    "(Xtrain,Ytrain),(Xtest,Ytest) = mnist.load_data()\n",
    "Xtrain,Xtest = Xtrain/255 , Xtest/255"
   ]
  },
  {
   "cell_type": "code",
   "execution_count": 20,
   "metadata": {},
   "outputs": [],
   "source": [
    "M = 15\n",
    "D = Xtrain.shape[1]\n",
    "K = len(set(Ytrain))"
   ]
  },
  {
   "cell_type": "code",
   "execution_count": 13,
   "metadata": {},
   "outputs": [],
   "source": [
    "def rotate(X):\n",
    "    return tf.transpose(X,(0,2,1))"
   ]
  },
  {
   "cell_type": "code",
   "execution_count": 23,
   "metadata": {},
   "outputs": [],
   "source": [
    "# now lets create our model\n",
    "input_ = Input(shape=(D,D))\n",
    "\n",
    "# vertical branch\n",
    "x_vertical = Bidirectional(LSTM(M))(input_) # N x 2M\n",
    "\n",
    "# horizontal branch\n",
    "# first rotate image\n",
    "rotator = Lambda(rotate)\n",
    "rotated = rotator(input_)\n",
    "x_horizontal = Bidirectional(LSTM(M))(rotated) # N x 2M\n",
    "\n",
    "# now concatenate\n",
    "concatenator = Concatenate()\n",
    "x = concatenator((x_vertical,x_horizontal)) # N x 4M\n",
    "\n",
    "# then our final dense layer + softmax\n",
    "output = Dense(K,activation='softmax')(x)\n",
    "\n",
    "model = Model(input_,output)"
   ]
  },
  {
   "cell_type": "code",
   "execution_count": 25,
   "metadata": {},
   "outputs": [],
   "source": [
    "# now lets compile our model\n",
    "\n",
    "model.compile(optimizer='adam',\n",
    "              loss='sparse_categorical_crossentropy',\n",
    "             metrics=['accuracy'])"
   ]
  },
  {
   "cell_type": "code",
   "execution_count": 26,
   "metadata": {},
   "outputs": [
    {
     "name": "stdout",
     "output_type": "stream",
     "text": [
      "Epoch 1/10\n",
      "1875/1875 [==============================] - 23s 9ms/step - loss: 0.8796 - accuracy: 0.7370 - val_loss: 0.2059 - val_accuracy: 0.9358\n",
      "Epoch 2/10\n",
      "1875/1875 [==============================] - 15s 8ms/step - loss: 0.1845 - accuracy: 0.9436 - val_loss: 0.1228 - val_accuracy: 0.9596\n",
      "Epoch 3/10\n",
      "1875/1875 [==============================] - 15s 8ms/step - loss: 0.1331 - accuracy: 0.9596 - val_loss: 0.1029 - val_accuracy: 0.9696\n",
      "Epoch 4/10\n",
      "1875/1875 [==============================] - 15s 8ms/step - loss: 0.0999 - accuracy: 0.9689 - val_loss: 0.0944 - val_accuracy: 0.9706\n",
      "Epoch 5/10\n",
      "1875/1875 [==============================] - 15s 8ms/step - loss: 0.0858 - accuracy: 0.9750 - val_loss: 0.0926 - val_accuracy: 0.9714\n",
      "Epoch 6/10\n",
      "1875/1875 [==============================] - 14s 8ms/step - loss: 0.0759 - accuracy: 0.9762 - val_loss: 0.0778 - val_accuracy: 0.9733\n",
      "Epoch 7/10\n",
      "1875/1875 [==============================] - 14s 8ms/step - loss: 0.0694 - accuracy: 0.9789 - val_loss: 0.0691 - val_accuracy: 0.9782\n",
      "Epoch 8/10\n",
      "1875/1875 [==============================] - 14s 8ms/step - loss: 0.0594 - accuracy: 0.9812 - val_loss: 0.0669 - val_accuracy: 0.9792\n",
      "Epoch 9/10\n",
      "1875/1875 [==============================] - 15s 8ms/step - loss: 0.0527 - accuracy: 0.9838 - val_loss: 0.0653 - val_accuracy: 0.9794\n",
      "Epoch 10/10\n",
      "1875/1875 [==============================] - 15s 8ms/step - loss: 0.0520 - accuracy: 0.9843 - val_loss: 0.0634 - val_accuracy: 0.9805\n"
     ]
    }
   ],
   "source": [
    "r = model.fit(Xtrain,Ytrain,validation_data=(Xtest,Ytest),epochs=10)"
   ]
  },
  {
   "cell_type": "code",
   "execution_count": 27,
   "metadata": {},
   "outputs": [
    {
     "data": {
      "image/png": "[encoded data removed]",
      "text/plain": [
       "<Figure size 432x288 with 1 Axes>"
      ]
     },
     "metadata": {
      "needs_background": "light"
     },
     "output_type": "display_data"
    }
   ],
   "source": [
    "plt.plot(r.history['loss'],label = 'loss')\n",
    "plt.plot(r.history['val_loss'],label = 'val_loss')\n",
    "plt.legend()\n",
    "plt.show()"
   ]
  },
  {
   "cell_type": "code",
   "execution_count": 28,
   "metadata": {},
   "outputs": [
    {
     "data": {
      "image/png": "[encoded data removed]",
      "text/plain": [
       "<Figure size 432x288 with 1 Axes>"
      ]
     },
     "metadata": {
      "needs_background": "light"
     },
     "output_type": "display_data"
    }
   ],
   "source": [
    "plt.plot(r.history['accuracy'],label = 'acc')\n",
    "plt.plot(r.history['val_accuracy'],label = 'val_acc')\n",
    "plt.legend()\n",
    "plt.show()"
   ]
  }
 ],
 "metadata": {
  "kernelspec": {
   "display_name": "Python 3",
   "language": "python",
   "name": "python3"
  },
  "language_info": {
   "codemirror_mode": {
    "name": "ipython",
    "version": 3
   },
   "file_extension": ".py",
   "mimetype": "text/x-python",
   "name": "python",
   "nbconvert_exporter": "python",
   "pygments_lexer": "ipython3",
   "version": "3.8.2"
  }
 },
 "nbformat": 4,
 "nbformat_minor": 4
}
