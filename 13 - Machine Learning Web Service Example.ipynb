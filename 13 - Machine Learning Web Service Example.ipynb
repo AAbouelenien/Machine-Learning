{
 "cells": [
  {
   "cell_type": "markdown",
   "metadata": {},
   "source": [
    "In order to maintain a one topic per notebook convention we include both server and client codes in the same notebook\n",
    "\n",
    "To run the code first run trainer , then make a clone of this notebook , on one of the notebooks run Server and on the other run Client"
   ]
  },
  {
   "cell_type": "markdown",
   "metadata": {},
   "source": [
    "<h1>Trainer</h1>"
   ]
  },
  {
   "cell_type": "markdown",
   "metadata": {},
   "source": [
    "Trainer trains the model offline , then saves it for later use by server\n",
    "\n",
    "run this only once"
   ]
  },
  {
   "cell_type": "code",
   "execution_count": 3,
   "metadata": {},
   "outputs": [],
   "source": [
    "import pickle\n",
    "import numpy as np\n",
    "import pandas as pd\n",
    "from sklearn.ensemble import RandomForestClassifier"
   ]
  },
  {
   "cell_type": "code",
   "execution_count": 4,
   "metadata": {},
   "outputs": [],
   "source": [
    "def get_mnist(limit=None): \n",
    "    df = pd.read_csv('datasets/MNIST/train.csv')\n",
    "    data = df.to_numpy()\n",
    "    np.random.shuffle(data)\n",
    "    X = data[:,1:]/255.0\n",
    "    Y = data[:,0]\n",
    "    # data is too large , so training would take too much time\n",
    "    # of course to little data is not good and leads to overfitting\n",
    "    if limit is not None:\n",
    "        X,Y = X[:limit] , Y[:limit]\n",
    "    return X,Y\n"
   ]
  },
  {
   "cell_type": "code",
   "execution_count": 9,
   "metadata": {},
   "outputs": [
    {
     "name": "stdout",
     "output_type": "stream",
     "text": [
      "test accuracy:  0.9494920634920635\n"
     ]
    }
   ],
   "source": [
    "X,Y = get_mnist()\n",
    "Ntrain = len(Y)//4\n",
    "Xtrain,Ytrain = X[:Ntrain],Y[:Ntrain]\n",
    "\n",
    "model = RandomForestClassifier()\n",
    "model.fit(Xtrain,Ytrain)\n",
    "\n",
    "Xtest,Ytest = X[Ntrain:],Y[Ntrain:]\n",
    "\n",
    "print('test accuracy: ',model.score(Xtest,Ytest))\n",
    "\n",
    "with open('mymodel.pkl','wb') as f:\n",
    "    pickle.dump(model,f)"
   ]
  },
  {
   "cell_type": "markdown",
   "metadata": {},
   "source": [
    "<h1>Client</h1>"
   ]
  },
  {
   "cell_type": "markdown",
   "metadata": {},
   "source": [
    "the client sends an one image from the mnist dataset and receives a prediction from server"
   ]
  },
  {
   "cell_type": "code",
   "execution_count": 1,
   "metadata": {},
   "outputs": [],
   "source": [
    "import requests \n",
    "import numpy as np\n",
    "import matplotlib.pyplot as plt\n",
    "import pandas as pd"
   ]
  },
  {
   "cell_type": "code",
   "execution_count": 2,
   "metadata": {},
   "outputs": [],
   "source": [
    "def get_mnist(limit=None): \n",
    "    df = pd.read_csv('datasets/MNIST/train.csv')\n",
    "    data = df.to_numpy()\n",
    "    np.random.shuffle(data)\n",
    "    X = data[:,1:]/255.0\n",
    "    Y = data[:,0]\n",
    "    # data is too large , so training would take too much time\n",
    "    # of course to little data is not good and leads to overfitting\n",
    "    if limit is not None:\n",
    "        X,Y = X[:limit] , Y[:limit]\n",
    "    return X,Y\n"
   ]
  },
  {
   "cell_type": "code",
   "execution_count": 12,
   "metadata": {},
   "outputs": [
    {
     "name": "stdout",
     "output_type": "stream",
     "text": [
      "{'prediction': 9}  target:  9\n"
     ]
    },
    {
     "data": {
      "image/png": "[encoded data removed]",
      "text/plain": [
       "<Figure size 432x288 with 1 Axes>"
      ]
     },
     "metadata": {
      "needs_background": "light"
     },
     "output_type": "display_data"
    },
    {
     "name": "stdout",
     "output_type": "stream",
     "text": [
      "Continue ? [Y/n]Y\n",
      "{'prediction': 8}  target:  8\n"
     ]
    },
    {
     "data": {
      "image/png": "[encoded data removed]",
      "text/plain": [
       "<Figure size 432x288 with 1 Axes>"
      ]
     },
     "metadata": {
      "needs_background": "light"
     },
     "output_type": "display_data"
    },
    {
     "name": "stdout",
     "output_type": "stream",
     "text": [
      "Continue ? [Y/n]n\n"
     ]
    }
   ],
   "source": [
    "X,Y = get_mnist()\n",
    "N = len(Y)\n",
    "while True:\n",
    "    i = np.random.choice(N) # choose a sample randomly\n",
    "    # send sample to server\n",
    "    r = requests.post(\"http://localhost:8000/predict\",data={\"input\":X[i]})\n",
    "    # receive the prediction\n",
    "    j = r.json()\n",
    "    # print the sample , prediction and target\n",
    "    print(j,\" target: \",Y[i])\n",
    "    plt.imshow(X[i].reshape(28,28),cmap='gray')\n",
    "    plt.show()\n",
    "          \n",
    "    response = input('Continue ? [Y/n]')\n",
    "    if response in ['n','N']:\n",
    "          break"
   ]
  },
  {
   "cell_type": "markdown",
   "metadata": {},
   "source": [
    "<h1>Server</h1>"
   ]
  },
  {
   "cell_type": "markdown",
   "metadata": {},
   "source": [
    "the Terver loads the trained model saved by Trainer, then whenever it receives an image from the client , it makes a prediciton using the model and sends it back to client"
   ]
  },
  {
   "cell_type": "code",
   "execution_count": 1,
   "metadata": {},
   "outputs": [],
   "source": [
    "import pickle \n",
    "import numpy as np\n",
    "import os\n",
    "import json\n",
    "import nest_asyncio\n",
    "import tornado.ioloop\n",
    "import tornado.web\n",
    "\n",
    "if not os.path.exists('mymodel.pkl'):\n",
    "    exit('cant run without the model')\n",
    "    \n",
    "# load the trained model\n",
    "with open('mymodel.pkl','rb') as f:\n",
    "    model = pickle.load(f)\n",
    "    \n",
    "class MainHandler(tornado.web.RequestHandler):\n",
    "    def get(self):\n",
    "        self.write(\"Hi , I am the model!\")\n",
    "\n",
    "class PredictHandler(tornado.web.RequestHandler):\n",
    "    def post(self):\n",
    "        # get params in request\n",
    "        params = self.request.arguments # return a dictionary\n",
    "        # data in HTTP request gets passed in as a string\n",
    "        # so revert back to float\n",
    "        x = np.array(list(map(float,params['input'])))\n",
    "        # model expects NxD matrix , x is just a D size vector\n",
    "        # [x] is a 1xD matrix\n",
    "        # also prediction is returned as array of size N , so take first element\n",
    "        y = model.predict([x])[0]\n",
    "        # send back predicition to client\n",
    "        self.write(json.dumps({'prediction':y.item()})) # change prediciton to string\n",
    "        self.finish()"
   ]
  },
  {
   "cell_type": "code",
   "execution_count": null,
   "metadata": {},
   "outputs": [],
   "source": [
    "server = tornado.web.Application([\n",
    "    (r\"/\",MainHandler),\n",
    "    (r\"/predict\",PredictHandler)\n",
    "])\n",
    "\n",
    "nest_asyncio.apply()\n",
    "server.listen(8000)\n",
    "tornado.ioloop.IOLoop.current().start()"
   ]
  }
 ],
 "metadata": {
  "kernelspec": {
   "display_name": "Python 3",
   "language": "python",
   "name": "python3"
  },
  "language_info": {
   "codemirror_mode": {
    "name": "ipython",
    "version": 3
   },
   "file_extension": ".py",
   "mimetype": "text/x-python",
   "name": "python",
   "nbconvert_exporter": "python",
   "pygments_lexer": "ipython3",
   "version": "3.8.2"
  }
 },
 "nbformat": 4,
 "nbformat_minor": 4
}
