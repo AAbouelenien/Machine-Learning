{
 "cells": [
  {
   "cell_type": "code",
   "execution_count": 3,
   "metadata": {
    "colab": {},
    "colab_type": "code",
    "id": "OLPC9FU0wX7d"
   },
   "outputs": [],
   "source": [
    "# find MovieLense 20M dataset on kaggle\n",
    "# download rating.csv"
   ]
  },
  {
   "cell_type": "code",
   "execution_count": 11,
   "metadata": {
    "colab": {
     "base_uri": "https://localhost:8080/",
     "height": 34
    },
    "colab_type": "code",
    "id": "ZXzIQRlTwBNP",
    "outputId": "54bdf4d6-66e8-474e-9349-082710676916"
   },
   "outputs": [
    {
     "name": "stderr",
     "output_type": "stream",
     "text": [
      "Using TensorFlow backend.\n"
     ]
    }
   ],
   "source": [
    "import pickle\n",
    "import numpy as np\n",
    "import pandas as pd\n",
    "import matplotlib.pyplot as plt\n",
    "from sklearn.utils import shuffle\n",
    "\n",
    "from keras.models import Model\n",
    "from keras.layers import Input, Embedding, Dot, Add, Flatten, Dense, Concatenate\n",
    "from keras.layers import Dropout, BatchNormalization, Activation\n",
    "from keras.regularizers import l2\n",
    "from keras.optimizers import SGD, Adam"
   ]
  },
  {
   "cell_type": "markdown",
   "metadata": {
    "colab_type": "text",
    "id": "Xy1JbuxawBNS"
   },
   "source": [
    "<h2>Preprocessing<h2>"
   ]
  },
  {
   "cell_type": "code",
   "execution_count": null,
   "metadata": {
    "colab": {},
    "colab_type": "code",
    "id": "1hfsOvHbwBNS"
   },
   "outputs": [],
   "source": [
    "df = pd.read_csv('rating.csv')"
   ]
  },
  {
   "cell_type": "code",
   "execution_count": null,
   "metadata": {
    "colab": {
     "base_uri": "https://localhost:8080/",
     "height": 142
    },
    "colab_type": "code",
    "id": "D27t_ERNwBNV",
    "outputId": "41edce33-6897-4159-e445-94684de11b43"
   },
   "outputs": [
    {
     "data": {
      "text/html": [
       "<div>\n",
       "<style scoped>\n",
       "    .dataframe tbody tr th:only-of-type {\n",
       "        vertical-align: middle;\n",
       "    }\n",
       "\n",
       "    .dataframe tbody tr th {\n",
       "        vertical-align: top;\n",
       "    }\n",
       "\n",
       "    .dataframe thead th {\n",
       "        text-align: right;\n",
       "    }\n",
       "</style>\n",
       "<table border=\"1\" class=\"dataframe\">\n",
       "  <thead>\n",
       "    <tr style=\"text-align: right;\">\n",
       "      <th></th>\n",
       "      <th>userId</th>\n",
       "      <th>movieId</th>\n",
       "      <th>rating</th>\n",
       "      <th>timestamp</th>\n",
       "    </tr>\n",
       "  </thead>\n",
       "  <tbody>\n",
       "    <tr>\n",
       "      <th>0</th>\n",
       "      <td>1</td>\n",
       "      <td>2</td>\n",
       "      <td>3.5</td>\n",
       "      <td>2005-04-02 23:53:47</td>\n",
       "    </tr>\n",
       "    <tr>\n",
       "      <th>1</th>\n",
       "      <td>1</td>\n",
       "      <td>29</td>\n",
       "      <td>3.5</td>\n",
       "      <td>2005-04-02 23:31:16</td>\n",
       "    </tr>\n",
       "    <tr>\n",
       "      <th>2</th>\n",
       "      <td>1</td>\n",
       "      <td>32</td>\n",
       "      <td>3.5</td>\n",
       "      <td>2005-04-02 23:33:39</td>\n",
       "    </tr>\n",
       "  </tbody>\n",
       "</table>\n",
       "</div>"
      ],
      "text/plain": [
       "   userId  movieId  rating            timestamp\n",
       "0       1        2     3.5  2005-04-02 23:53:47\n",
       "1       1       29     3.5  2005-04-02 23:31:16\n",
       "2       1       32     3.5  2005-04-02 23:33:39"
      ]
     },
     "execution_count": 6,
     "metadata": {
      "tags": []
     },
     "output_type": "execute_result"
    }
   ],
   "source": [
    "df.head(3)"
   ]
  },
  {
   "cell_type": "code",
   "execution_count": null,
   "metadata": {
    "colab": {},
    "colab_type": "code",
    "id": "SK-WN2DfwBNY"
   },
   "outputs": [],
   "source": [
    "# IDs from 1 , we need to get them to start from 0\n",
    "# thankfully no missing number in between\n",
    "df.userId -= 1 "
   ]
  },
  {
   "cell_type": "code",
   "execution_count": null,
   "metadata": {
    "colab": {},
    "colab_type": "code",
    "id": "Iqf_YGmgwBNb"
   },
   "outputs": [],
   "source": [
    "# movie ids from 1 with missing number in between\n",
    "# make user id go from 0 - N-1 ,\n",
    "# not all movies have ids\n",
    "# this takes some time\n",
    "movie_ids = set(df.movieId.values)\n",
    "movie2idx = {k:v for v,k in enumerate(movie_ids)}\n",
    "df['movie_idx'] = df.apply(lambda row: movie2idx[row.movieId] , axis = 1)\n"
   ]
  },
  {
   "cell_type": "code",
   "execution_count": null,
   "metadata": {
    "colab": {},
    "colab_type": "code",
    "id": "b5SaozaQwBNf"
   },
   "outputs": [],
   "source": [
    "# drop unecessary timestamp col\n",
    "df = df.drop(columns=['timestamp'])"
   ]
  },
  {
   "cell_type": "code",
   "execution_count": null,
   "metadata": {
    "colab": {},
    "colab_type": "code",
    "id": "vTyfnyR5wBNi"
   },
   "outputs": [],
   "source": [
    "# since that took some time lets save\n",
    "df.to_csv('rating_1.csv')"
   ]
  },
  {
   "cell_type": "code",
   "execution_count": 12,
   "metadata": {
    "colab": {},
    "colab_type": "code",
    "id": "5xyYrcSowBNl"
   },
   "outputs": [],
   "source": [
    "df = pd.read_csv('rating_1.csv')"
   ]
  },
  {
   "cell_type": "code",
   "execution_count": 13,
   "metadata": {
    "colab": {},
    "colab_type": "code",
    "id": "TmR-IfM7IT0j"
   },
   "outputs": [],
   "source": [
    "N = df.userId.max() + 1 # num of user\n",
    "M = df.movie_idx.max() + 1 # num of movies"
   ]
  },
  {
   "cell_type": "code",
   "execution_count": 38,
   "metadata": {
    "colab": {},
    "colab_type": "code",
    "id": "T4OqBXSXe5l-"
   },
   "outputs": [],
   "source": [
    "df = shuffle(df)\n",
    "cutoff = int(0.8*len(df))\n",
    "df_train = df.iloc[:cutoff]\n",
    "df_test = df.iloc[cutoff:]"
   ]
  },
  {
   "cell_type": "code",
   "execution_count": 15,
   "metadata": {
    "colab": {},
    "colab_type": "code",
    "id": "FuiOY5TkfSut"
   },
   "outputs": [],
   "source": [
    "K = 10 # latent dimensionality\n",
    "mu = df_train.rating.mean() \n",
    "epochs = 15\n",
    "reg = 0. # regularisation penalty"
   ]
  },
  {
   "cell_type": "code",
   "execution_count": 27,
   "metadata": {
    "colab": {},
    "colab_type": "code",
    "id": "AH8SFtdtff_b"
   },
   "outputs": [],
   "source": [
    "u = Input(shape=(1,))\n",
    "m = Input(shape=(1,))\n",
    "u_embedding = Embedding(N,K)(u) # (N,1,K)\n",
    "m_embedding = Embedding(M,K)(m) # (M,1,K)\n"
   ]
  },
  {
   "cell_type": "code",
   "execution_count": 28,
   "metadata": {
    "colab": {},
    "colab_type": "code",
    "id": "lTLOWZbbgGz8"
   },
   "outputs": [],
   "source": [
    "# Matrix Factorisation - main brach\n",
    "u_bias = Embedding(N,1)(u) # (N,1,1)\n",
    "m_bias = Embedding(M,1)(m) # (N,1,1)\n",
    "x = Dot(axes=2)([u_embedding,m_embedding]) # (N,1,1)\n",
    "x = Add()([x,u_bias,m_bias])\n",
    "x = Flatten()(x) # (N,1)"
   ]
  },
  {
   "cell_type": "code",
   "execution_count": 29,
   "metadata": {
    "colab": {},
    "colab_type": "code",
    "id": "xQKOJSCohkmG"
   },
   "outputs": [],
   "source": [
    "#side branch ANN , since MF is a linear model hopefully ANN captures more infor\n",
    "u_embedding = Flatten()(u_embedding) # (N,K)\n",
    "m_embedding = Flatten()(m_embedding) # (N,K)\n",
    "y = Concatenate()([u_embedding,m_embedding]) # (N,2K)\n",
    "y = Dense(400)(y)\n",
    "y = Activation('elu')(y)\n",
    "y = Dense(1)(y)"
   ]
  },
  {
   "cell_type": "code",
   "execution_count": 31,
   "metadata": {
    "colab": {},
    "colab_type": "code",
    "id": "w4KANhuxiYTz"
   },
   "outputs": [],
   "source": [
    "# merge\n",
    "x = Add()([x,y])"
   ]
  },
  {
   "cell_type": "code",
   "execution_count": 41,
   "metadata": {
    "colab": {},
    "colab_type": "code",
    "id": "SL0qUNLJi8c3"
   },
   "outputs": [],
   "source": [
    "model = Model(inputs=[u,m],outputs=x)\n",
    "model.compile(loss='mse',optimizer=SGD(lr=0.08,momentum=0.9),metrics=['mse'])"
   ]
  },
  {
   "cell_type": "code",
   "execution_count": 42,
   "metadata": {
    "colab": {
     "base_uri": "https://localhost:8080/",
     "height": 578
    },
    "colab_type": "code",
    "id": "Z8UR4aVRjpGi",
    "outputId": "54248124-d10c-465a-b4ac-363a731a836d"
   },
   "outputs": [
    {
     "name": "stderr",
     "output_type": "stream",
     "text": [
      "/usr/local/lib/python3.6/dist-packages/tensorflow/python/framework/indexed_slices.py:434: UserWarning: Converting sparse IndexedSlices to a dense Tensor of unknown shape. This may consume a large amount of memory.\n",
      "  \"Converting sparse IndexedSlices to a dense Tensor of unknown shape. \"\n"
     ]
    },
    {
     "name": "stdout",
     "output_type": "stream",
     "text": [
      "Train on 16000210 samples, validate on 4000053 samples\n",
      "Epoch 1/15\n",
      "16000210/16000210 [==============================] - 182s 11us/step - loss: 0.7269 - mse: 0.7269 - val_loss: 0.7240 - val_mse: 0.7240\n",
      "Epoch 2/15\n",
      "16000210/16000210 [==============================] - 185s 12us/step - loss: 0.6984 - mse: 0.6984 - val_loss: 0.7008 - val_mse: 0.7008\n",
      "Epoch 3/15\n",
      "16000210/16000210 [==============================] - 183s 11us/step - loss: 0.6879 - mse: 0.6879 - val_loss: 0.7002 - val_mse: 0.7002\n",
      "Epoch 4/15\n",
      "16000210/16000210 [==============================] - 183s 11us/step - loss: 0.6822 - mse: 0.6822 - val_loss: 0.6968 - val_mse: 0.6968\n",
      "Epoch 5/15\n",
      "16000210/16000210 [==============================] - 182s 11us/step - loss: 0.6778 - mse: 0.6778 - val_loss: 0.6902 - val_mse: 0.6902\n",
      "Epoch 6/15\n",
      "16000210/16000210 [==============================] - 184s 11us/step - loss: 0.6706 - mse: 0.6706 - val_loss: 0.6890 - val_mse: 0.6890\n",
      "Epoch 7/15\n",
      "16000210/16000210 [==============================] - 180s 11us/step - loss: 0.6612 - mse: 0.6612 - val_loss: 0.6781 - val_mse: 0.6781\n",
      "Epoch 8/15\n",
      "16000210/16000210 [==============================] - 181s 11us/step - loss: 0.6544 - mse: 0.6544 - val_loss: 0.6870 - val_mse: 0.6870\n",
      "Epoch 9/15\n",
      "16000210/16000210 [==============================] - 183s 11us/step - loss: 0.6488 - mse: 0.6488 - val_loss: 0.6771 - val_mse: 0.6771\n",
      "Epoch 10/15\n",
      "16000210/16000210 [==============================] - 180s 11us/step - loss: 0.6403 - mse: 0.6403 - val_loss: 0.6658 - val_mse: 0.6658\n",
      "Epoch 11/15\n",
      "16000210/16000210 [==============================] - 181s 11us/step - loss: 0.6317 - mse: 0.6317 - val_loss: 0.6611 - val_mse: 0.6611\n",
      "Epoch 12/15\n",
      "16000210/16000210 [==============================] - 181s 11us/step - loss: 0.6254 - mse: 0.6254 - val_loss: 0.6570 - val_mse: 0.6570\n",
      "Epoch 13/15\n",
      "16000210/16000210 [==============================] - 181s 11us/step - loss: 0.6190 - mse: 0.6190 - val_loss: 0.6575 - val_mse: 0.6575\n",
      "Epoch 14/15\n",
      "16000210/16000210 [==============================] - 178s 11us/step - loss: 0.6126 - mse: 0.6126 - val_loss: 0.6473 - val_mse: 0.6473\n",
      "Epoch 15/15\n",
      "16000210/16000210 [==============================] - 181s 11us/step - loss: 0.6072 - mse: 0.6072 - val_loss: 0.6523 - val_mse: 0.6523\n"
     ]
    }
   ],
   "source": [
    "r = model.fit(\n",
    "    x = [df_train.userId.values,df_train.movie_idx.values],\n",
    "    y = df_train.rating.values - mu,\n",
    "    epochs = epochs,\n",
    "    batch_size = 1024,\n",
    "    validation_data=([df_test.userId.values,df_test.movie_idx.values],df_test.rating.values - mu)\n",
    "\n",
    ")"
   ]
  },
  {
   "cell_type": "code",
   "execution_count": null,
   "metadata": {
    "colab": {},
    "colab_type": "code",
    "id": "vEdB8t3OkOjp"
   },
   "outputs": [],
   "source": []
  }
 ],
 "metadata": {
  "colab": {
   "collapsed_sections": [],
   "name": "Matrix Factorisation + ANN.ipynb",
   "provenance": []
  },
  "kernelspec": {
   "display_name": "Python 3",
   "language": "python",
   "name": "python3"
  },
  "language_info": {
   "codemirror_mode": {
    "name": "ipython",
    "version": 3
   },
   "file_extension": ".py",
   "mimetype": "text/x-python",
   "name": "python",
   "nbconvert_exporter": "python",
   "pygments_lexer": "ipython3",
   "version": "3.8.2"
  }
 },
 "nbformat": 4,
 "nbformat_minor": 1
}
