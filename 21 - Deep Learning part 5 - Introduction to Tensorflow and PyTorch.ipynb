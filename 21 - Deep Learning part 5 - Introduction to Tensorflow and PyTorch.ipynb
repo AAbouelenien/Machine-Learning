{
 "cells": [
  {
   "cell_type": "markdown",
   "metadata": {},
   "source": [
    "<h1>Code<h1>"
   ]
  },
  {
   "cell_type": "code",
   "execution_count": 1,
   "metadata": {},
   "outputs": [],
   "source": [
    "# first we begin with tensorflow (keras)\n",
    "# the best approach seems to be through examples\n",
    "# this should serve as a fine introduction\n",
    "# and we can pick the rest as we go through future parts"
   ]
  },
  {
   "cell_type": "code",
   "execution_count": 2,
   "metadata": {},
   "outputs": [],
   "source": [
    "import tensorflow as tf\n",
    "from tensorflow.keras.models import Sequential\n",
    "from tensorflow.keras import Model\n",
    "from tensorflow.keras.layers import Dense,Activation,Input,Layer\n",
    "import numpy as np\n",
    "import matplotlib.pyplot as plt\n",
    "import pandas as pd"
   ]
  },
  {
   "cell_type": "code",
   "execution_count": 3,
   "metadata": {},
   "outputs": [],
   "source": [
    "# first lets get the data , we will use MNIST dataset\n",
    "def get_mnist(limit=None,normalise = False , transform = False, D=300): \n",
    "    df = pd.read_csv('datasets/MNIST/train.csv')\n",
    "    data = df.to_numpy()\n",
    "    np.random.shuffle(data)\n",
    "    X = data[:,1:]\n",
    "    Y = data[:,0]\n",
    "    # data is too large , so training would take too much time\n",
    "    # of course to little data is not good and leads to overfitting\n",
    "\n",
    "    Xtrain = X[:-1000]\n",
    "    Ytrain = Y[:-1000]\n",
    "    Xtest  = X[-1000:]\n",
    "    Ytest  = Y[-1000:]\n",
    "    \n",
    "    \n",
    "    if transform:\n",
    "        # center X\n",
    "        mu = Xtrain.mean(axis=0)\n",
    "        Xtrain = Xtrain-mu\n",
    "        Xtest = Xtest-mu\n",
    "        pca = PCA()\n",
    "        Ztrain = pca.fit_transform(Xtrain)\n",
    "        Ztest = pca.transform(Xtest)\n",
    "        # take first 300 cols of Z\n",
    "        Ztrain = Ztrain[:, :300]\n",
    "        Ztest = Ztest[:, :300]\n",
    "        # normalize Z\n",
    "        mu = Ztrain.mean(axis=0)\n",
    "        std = Ztrain.std(axis=0)\n",
    "        np.place(std,std==0,1)\n",
    "        Ztrain = (Ztrain - mu) / std\n",
    "        Ztest = (Ztest - mu) / std\n",
    "        return Ztrain,Ztest,Ytrain,Ytest\n",
    "\n",
    "    \n",
    "    if normalise:\n",
    "        mu = Xtrain.mean(axis=0)\n",
    "        std = Xtrain.std(axis=0)\n",
    "        np.place(std,std==0,1)\n",
    "        Xtrain = (Xtrain-mu)/std\n",
    "        Xtest = (Xtest-mu)/std\n",
    "        return Xtrain,Xtest,Ytrain,Ytest\n",
    "    \n",
    "    return Xtrain,Xtest,Ytrain,Ytest"
   ]
  },
  {
   "cell_type": "code",
   "execution_count": 4,
   "metadata": {},
   "outputs": [],
   "source": [
    "Xtrain,Xtest,Ytrain,Ytest = get_mnist(normalise=True)"
   ]
  },
  {
   "cell_type": "code",
   "execution_count": 5,
   "metadata": {},
   "outputs": [],
   "source": [
    "def one_hot_encode(Y):\n",
    "    N = len(Y)\n",
    "    D = Y.max()+1\n",
    "    encoded = np.zeros((N,D))\n",
    "    for i in range(N):\n",
    "        encoded[i,Y[i]] = 1\n",
    "    return encoded\n",
    "\n",
    "\n",
    "Ttrain = one_hot_encode(Ytrain)\n",
    "Ttest = one_hot_encode(Ytest)\n",
    "\n",
    "_,D = Xtrain.shape\n",
    "K = len(set(Ytrain).union(set(Ytest)))"
   ]
  },
  {
   "cell_type": "code",
   "execution_count": 6,
   "metadata": {},
   "outputs": [],
   "source": [
    "# this is our model , a sequence of layers\n",
    "model = Sequential()\n",
    "# hidden layer size 500\n",
    "model.add(Dense(units=500,input_dim = D))\n",
    "# activation function\n",
    "model.add(Activation('relu'))\n",
    "# another hidden layer of size 300\n",
    "model.add(Dense(units=300))\n",
    "# again another activation function\n",
    "model.add(Activation('relu'))\n",
    "# final dense layer of size K\n",
    "model.add(Dense(units=K))\n",
    "model.add(Activation('softmax'))"
   ]
  },
  {
   "cell_type": "code",
   "execution_count": 7,
   "metadata": {},
   "outputs": [],
   "source": [
    "model.compile(\n",
    "    loss = 'categorical_crossentropy',\n",
    "    optimizer='adam',\n",
    "    metrics = ['accuracy']\n",
    ")"
   ]
  },
  {
   "cell_type": "code",
   "execution_count": 8,
   "metadata": {},
   "outputs": [
    {
     "name": "stdout",
     "output_type": "stream",
     "text": [
      "Epoch 1/15\n",
      "1282/1282 [==============================] - 4s 3ms/step - loss: 0.2491 - accuracy: 0.9304 - val_loss: 0.1425 - val_accuracy: 0.9500\n",
      "Epoch 2/15\n",
      "1282/1282 [==============================] - 4s 3ms/step - loss: 0.1061 - accuracy: 0.9691 - val_loss: 0.1347 - val_accuracy: 0.9580\n",
      "Epoch 3/15\n",
      "1282/1282 [==============================] - 4s 3ms/step - loss: 0.0817 - accuracy: 0.9749 - val_loss: 0.1540 - val_accuracy: 0.9570\n",
      "Epoch 4/15\n",
      "1282/1282 [==============================] - 4s 3ms/step - loss: 0.0687 - accuracy: 0.9801 - val_loss: 0.1152 - val_accuracy: 0.9630\n",
      "Epoch 5/15\n",
      "1282/1282 [==============================] - 4s 3ms/step - loss: 0.0544 - accuracy: 0.9836 - val_loss: 0.1352 - val_accuracy: 0.9660\n",
      "Epoch 6/15\n",
      "1282/1282 [==============================] - 4s 3ms/step - loss: 0.0478 - accuracy: 0.9858 - val_loss: 0.1848 - val_accuracy: 0.9580\n",
      "Epoch 7/15\n",
      "1282/1282 [==============================] - 4s 3ms/step - loss: 0.0468 - accuracy: 0.9873 - val_loss: 0.1336 - val_accuracy: 0.9720\n",
      "Epoch 8/15\n",
      "1282/1282 [==============================] - 4s 3ms/step - loss: 0.0432 - accuracy: 0.9886 - val_loss: 0.1883 - val_accuracy: 0.9680\n",
      "Epoch 9/15\n",
      "1282/1282 [==============================] - 4s 3ms/step - loss: 0.0512 - accuracy: 0.9878 - val_loss: 0.1582 - val_accuracy: 0.9750\n",
      "Epoch 10/15\n",
      "1282/1282 [==============================] - 4s 3ms/step - loss: 0.0380 - accuracy: 0.9910 - val_loss: 0.1946 - val_accuracy: 0.9660\n",
      "Epoch 11/15\n",
      "1282/1282 [==============================] - 4s 3ms/step - loss: 0.0402 - accuracy: 0.9906 - val_loss: 0.2084 - val_accuracy: 0.9650\n",
      "Epoch 12/15\n",
      "1282/1282 [==============================] - 4s 3ms/step - loss: 0.0334 - accuracy: 0.9927 - val_loss: 0.2188 - val_accuracy: 0.9720\n",
      "Epoch 13/15\n",
      "1282/1282 [==============================] - 4s 3ms/step - loss: 0.0326 - accuracy: 0.9932 - val_loss: 0.3567 - val_accuracy: 0.9610\n",
      "Epoch 14/15\n",
      "1282/1282 [==============================] - 4s 3ms/step - loss: 0.0444 - accuracy: 0.9911 - val_loss: 0.2245 - val_accuracy: 0.9720\n",
      "Epoch 15/15\n",
      "1282/1282 [==============================] - 4s 3ms/step - loss: 0.0384 - accuracy: 0.9929 - val_loss: 0.2647 - val_accuracy: 0.9690\n"
     ]
    }
   ],
   "source": [
    "r = model.fit(Xtrain,Ttrain,epochs=15,batch_size = 32,validation_data=(Xtest,Ttest))"
   ]
  },
  {
   "cell_type": "code",
   "execution_count": 9,
   "metadata": {},
   "outputs": [
    {
     "data": {
      "image/png": "[encoded data removed]",
      "text/plain": [
       "<Figure size 432x288 with 1 Axes>"
      ]
     },
     "metadata": {
      "needs_background": "light"
     },
     "output_type": "display_data"
    }
   ],
   "source": [
    "plt.plot(r.history['loss'],label='loss')\n",
    "plt.plot(r.history['val_loss'],label='val_loss')\n",
    "plt.legend()\n",
    "plt.show()"
   ]
  },
  {
   "cell_type": "code",
   "execution_count": 10,
   "metadata": {},
   "outputs": [
    {
     "data": {
      "image/png": "[encoded data removed]",
      "text/plain": [
       "<Figure size 432x288 with 1 Axes>"
      ]
     },
     "metadata": {
      "needs_background": "light"
     },
     "output_type": "display_data"
    }
   ],
   "source": [
    "plt.plot(r.history['accuracy'],label='accuracy')\n",
    "plt.plot(r.history['val_accuracy'],label='val_accuracy')\n",
    "plt.legend()\n",
    "plt.show()"
   ]
  },
  {
   "cell_type": "code",
   "execution_count": 11,
   "metadata": {},
   "outputs": [],
   "source": [
    "# lets look at another way to create the model\n",
    "i = Input(shape=(D,))\n",
    "x = Dense(500,activation='relu')(i)\n",
    "x = Dense(300,activation='relu')(x)\n",
    "x = Dense(K,activation='softmax')(x)\n",
    "model2 = Model(inputs=i,outputs=x)"
   ]
  },
  {
   "cell_type": "code",
   "execution_count": 12,
   "metadata": {},
   "outputs": [],
   "source": [
    "# the rest is the same\n",
    "model2.compile(\n",
    "    loss = 'categorical_crossentropy',\n",
    "    optimizer='adam',\n",
    "    metrics = ['accuracy']\n",
    ")"
   ]
  },
  {
   "cell_type": "code",
   "execution_count": 13,
   "metadata": {},
   "outputs": [
    {
     "name": "stdout",
     "output_type": "stream",
     "text": [
      "Epoch 1/15\n",
      "1282/1282 [==============================] - 4s 3ms/step - loss: 0.2488 - accuracy: 0.9295 - val_loss: 0.1523 - val_accuracy: 0.9540\n",
      "Epoch 2/15\n",
      "1282/1282 [==============================] - 4s 3ms/step - loss: 0.1124 - accuracy: 0.9673 - val_loss: 0.1112 - val_accuracy: 0.9640\n",
      "Epoch 3/15\n",
      "1282/1282 [==============================] - 4s 3ms/step - loss: 0.0790 - accuracy: 0.9759 - val_loss: 0.1466 - val_accuracy: 0.9580\n",
      "Epoch 4/15\n",
      "1282/1282 [==============================] - 4s 3ms/step - loss: 0.0620 - accuracy: 0.9818 - val_loss: 0.1490 - val_accuracy: 0.9570\n",
      "Epoch 5/15\n",
      "1282/1282 [==============================] - 4s 3ms/step - loss: 0.0610 - accuracy: 0.9820 - val_loss: 0.1329 - val_accuracy: 0.9600\n",
      "Epoch 6/15\n",
      "1282/1282 [==============================] - 4s 3ms/step - loss: 0.0558 - accuracy: 0.9850 - val_loss: 0.1825 - val_accuracy: 0.9660\n",
      "Epoch 7/15\n",
      "1282/1282 [==============================] - 4s 3ms/step - loss: 0.0498 - accuracy: 0.9863 - val_loss: 0.1665 - val_accuracy: 0.9580\n",
      "Epoch 8/15\n",
      "1282/1282 [==============================] - 4s 3ms/step - loss: 0.0397 - accuracy: 0.9896 - val_loss: 0.2217 - val_accuracy: 0.9630\n",
      "Epoch 9/15\n",
      "1282/1282 [==============================] - 4s 3ms/step - loss: 0.0475 - accuracy: 0.9892 - val_loss: 0.2273 - val_accuracy: 0.9700\n",
      "Epoch 10/15\n",
      "1282/1282 [==============================] - 4s 3ms/step - loss: 0.0408 - accuracy: 0.9902 - val_loss: 0.1950 - val_accuracy: 0.9720\n",
      "Epoch 11/15\n",
      "1282/1282 [==============================] - 4s 3ms/step - loss: 0.0358 - accuracy: 0.9920 - val_loss: 0.1874 - val_accuracy: 0.9700\n",
      "Epoch 12/15\n",
      "1282/1282 [==============================] - 4s 3ms/step - loss: 0.0411 - accuracy: 0.9905 - val_loss: 0.1825 - val_accuracy: 0.9660\n",
      "Epoch 13/15\n",
      "1282/1282 [==============================] - 4s 3ms/step - loss: 0.0392 - accuracy: 0.9918 - val_loss: 0.3324 - val_accuracy: 0.9700\n",
      "Epoch 14/15\n",
      "1282/1282 [==============================] - 4s 3ms/step - loss: 0.0442 - accuracy: 0.9913 - val_loss: 0.2933 - val_accuracy: 0.9680\n",
      "Epoch 15/15\n",
      "1282/1282 [==============================] - 4s 3ms/step - loss: 0.0333 - accuracy: 0.9936 - val_loss: 0.3493 - val_accuracy: 0.9640\n"
     ]
    }
   ],
   "source": [
    "r = model2.fit(Xtrain,Ttrain,epochs=15,batch_size = 32,validation_data=(Xtest,Ttest))"
   ]
  },
  {
   "cell_type": "code",
   "execution_count": 14,
   "metadata": {},
   "outputs": [
    {
     "data": {
      "image/png": "[encoded data removed]",
      "text/plain": [
       "<Figure size 432x288 with 1 Axes>"
      ]
     },
     "metadata": {
      "needs_background": "light"
     },
     "output_type": "display_data"
    }
   ],
   "source": [
    "plt.plot(r.history['loss'],label='loss')\n",
    "plt.plot(r.history['val_loss'],label='val_loss')\n",
    "plt.legend()\n",
    "plt.show()"
   ]
  },
  {
   "cell_type": "code",
   "execution_count": 15,
   "metadata": {},
   "outputs": [
    {
     "data": {
      "image/png": "[encoded data removed]",
      "text/plain": [
       "<Figure size 432x288 with 1 Axes>"
      ]
     },
     "metadata": {
      "needs_background": "light"
     },
     "output_type": "display_data"
    }
   ],
   "source": [
    "plt.plot(r.history['accuracy'],label='accuracy')\n",
    "plt.plot(r.history['val_accuracy'],label='val_accuracy')\n",
    "plt.legend()\n",
    "plt.show()"
   ]
  },
  {
   "cell_type": "code",
   "execution_count": 16,
   "metadata": {},
   "outputs": [],
   "source": [
    "# the last to introduce are custom layers\n",
    "# lets try to make a custom batch norm layer\n",
    "\n",
    "class batch_norm(Layer):\n",
    "    def __init__(self,decay=0.99,epsilon=1e-8): \n",
    "        super(batch_norm, self).__init__()\n",
    "        self.decay = decay\n",
    "        self.epsilon = epsilon\n",
    "    def build(self, input_shape):\n",
    "        self.gamma = self.add_weight(initializer = 'Ones',shape=input_shape[1:]) \n",
    "        self.beta = self.add_weight(initializer = 'Zeros',shape=input_shape[1:])\n",
    "        self.mu = self.add_weight(initializer = 'Zeros',shape=input_shape[1:],trainable=False)\n",
    "        self.std = self.add_weight(initializer = 'Zeros',shape=input_shape[1:],trainable=False)\n",
    "        self.epsilon = tf.constant(self.epsilon) \n",
    "        self.decay = tf.constant(self.decay) \n",
    "    \n",
    "        \n",
    "    def call(self, X,training=None):\n",
    "        # get mean and standard deviation if batch\n",
    "        mu_B = tf.math.reduce_mean(X,axis=0)\n",
    "        std_B = tf.math.reduce_std(X,axis=0)\n",
    "        # update running mean and standard deviation\n",
    "        tf.compat.v1.assign(self.mu,self.decay*self.mu + (1-self.decay)*mu_B)\n",
    "        tf.compat.v1.assign(self.std,self.decay*self.std + (1-self.decay)*std_B)\n",
    "\n",
    "        if training:\n",
    "            X_hat = (X - mu_B)/(std_B+self.epsilon)\n",
    "            Y = self.gamma*X_hat + self.beta\n",
    "\n",
    "        else:\n",
    "            X_hat = (X - self.mu)/(self.std+self.epsilon)\n",
    "            Y = self.gamma*X_hat + self.beta\n",
    "\n",
    "        return Y"
   ]
  },
  {
   "cell_type": "code",
   "execution_count": 17,
   "metadata": {},
   "outputs": [],
   "source": [
    "# lets look at another way to create the model\n",
    "i = Input(shape=(D,))\n",
    "x = Dense(500)(i)\n",
    "x = batch_norm()(x)\n",
    "x = Activation('relu')(x)\n",
    "x = Dense(300)(x)\n",
    "x = batch_norm()(x)\n",
    "x = Activation('relu')(x)\n",
    "x = Dense(K)(x)\n",
    "x = batch_norm()(x)\n",
    "x = Activation('softmax')(x)\n",
    "model3 = Model(inputs=i,outputs=x)"
   ]
  },
  {
   "cell_type": "code",
   "execution_count": 18,
   "metadata": {},
   "outputs": [],
   "source": [
    "# the rest is the same\n",
    "model3.compile(\n",
    "    loss = 'categorical_crossentropy',\n",
    "    optimizer='adam',\n",
    "    metrics = ['accuracy']\n",
    ")"
   ]
  },
  {
   "cell_type": "code",
   "execution_count": 19,
   "metadata": {},
   "outputs": [
    {
     "name": "stdout",
     "output_type": "stream",
     "text": [
      "Epoch 1/15\n",
      "1282/1282 [==============================] - 9s 7ms/step - loss: 0.4655 - accuracy: 0.9074 - val_loss: 0.1891 - val_accuracy: 0.9560\n",
      "Epoch 2/15\n",
      "1282/1282 [==============================] - 9s 7ms/step - loss: 0.2297 - accuracy: 0.9492 - val_loss: 0.1317 - val_accuracy: 0.9630\n",
      "Epoch 3/15\n",
      "1282/1282 [==============================] - 9s 7ms/step - loss: 0.1531 - accuracy: 0.9655 - val_loss: 0.1024 - val_accuracy: 0.9680\n",
      "Epoch 4/15\n",
      "1282/1282 [==============================] - 9s 7ms/step - loss: 0.1092 - accuracy: 0.9745 - val_loss: 0.0721 - val_accuracy: 0.9820\n",
      "Epoch 5/15\n",
      "1282/1282 [==============================] - 9s 7ms/step - loss: 0.0892 - accuracy: 0.9781 - val_loss: 0.0838 - val_accuracy: 0.9810\n",
      "Epoch 6/15\n",
      "1282/1282 [==============================] - 9s 7ms/step - loss: 0.0680 - accuracy: 0.9842 - val_loss: 0.0739 - val_accuracy: 0.9800\n",
      "Epoch 7/15\n",
      "1282/1282 [==============================] - 9s 7ms/step - loss: 0.0564 - accuracy: 0.9865 - val_loss: 0.0751 - val_accuracy: 0.9810\n",
      "Epoch 8/15\n",
      "1282/1282 [==============================] - 9s 7ms/step - loss: 0.0467 - accuracy: 0.9884 - val_loss: 0.0621 - val_accuracy: 0.9830\n",
      "Epoch 9/15\n",
      "1282/1282 [==============================] - 9s 7ms/step - loss: 0.0407 - accuracy: 0.9893 - val_loss: 0.0687 - val_accuracy: 0.9860\n",
      "Epoch 10/15\n",
      "1282/1282 [==============================] - 9s 7ms/step - loss: 0.0364 - accuracy: 0.9903 - val_loss: 0.0700 - val_accuracy: 0.9790\n",
      "Epoch 11/15\n",
      "1282/1282 [==============================] - 9s 7ms/step - loss: 0.0309 - accuracy: 0.9919 - val_loss: 0.0610 - val_accuracy: 0.9800\n",
      "Epoch 12/15\n",
      "1282/1282 [==============================] - 9s 7ms/step - loss: 0.0262 - accuracy: 0.9937 - val_loss: 0.0690 - val_accuracy: 0.9810\n",
      "Epoch 13/15\n",
      "1282/1282 [==============================] - 9s 7ms/step - loss: 0.0253 - accuracy: 0.9934 - val_loss: 0.0703 - val_accuracy: 0.9810\n",
      "Epoch 14/15\n",
      "1282/1282 [==============================] - 9s 7ms/step - loss: 0.0257 - accuracy: 0.9930 - val_loss: 0.0742 - val_accuracy: 0.9800\n",
      "Epoch 15/15\n",
      "1282/1282 [==============================] - 9s 7ms/step - loss: 0.0196 - accuracy: 0.9955 - val_loss: 0.0640 - val_accuracy: 0.9800\n"
     ]
    }
   ],
   "source": [
    "r = model3.fit(Xtrain,Ttrain,epochs=15,batch_size = 32,validation_data=(Xtest,Ttest))"
   ]
  },
  {
   "cell_type": "code",
   "execution_count": 20,
   "metadata": {},
   "outputs": [
    {
     "data": {
      "image/png": "[encoded data removed]",
      "text/plain": [
       "<Figure size 432x288 with 1 Axes>"
      ]
     },
     "metadata": {
      "needs_background": "light"
     },
     "output_type": "display_data"
    }
   ],
   "source": [
    "plt.plot(r.history['loss'],label='loss')\n",
    "plt.plot(r.history['val_loss'],label='val_loss')\n",
    "plt.legend()\n",
    "plt.show()"
   ]
  },
  {
   "cell_type": "code",
   "execution_count": 21,
   "metadata": {},
   "outputs": [
    {
     "data": {
      "image/png": "[encoded data removed]",
      "text/plain": [
       "<Figure size 432x288 with 1 Axes>"
      ]
     },
     "metadata": {
      "needs_background": "light"
     },
     "output_type": "display_data"
    }
   ],
   "source": [
    "plt.plot(r.history['accuracy'],label='accuracy')\n",
    "plt.plot(r.history['val_accuracy'],label='val_accuracy')\n",
    "plt.legend()\n",
    "plt.show()"
   ]
  },
  {
   "cell_type": "code",
   "execution_count": 8,
   "metadata": {},
   "outputs": [],
   "source": [
    "# there are many many other built-in layers\n",
    "# dropout , batchnorm , convolution ...."
   ]
  },
  {
   "cell_type": "markdown",
   "metadata": {},
   "source": [
    "<h1>code</h1>"
   ]
  },
  {
   "cell_type": "code",
   "execution_count": 1,
   "metadata": {},
   "outputs": [],
   "source": [
    "# next is PyTorch"
   ]
  },
  {
   "cell_type": "code",
   "execution_count": 35,
   "metadata": {},
   "outputs": [],
   "source": [
    "import numpy as np\n",
    "import matplotlib.pyplot as plt\n",
    "import pandas as pd\n",
    "import torch\n",
    "from torch.autograd import Variable\n",
    "from torch import optim\n",
    "from torch.nn import Linear,ReLU,CrossEntropyLoss,Dropout,BatchNorm1d"
   ]
  },
  {
   "cell_type": "code",
   "execution_count": 3,
   "metadata": {},
   "outputs": [],
   "source": [
    "# first lets get the data , we will use MNIST dataset\n",
    "def get_mnist(limit=None,normalise = False , D=300): \n",
    "    df = pd.read_csv('datasets/MNIST/train.csv')\n",
    "    data = df.to_numpy()\n",
    "    np.random.shuffle(data)\n",
    "    X = data[:,1:]\n",
    "    Y = data[:,0]\n",
    "    # data is too large , so training would take too much time\n",
    "    # of course to little data is not good and leads to overfitting\n",
    "\n",
    "    Xtrain = X[:-1000]\n",
    "    Ytrain = Y[:-1000]\n",
    "    Xtest  = X[-1000:]\n",
    "    Ytest  = Y[-1000:]\n",
    "\n",
    "    \n",
    "    if normalise:\n",
    "        mu = Xtrain.mean(axis=0)\n",
    "        std = Xtrain.std(axis=0)\n",
    "        np.place(std,std==0,1)\n",
    "        Xtrain = (Xtrain-mu)/std\n",
    "        Xtest = (Xtest-mu)/std\n",
    "        return Xtrain,Xtest,Ytrain,Ytest\n",
    "    \n",
    "    return Xtrain,Xtest,Ytrain,Ytest"
   ]
  },
  {
   "cell_type": "code",
   "execution_count": 4,
   "metadata": {},
   "outputs": [],
   "source": [
    "Xtrain,Xtest,Ytrain,Ytest = get_mnist(normalise=True)"
   ]
  },
  {
   "cell_type": "code",
   "execution_count": 5,
   "metadata": {},
   "outputs": [],
   "source": [
    "_,D = Xtrain.shape\n",
    "K = len(set(Ytrain))"
   ]
  },
  {
   "cell_type": "code",
   "execution_count": 6,
   "metadata": {},
   "outputs": [],
   "source": [
    "# model is sequence of layers\n",
    "# very similar to keras\n",
    "\n",
    "model = torch.nn.Sequential()\n",
    "\n",
    "model.add_module(\"dense1\",Linear(D,500))\n",
    "model.add_module(\"relu1\",ReLU())\n",
    "model.add_module(\"dense2\",Linear(500,300))\n",
    "model.add_module(\"relu2\",ReLU())\n",
    "model.add_module(\"dense3\",Linear(300,K))"
   ]
  },
  {
   "cell_type": "code",
   "execution_count": 7,
   "metadata": {},
   "outputs": [],
   "source": [
    "# reduction='mean : divide sum by number of elements to get average loss\n",
    "# loss invariant to batch size\n",
    "loss = CrossEntropyLoss(reduction='mean') \n",
    "optimiser = optim.Adam(model.parameters())"
   ]
  },
  {
   "cell_type": "code",
   "execution_count": 8,
   "metadata": {},
   "outputs": [],
   "source": [
    "# now for gradient descent\n",
    "# more work when compared to keras or tensorflow\n",
    "# so lets take it step by step\n",
    "\n",
    "# this function performs only one step of gradient descnet\n",
    "\n",
    "def train(model,loss,optimiser,inputs,labels):\n",
    "    # turn inputs and labels into torch variables objects\n",
    "    # requires_grad = False since we dont want to differentiate wrt these variables\n",
    "    # code still works if we skip this step , but helps things be more effecient\n",
    "    inputs = Variable(inputs,requires_grad=False)\n",
    "    labels = Variable(labels,requires_grad=False)\n",
    "    \n",
    "    # pytorch automatically accumulates gradients\n",
    "    # the gradient for a weight matrix is set to its current gradient + previous value\n",
    "    # helpful for some applications like RNNs\n",
    "    # but for most of the time we want to zero the gradient out\n",
    "    optimiser.zero_grad()\n",
    "    \n",
    "    # forward\n",
    "    logits = model.forward(inputs)\n",
    "    output = loss.forward(logits,labels)\n",
    "    \n",
    "    # backpropagation\n",
    "    output.backward()\n",
    "    \n",
    "    # update parameters\n",
    "    optimiser.step()\n",
    "     \n",
    "    # return actual number that represents the loss , and acc\n",
    "    return output.item(),np.mean(logits.data.numpy().argmax(axis=1) == labels.numpy())"
   ]
  },
  {
   "cell_type": "code",
   "execution_count": 9,
   "metadata": {},
   "outputs": [],
   "source": [
    "# this actually return logits nore predictions\n",
    "# for predictuins return logits.data.numpy().argmax(axis=1)\n",
    "# we need logits to calculate loss\n",
    "def predict(model,inputs): \n",
    "    inputs = Variable(inputs,requires_grad=False)\n",
    "    logits = model.forward(inputs)\n",
    "    return logits"
   ]
  },
  {
   "cell_type": "code",
   "execution_count": 22,
   "metadata": {},
   "outputs": [],
   "source": [
    "# convert data into torch tensors\n",
    "Xtrain = torch.from_numpy(Xtrain).float()\n",
    "Ytrain = torch.from_numpy(Ytrain).long()\n",
    "Xtest = torch.from_numpy(Xtest).float()\n",
    "Ytest = torch.from_numpy(Ytest).long()"
   ]
  },
  {
   "cell_type": "code",
   "execution_count": 11,
   "metadata": {},
   "outputs": [
    {
     "name": "stdout",
     "output_type": "stream",
     "text": [
      "Epoch:  1  train cost:  0.24378571639260588  train acc:  0.9295228337236534  test cost:  0.17088791728019714  test acc:  0.957\n",
      "Epoch:  2  train cost:  0.1124391407997745  train acc:  0.9668471896955504  test cost:  0.13005317747592926  test acc:  0.969\n",
      "Epoch:  3  train cost:  0.0760962756396337  train acc:  0.9762392661982826  test cost:  0.10730502009391785  test acc:  0.97\n",
      "Epoch:  4  train cost:  0.06129987421966396  train acc:  0.9808255269320844  test cost:  0.12534889578819275  test acc:  0.965\n",
      "Epoch:  5  train cost:  0.05565101270441274  train acc:  0.9837529274004684  test cost:  0.1756577044725418  test acc:  0.974\n",
      "Epoch:  6  train cost:  0.04150642508980365  train acc:  0.9877537080405933  test cost:  0.1574295312166214  test acc:  0.971\n",
      "Epoch:  7  train cost:  0.04260608674239365  train acc:  0.9879976580796253  test cost:  0.1622752547264099  test acc:  0.971\n",
      "Epoch:  8  train cost:  0.04341315689797288  train acc:  0.9884367681498829  test cost:  0.1408192217350006  test acc:  0.975\n",
      "Epoch:  9  train cost:  0.042228158036487225  train acc:  0.9896321233411397  test cost:  0.2054569125175476  test acc:  0.975\n",
      "Epoch:  10  train cost:  0.05175728208890303  train acc:  0.9900956284153005  test cost:  0.16365180909633636  test acc:  0.972\n",
      "Epoch:  11  train cost:  0.02947458008238277  train acc:  0.9924375487900078  test cost:  0.2419775426387787  test acc:  0.97\n",
      "Epoch:  12  train cost:  0.038400269673240395  train acc:  0.9913641686182669  test cost:  0.3523161709308624  test acc:  0.963\n",
      "Epoch:  13  train cost:  0.0330402337503185  train acc:  0.9925351288056206  test cost:  0.23129893839359283  test acc:  0.975\n",
      "Epoch:  14  train cost:  0.03852080644910863  train acc:  0.9926327088212334  test cost:  0.33326154947280884  test acc:  0.971\n",
      "Epoch:  15  train cost:  0.03416242136336743  train acc:  0.9935597189695551  test cost:  0.281198114156723  test acc:  0.974\n"
     ]
    }
   ],
   "source": [
    "epochs = 15\n",
    "batch_size = 32\n",
    "n_batches = Xtrain.size()[0] // batch_size\n",
    "\n",
    "train_costs = []\n",
    "test_costs = []\n",
    "\n",
    "train_accuracies = []\n",
    "test_accuracies = []\n",
    "\n",
    "for i in range(epochs):\n",
    "    cost = 0.\n",
    "    acc = 0.\n",
    "    for j in range(n_batches):\n",
    "        Xbatch = Xtrain[j*batch_size:(j+1)*batch_size]\n",
    "        Ybatch = Ytrain[j*batch_size:(j+1)*batch_size]\n",
    "        # get cost and accuracy of each batch\n",
    "        c,a = train(model,loss,optimiser,Xbatch,Ybatch)\n",
    "        cost += c\n",
    "        acc += a\n",
    "    # get average cost & acc\n",
    "    train_cost = (cost/n_batches)\n",
    "    train_acc = (acc/n_batches)\n",
    "    \n",
    "    # now lets get test metrics\n",
    "    test_logits = predict(model,Xtest)\n",
    "    Ypred = test_logits.data.numpy().argmax(axis=1)\n",
    "    test_cost = loss.forward(test_logits,Variable(Ytest,requires_grad=False)).item()\n",
    "    test_acc = np.mean(Ytest.numpy() == Ypred)\n",
    "    \n",
    "    print(\"Epoch: \",str(i+1) , ' train cost: ',train_cost , ' train acc: ', train_acc, ' test cost: ',test_cost , ' test acc: ', test_acc)\n",
    "    \n",
    "    train_costs.append(train_cost)\n",
    "    train_accuracies.append(train_acc)\n",
    "    \n",
    "    test_costs.append(test_cost)\n",
    "    test_accuracies.append(test_acc)\n",
    "    "
   ]
  },
  {
   "cell_type": "code",
   "execution_count": 12,
   "metadata": {},
   "outputs": [
    {
     "data": {
      "image/png": "[encoded data removed]",
      "text/plain": [
       "<Figure size 432x288 with 1 Axes>"
      ]
     },
     "metadata": {
      "needs_background": "light"
     },
     "output_type": "display_data"
    }
   ],
   "source": [
    "# plot costs\n",
    "plt.plot(train_costs,label='train costs')\n",
    "plt.plot(test_costs,label='test costs')\n",
    "plt.legend()\n",
    "plt.show()"
   ]
  },
  {
   "cell_type": "code",
   "execution_count": 13,
   "metadata": {},
   "outputs": [
    {
     "data": {
      "image/png": "[encoded data removed]",
      "text/plain": [
       "<Figure size 432x288 with 1 Axes>"
      ]
     },
     "metadata": {
      "needs_background": "light"
     },
     "output_type": "display_data"
    }
   ],
   "source": [
    "# plot accuracies\n",
    "plt.plot(train_accuracies,label='train accuracies')\n",
    "plt.plot(test_accuracies,label='test accuracies')\n",
    "plt.legend()\n",
    "plt.show()"
   ]
  },
  {
   "cell_type": "code",
   "execution_count": 29,
   "metadata": {},
   "outputs": [],
   "source": [
    "# next lets try dropout"
   ]
  },
  {
   "cell_type": "code",
   "execution_count": 30,
   "metadata": {},
   "outputs": [],
   "source": [
    "# first lets add dropout layers\n",
    "model2 = torch.nn.Sequential()\n",
    "\n",
    "model2.add_module(\"dropout1\",Dropout(p=0.2)) # this is pdrop not pkeep\n",
    "model2.add_module(\"dense1\",Linear(D,500))\n",
    "model2.add_module(\"relu1\",ReLU())\n",
    "model2.add_module(\"dropout2\",Dropout(p=0.5))\n",
    "model2.add_module(\"dense2\",Linear(500,300))\n",
    "model2.add_module(\"relu2\",ReLU())\n",
    "model2.add_module(\"dropout3\",Dropout(p=0.5))\n",
    "model2.add_module(\"dense3\",Linear(300,K))\n",
    "\n",
    "loss = CrossEntropyLoss(reduction='mean') \n",
    "optimiser = optim.Adam(model2.parameters())"
   ]
  },
  {
   "cell_type": "code",
   "execution_count": 31,
   "metadata": {},
   "outputs": [],
   "source": [
    "# next is training function we need a little change\n",
    "def train(model,loss,optimiser,inputs,labels):\n",
    "    # dropout has 2 modes train and test , so we need to set model to train mode\n",
    "    model.train()\n",
    "    # same as before\n",
    "    inputs = Variable(inputs,requires_grad=False)\n",
    "    labels = Variable(labels,requires_grad=False)\n",
    "    optimiser.zero_grad()\n",
    "    logits = model.forward(inputs)\n",
    "    output = loss.forward(logits,labels)\n",
    "    output.backward()\n",
    "    optimiser.step()    \n",
    "    return output.item(),np.mean(logits.data.numpy().argmax(axis=1) == labels.numpy())"
   ]
  },
  {
   "cell_type": "code",
   "execution_count": 32,
   "metadata": {},
   "outputs": [],
   "source": [
    "# again we need to set test mode for predict function\n",
    "def predict(model,inputs):\n",
    "    model.eval()\n",
    "    inputs = Variable(inputs,requires_grad=False)\n",
    "    logits = model.forward(inputs)\n",
    "    return logits"
   ]
  },
  {
   "cell_type": "code",
   "execution_count": 33,
   "metadata": {},
   "outputs": [
    {
     "name": "stdout",
     "output_type": "stream",
     "text": [
      "Epoch:  1  train cost:  0.4017067249052977  train acc:  0.8812695160031225  test cost:  0.20289385318756104  test acc:  0.94\n",
      "Epoch:  2  train cost:  0.2732284355873735  train acc:  0.9189110070257611  test cost:  0.14242854714393616  test acc:  0.957\n",
      "Epoch:  3  train cost:  0.2415576436459454  train acc:  0.9294008587041374  test cost:  0.13472576439380646  test acc:  0.967\n",
      "Epoch:  4  train cost:  0.22964212915948815  train acc:  0.9328405542544886  test cost:  0.11204999685287476  test acc:  0.967\n",
      "Epoch:  5  train cost:  0.2251532385992737  train acc:  0.9358167447306791  test cost:  0.10779350996017456  test acc:  0.967\n",
      "Epoch:  6  train cost:  0.21690197014537038  train acc:  0.9376951600312255  test cost:  0.10164733976125717  test acc:  0.972\n",
      "Epoch:  7  train cost:  0.2058219199705357  train acc:  0.9421106557377049  test cost:  0.09596263617277145  test acc:  0.972\n",
      "Epoch:  8  train cost:  0.21068515706468216  train acc:  0.9406469555035128  test cost:  0.11103922128677368  test acc:  0.966\n",
      "Epoch:  9  train cost:  0.2087880564431146  train acc:  0.9406469555035128  test cost:  0.1081080511212349  test acc:  0.968\n",
      "Epoch:  10  train cost:  0.2033544418295325  train acc:  0.9436475409836066  test cost:  0.1027090772986412  test acc:  0.978\n",
      "Epoch:  11  train cost:  0.19497841127952203  train acc:  0.9451112412177985  test cost:  0.1128564104437828  test acc:  0.968\n",
      "Epoch:  12  train cost:  0.19572493958248408  train acc:  0.9457211163153786  test cost:  0.10635311901569366  test acc:  0.973\n",
      "Epoch:  13  train cost:  0.20425079218564507  train acc:  0.9447209211553473  test cost:  0.11735115945339203  test acc:  0.973\n",
      "Epoch:  14  train cost:  0.19421868021549057  train acc:  0.9463553864168618  test cost:  0.1181282252073288  test acc:  0.968\n",
      "Epoch:  15  train cost:  0.19095712191039302  train acc:  0.9485509367681498  test cost:  0.10265201330184937  test acc:  0.973\n"
     ]
    }
   ],
   "source": [
    "epochs = 15\n",
    "batch_size = 32\n",
    "n_batches = Xtrain.size()[0] // batch_size\n",
    "\n",
    "train_costs = []\n",
    "test_costs = []\n",
    "\n",
    "train_accuracies = []\n",
    "test_accuracies = []\n",
    "\n",
    "for i in range(epochs):\n",
    "    cost = 0.\n",
    "    acc = 0.\n",
    "    for j in range(n_batches):\n",
    "        Xbatch = Xtrain[j*batch_size:(j+1)*batch_size]\n",
    "        Ybatch = Ytrain[j*batch_size:(j+1)*batch_size]\n",
    "        # get cost and accuracy of each batch\n",
    "        c,a = train(model2,loss,optimiser,Xbatch,Ybatch)\n",
    "        cost += c\n",
    "        acc += a\n",
    "    # get average cost & acc\n",
    "    train_cost = (cost/n_batches)\n",
    "    train_acc = (acc/n_batches)\n",
    "    \n",
    "    # now lets get test metrics\n",
    "    test_logits = predict(model2,Xtest)\n",
    "    Ypred = test_logits.data.numpy().argmax(axis=1)\n",
    "    test_cost = loss.forward(test_logits,Variable(Ytest,requires_grad=False)).item()\n",
    "    test_acc = np.mean(Ytest.numpy() == Ypred)\n",
    "    \n",
    "    print(\"Epoch: \",str(i+1) , ' train cost: ',train_cost , ' train acc: ', train_acc, ' test cost: ',test_cost , ' test acc: ', test_acc)\n",
    "    \n",
    "    train_costs.append(train_cost)\n",
    "    train_accuracies.append(train_acc)\n",
    "    \n",
    "    test_costs.append(test_cost)\n",
    "    test_accuracies.append(test_acc)\n",
    "    "
   ]
  },
  {
   "cell_type": "code",
   "execution_count": 36,
   "metadata": {},
   "outputs": [],
   "source": [
    "# next is batchnorm same as dropout has two modes , train and test\n",
    "# so same code just with batch norm layers"
   ]
  },
  {
   "cell_type": "code",
   "execution_count": 38,
   "metadata": {},
   "outputs": [],
   "source": [
    "# first lets add dropout layers\n",
    "model3 = torch.nn.Sequential()\n",
    "\n",
    "model3.add_module(\"dense1\",Linear(D,500))\n",
    "model3.add_module(\"batchnorm1\",BatchNorm1d(500)) \n",
    "model3.add_module(\"relu1\",ReLU())\n",
    "model3.add_module(\"dense2\",Linear(500,300))\n",
    "model3.add_module(\"batchnorm2\",BatchNorm1d(300)) \n",
    "model3.add_module(\"relu2\",ReLU())\n",
    "model3.add_module(\"dense3\",Linear(300,K))\n",
    "\n",
    "loss = CrossEntropyLoss(reduction='mean') \n",
    "optimiser = optim.Adam(model3.parameters())"
   ]
  },
  {
   "cell_type": "code",
   "execution_count": 39,
   "metadata": {},
   "outputs": [
    {
     "name": "stdout",
     "output_type": "stream",
     "text": [
      "Epoch:  1  train cost:  0.2499821621249957  train acc:  0.9241071428571429  test cost:  0.11853677034378052  test acc:  0.96\n",
      "Epoch:  2  train cost:  0.10379634047843876  train acc:  0.968993950039032  test cost:  0.10955554991960526  test acc:  0.971\n",
      "Epoch:  3  train cost:  0.05884095410064625  train acc:  0.9818745120999219  test cost:  0.10812043398618698  test acc:  0.967\n",
      "Epoch:  4  train cost:  0.03990348188164204  train acc:  0.9877293130366901  test cost:  0.08718066662549973  test acc:  0.974\n",
      "Epoch:  5  train cost:  0.028707165791402544  train acc:  0.9908274785323966  test cost:  0.08488322794437408  test acc:  0.981\n",
      "Epoch:  6  train cost:  0.023767443012432443  train acc:  0.9919984387197502  test cost:  0.10159896314144135  test acc:  0.972\n",
      "Epoch:  7  train cost:  0.01924800866950871  train acc:  0.9935841139734582  test cost:  0.0740746557712555  test acc:  0.978\n",
      "Epoch:  8  train cost:  0.014308480958425492  train acc:  0.9955601092896175  test cost:  0.10718050599098206  test acc:  0.973\n",
      "Epoch:  9  train cost:  0.012110706073103505  train acc:  0.9962919594067136  test cost:  0.10627942532300949  test acc:  0.975\n",
      "Epoch:  10  train cost:  0.014322759263686705  train acc:  0.9955845042935206  test cost:  0.11412803828716278  test acc:  0.972\n",
      "Epoch:  11  train cost:  0.011741936057959756  train acc:  0.9962431693989071  test cost:  0.09728578478097916  test acc:  0.971\n",
      "Epoch:  12  train cost:  0.010163404985672888  train acc:  0.9964383294301327  test cost:  0.12632252275943756  test acc:  0.97\n",
      "Epoch:  13  train cost:  0.009646845949568454  train acc:  0.9971945745511319  test cost:  0.13363619148731232  test acc:  0.972\n",
      "Epoch:  14  train cost:  0.010826248557230848  train acc:  0.9963163544106167  test cost:  0.10891713201999664  test acc:  0.98\n",
      "Epoch:  15  train cost:  0.007439996461774652  train acc:  0.9977800546448088  test cost:  0.0876523032784462  test acc:  0.977\n"
     ]
    }
   ],
   "source": [
    "epochs = 15\n",
    "batch_size = 32\n",
    "n_batches = Xtrain.size()[0] // batch_size\n",
    "\n",
    "train_costs = []\n",
    "test_costs = []\n",
    "\n",
    "train_accuracies = []\n",
    "test_accuracies = []\n",
    "\n",
    "for i in range(epochs):\n",
    "    cost = 0.\n",
    "    acc = 0.\n",
    "    for j in range(n_batches):\n",
    "        Xbatch = Xtrain[j*batch_size:(j+1)*batch_size]\n",
    "        Ybatch = Ytrain[j*batch_size:(j+1)*batch_size]\n",
    "        # get cost and accuracy of each batch\n",
    "        c,a = train(model3,loss,optimiser,Xbatch,Ybatch)\n",
    "        cost += c\n",
    "        acc += a\n",
    "    # get average cost & acc\n",
    "    train_cost = (cost/n_batches)\n",
    "    train_acc = (acc/n_batches)\n",
    "    \n",
    "    # now lets get test metrics\n",
    "    test_logits = predict(model3,Xtest)\n",
    "    Ypred = test_logits.data.numpy().argmax(axis=1)\n",
    "    test_cost = loss.forward(test_logits,Variable(Ytest,requires_grad=False)).item()\n",
    "    test_acc = np.mean(Ytest.numpy() == Ypred)\n",
    "    \n",
    "    print(\"Epoch: \",str(i+1) , ' train cost: ',train_cost , ' train acc: ', train_acc, ' test cost: ',test_cost , ' test acc: ', test_acc)\n",
    "    \n",
    "    train_costs.append(train_cost)\n",
    "    train_accuracies.append(train_acc)\n",
    "    \n",
    "    test_costs.append(test_cost)\n",
    "    test_accuracies.append(test_acc)\n",
    "    "
   ]
  }
 ],
 "metadata": {
  "kernelspec": {
   "display_name": "Python 3",
   "language": "python",
   "name": "python3"
  },
  "language_info": {
   "codemirror_mode": {
    "name": "ipython",
    "version": 3
   },
   "file_extension": ".py",
   "mimetype": "text/x-python",
   "name": "python",
   "nbconvert_exporter": "python",
   "pygments_lexer": "ipython3",
   "version": "3.8.2"
  }
 },
 "nbformat": 4,
 "nbformat_minor": 4
}
