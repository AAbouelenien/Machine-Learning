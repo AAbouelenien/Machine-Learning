{
 "cells": [
  {
   "cell_type": "markdown",
   "metadata": {},
   "source": [
    "<h1>Math</h1>"
   ]
  },
  {
   "cell_type": "markdown",
   "metadata": {},
   "source": [
    "Now we will discuss an important practical problem in ML , hyperparameters and how to choose them\n",
    "\n",
    "one method is called cross-validation\n",
    "\n",
    "for ex : in KNN how to choose K ?\n",
    "\n",
    "Descision tree : max depth ?\n",
    "\n",
    "Bayes classifier : likelihood distribution ?\n",
    "\n",
    "Perceptron : learning rate ?\n",
    "\n",
    "all the above are hyperpatameters which can be discrete or contineous\n",
    "\n",
    "sometimes we can use knowledge of algorithm to guide us\n",
    "\n",
    "for ex: we know that for KNN , K=1 gives a fine grained decision boundary which can can lead to severe overfitting , as we increase K we get a smoother boundary , but too large K could lead to underfitting , it also increases time for prediciton\n",
    "\n",
    "another ex : in decision trees if we dont limit the max_depth we can get 100% training accuracy  , but we wont generalise well , but to short wont get pattern well too\n",
    "\n",
    "one popular method for choosing hyperparameters is K-fold cross-validation\n",
    "\n",
    "split data into K parts (typical values for K = 5,8,10)\n",
    "\n",
    "Loop K times\n",
    "\n",
    "each iteration , take 1 part (use it for validation) , and the rest for training\n",
    "\n",
    "for ex K = 3:\n",
    "\n",
    "<table>\n",
    "    <tr>\n",
    "        <td>Iteration 1</td>\n",
    "        <td style=\"color: orange;\">VALIDATION</td>\n",
    "        <td>TRAIN</td>\n",
    "        <td>TRAIN</td>\n",
    "    </tr>\n",
    "    <tr>\n",
    "        <td>Iteration 2</td>\n",
    "        <td>TRAIN</td>\n",
    "        <td style=\"color: orange;\">VALIDATION</td>\n",
    "        <td>TRAIN</td>\n",
    "    </tr>\n",
    "    <tr>\n",
    "        <td>Iteration 2</td>\n",
    "        <td>TRAIN</td>\n",
    "        <td>TRAIN</td>\n",
    "        <td style=\"color: orange;\">VALIDATION</td>\n",
    "    </tr>\n",
    "    \n",
    "</table>\n",
    "\n",
    "Here is some psuedocode :\n",
    "```python\n",
    "scores = []\n",
    "sz = N/K\n",
    "for i in range(K):\n",
    "    X_valid,Y_valid = X[i*sz:(i+1)*sz] , Y[i*sz:(i+1)*sz]\n",
    "    X_train,Y_train = concat(X[0:i*siz], X[(i+1)*sz:N]) , concat(Y[0:i*siz] , Y[(i+1)*sz:N])\n",
    "    model.fit(X_train,Y_train)\n",
    "    scores.append(model.score(X_valid,Y_valid))\n",
    "return scores\n",
    "\n",
    "```\n",
    "\n",
    "as we can see our algorithm return K different scores (accuracies) , we can simply use the mean as a measure to compare how goor this hyperparameter setting was\n",
    "\n",
    "we can also use statistical testing to check if one htperparameter setting is \"statistically significantly \" better than another\n",
    "\n",
    "Sci-kit Learn has its own implementationof K-fold cross calidation \n",
    "\n",
    "```python\n",
    "from sklearn import cross_validation\n",
    "scores = cross_validation.cross_val_score(model,X,Y,cv=K)\n",
    "\n",
    "```"
   ]
  },
  {
   "cell_type": "markdown",
   "metadata": {},
   "source": [
    "<h1>Math</h1>"
   ]
  },
  {
   "cell_type": "markdown",
   "metadata": {},
   "source": [
    "now we want to discuss one more important topic in machine learning feature extraction and feature selection\n",
    "\n",
    "first lets talk about feature extraction , consider the donut problem , can we solve it using the perceptron ?\n",
    "\n",
    "clearly no since the decision boundary is a circle , BUT if we add the feature $r = \\sqrt{(x_1^2 + x_2^2)}$ , (r is the radius) , we can solve the problem using this feature alone\n",
    "\n",
    "a lot of the time this requires domain knowledge which would provide intimate knowledge od fata\n",
    "\n",
    "know lets say we are some domain expert that extracted some features , how to choose the most powerful and discriminatory features ?\n",
    "\n",
    "now we talk about feature selection\n",
    "\n",
    "The method we will discuss is adding features greedly\n",
    "\n",
    "first we build a classifier for each individual feature , then pick the best one using cross-validation , this would be the most powerful feature\n",
    "\n",
    "then we build another set of classifiers , all which use the first feature + one other feature , then pick the best one using corss-validation\n",
    "\n",
    "Repeat\n",
    "\n",
    "Another feature extraction/selection method is PCA (principal component Analysis) , which is an automatic method for dimensionality reduction that does not require domain knowledge \n",
    "\n",
    "All outputs are uncolerated so no redundancy\n",
    "\n",
    "outputs are sorted by information contained (measured by variance)\n",
    "\n",
    "so we can choose a subset of features such that to retain 95% or 99% (or any other threshold) of the original variance and discard the rest (and that would be feature selection)\n",
    "\n",
    "problem : its only a linear transformation"
   ]
  },
  {
   "cell_type": "markdown",
   "metadata": {},
   "source": [
    "<h1>Math</h1>"
   ]
  },
  {
   "cell_type": "markdown",
   "metadata": {},
   "source": [
    "we want to discuss the advantages and disadvantages of the ML models we talked about in comparison to deep learning\n",
    "\n",
    "$training \\ and \\  prediction \\ time :$\n",
    "\n",
    "KNN : training is fast , predicition is slow\n",
    "\n",
    "Decision Tree : training is slow , prediction is fast\n",
    "\n",
    "Deep learning : training can take multiple days or weeks , but scales well to data size (no need to load all data to RAM simultaneously) , prediction is fast , but not as fast as a linear model\n",
    "\n",
    "so we need to consider training and predicition times depending on our use\n",
    "\n",
    "$Decision \\ boundary :$ \n",
    "\n",
    "Linear/quadratic modles have linear/quadratic decision boundary\n",
    "\n",
    "Decision tree boundaries are orthogonal to axes\n",
    "\n",
    "Deep learning can find highly complex/nonlinear decision boundaries , in theory they can approximate any function\n",
    "\n",
    "an advantage of deep learning is that it finds these boundaries automatically . no need to manually extract features , as an ex , a neural network can solve the donut problem\n",
    "\n",
    "even steps like PCA/dimensionality reduction are done automatically by neural network , in a nonlinear manner (but still extremely helpful to provide NN with manual features should we know them)\n",
    "\n",
    "$Interpretability :$\n",
    "\n",
    "people like models that are explainable\n",
    "\n",
    "Linear models : each input is associated with a weight (magnitude + sign)\n",
    "\n",
    "Decision tree : each node is a decision based on a real attribute\n",
    "\n",
    "unless we need to squeeze out a half percentage of improvememnt in accuracy , it is preferable to use a simpler model\n",
    "\n",
    "ANN (artificial neural netwokrs) are difficult to interpret , there is no physical meaning to a nonlinear function of input variables\n",
    "\n",
    "$Hyperparameters$\n",
    "\n",
    "ANN have many hyperparameters and need may need lots of tuning\n",
    "\n",
    "until we find the right hyperparameters , simpler models can work better AND faster ('out of the box)\n",
    "\n",
    "Dont need to spend days/weeks tuning th ANN (learning_rate , num of epochs , hidden layers ,etc.)\n",
    "\n",
    "$conclusion$\n",
    "\n",
    "if we want something simple,fast and interpretable : probably not deep learning\n",
    "\n",
    "acheive state of the art results , lots of time to tune hyperparameters : try deep learning"
   ]
  },
  {
   "cell_type": "markdown",
   "metadata": {},
   "source": [
    "<h1>Math</h1>"
   ]
  },
  {
   "cell_type": "markdown",
   "metadata": {},
   "source": [
    "lets discuss Multiclass classification\n",
    "\n",
    "in binary classification we have only 2 possible outcomes \n",
    "\n",
    "in multiclass classification we may have more than 2 classes to choose from\n",
    "\n",
    "some algorithms naturally support multiple class without any modification : KNN\n",
    "\n",
    "fot models that support only binary classification , there are other schemes available\n",
    "\n",
    "$One \\ vs \\ the \\ Rest$\n",
    "\n",
    "\n",
    "for K classes , write K different 1 vs all other classes classifiers , let all classifiers make prediciton then pick one with highest score\n",
    "\n",
    "problems:\n",
    "\n",
    "the model may be slow , and now we need k different models , much slower\n",
    "\n",
    "not all models return a score , some models just return a class , in this case we would need to vote but then we may get a tie\n",
    "\n",
    "creates class imbalances in training data\n",
    "\n",
    "$One \\  vs \\  One$\n",
    "\n",
    "one class vs another class at a time (no imbalance)\n",
    "\n",
    "problems : \n",
    "\n",
    "requires $\\frac {K(K-1)}{1}$ classifiers ! $O(K^2)$ , so wont scale if we have 1 million classes , ex: vocabulary\n",
    "\n",
    "can still end up with a tie"
   ]
  },
  {
   "cell_type": "markdown",
   "metadata": {},
   "source": [
    "<h1>Math</h1>"
   ]
  },
  {
   "cell_type": "markdown",
   "metadata": {},
   "source": [
    "we want to talk about a popular ML library for python Sci-kit Learn\n",
    "\n",
    "Sci-kit Learn has lots of models , all following the same API we used in the few previous models , so we expext all models to have fit(X,Y) , predict(X) , score(X,Y)\n",
    "\n",
    "one big advantage of logistic regression / Bayes / neural networks is that we get p(C|X)\n",
    "\n",
    "for ex: we are more confident in p(C|X) = 0.99 than p(C|X) = 0.55 , though both give the same class\n",
    "\n",
    "with sklearn , even decision trees and KNN get a probabilisitc output , if available we can get it using:\n",
    "\n",
    "```python\n",
    "model.predict_proba(X)\n",
    "```\n",
    "so sometimes we need p(C|X) rather than rounded predicition , for ex: kaggle constest in which submission is mmeasured by cross_entropy loss\n",
    "\n",
    "Another example of where this might be useful is AUC (Are Under Curve ) , the curve is the ROC curve (receiver operating characterisitc) !!??\n",
    "\n",
    "ROC is a plot with TPR (True positive rate) on y-axis , and FPR (False positive rate) on x-axis\n",
    "\n",
    "$$TPR = \\frac {TP}{TP+FN}$$\n",
    "$$FPR = \\frac {RP}{FP+TN}$$\n",
    "\n",
    "random guessing - gives a diagonal line and an AUC = 0.5\n",
    "\n",
    "perfect (0,0) $\\to$ (0,100) $\\to$ (100,100) , covers all graph , area = 1\n",
    "\n",
    "real problem , area betweeen 0.5 and 1\n",
    "\n"
   ]
  },
  {
   "cell_type": "code",
   "execution_count": 63,
   "metadata": {},
   "outputs": [
    {
     "data": {
      "image/png": "[encoded data removed]",
      "text/plain": [
       "<Figure size 432x288 with 1 Axes>"
      ]
     },
     "metadata": {
      "needs_background": "light"
     },
     "output_type": "display_data"
    }
   ],
   "source": [
    "import matplotlib.pyplot as plt \n",
    "import numpy as np\n",
    "points = np.linspace(0,100,50)\n",
    "plt.plot(points,points,'.',label = 'random guess - AUC = 0.5')\n",
    "plt.xlabel('False Positive rate (100-specificity)')\n",
    "plt.ylabel('True Positive rate (Sensitivity)')\n",
    "plt.plot([0]*50,points ,'.' , label = 'Perfect - AUC = 1' ,  c='orange')\n",
    "plt.plot(points,[100]*50 , '.', c = 'orange')\n",
    "plt.legend()\n",
    "plt.show()"
   ]
  },
  {
   "cell_type": "markdown",
   "metadata": {},
   "source": [
    "but how do we create ROC curve ? \n",
    "\n",
    "Typically we chosoe 0.5 as a thresold so , if p(C|X) > 0.5 predict 1 , if p(C|X) < 0.5 , choose 0\n",
    "\n",
    "But we can choose different thresholds too (ex:0.3)\n",
    "\n",
    "ROC curve is plot of TPR and FPR for different setting of threshold from 0...1\n",
    "\n",
    "as a reminder , there is only one threshold since we ise binary classification\n",
    "\n",
    "but why would we want to use different thresholds ?\n",
    "\n",
    "in some instances we can tolerate falso positive and we want to predict the positive class more often\n",
    "\n",
    "for ex: medical diagnosis : we can tolerate false positive , but we dont want to risk getting a false negative and not treating someone who could be at risk of being sick , so in this case we might lower the threshold and predict the positive class more often even if we are wrong\n",
    "\n",
    "\n",
    "Another example of when we woudl want to use AUC is imbalanced classes\n",
    "\n",
    "if we have 10 samples from class 0 , 990 samples from class 1 , and we always predict class 1 , so we actually learnt nothing , we would get an accuracy of 99% , AUC will produce a more useful number\n",
    "\n",
    "Sci-Kit learn :\n",
    "\n",
    "```python\n",
    "sklearn.metric.roc_auc_score(y_true,y_score)\n",
    "# y_true : true labels\n",
    "# y_score : output probabilitites\n",
    "```\n",
    "\n",
    "Sci-kit learn also has regression versions of many classifiers/models ! \n",
    "\n",
    "\n",
    "Model still have same functional API , fit() , predict() , score() , score() returns $R^2$\n",
    "\n",
    "finally Sci-kit learn allows us to save and load models through pickle library , here is a code example\n",
    "\n",
    "```python\n",
    "import pickle\n",
    "\n",
    "model = DecisionTreeClassifier()\n",
    "model.fit(X,Y)\n",
    "\n",
    "# save model\n",
    "with open('mymodel.pkl','wb') as f:\n",
    "    pickle.dump(model,f)\n",
    "    \n",
    "# load model\n",
    "with open('mymodel.pkl',) as f:\n",
    "    model . pickle.load(f) # already trained !!!\n",
    "```\n",
    "\n",
    "\n",
    "\n",
    "\n",
    "\n",
    "\n",
    "\n"
   ]
  },
  {
   "cell_type": "markdown",
   "metadata": {},
   "source": [
    "<h1>code</h1>"
   ]
  },
  {
   "cell_type": "code",
   "execution_count": 66,
   "metadata": {},
   "outputs": [],
   "source": [
    "# lets take an example of how to do regression using scikit learn\n",
    "# once we see how , it would be easy to deploy any other model\n",
    "import numpy as np\n",
    "import matplotlib.pyplot as plt\n",
    "from sklearn.neighbors import KNeighborsRegressor \n",
    "from sklearn.tree import DecisionTreeRegressor"
   ]
  },
  {
   "cell_type": "code",
   "execution_count": 67,
   "metadata": {},
   "outputs": [],
   "source": [
    "N = 200\n",
    "X = np.linspace(0,10,N).reshape(N,1)\n",
    "Y = np.sin(X)\n",
    "\n",
    "Ntrain = 20\n",
    "idx = np.random.choice(N,Ntrain)\n",
    "Xtrain = X[idx]\n",
    "Ytrain = Y[idx]"
   ]
  },
  {
   "cell_type": "code",
   "execution_count": 69,
   "metadata": {},
   "outputs": [],
   "source": [
    "knn = KNeighborsRegressor(n_neighbors = 2)\n",
    "knn.fit(Xtrain,Ytrain)\n",
    "Yknn = knn.predict(X)"
   ]
  },
  {
   "cell_type": "code",
   "execution_count": 70,
   "metadata": {},
   "outputs": [],
   "source": [
    "dt = DecisionTreeRegressor()\n",
    "dt.fit(Xtrain,Ytrain)\n",
    "Ydt = dt.predict(X)"
   ]
  },
  {
   "cell_type": "code",
   "execution_count": 71,
   "metadata": {},
   "outputs": [
    {
     "data": {
      "image/png": "[encoded data removed]",
      "text/plain": [
       "<Figure size 432x288 with 1 Axes>"
      ]
     },
     "metadata": {
      "needs_background": "light"
     },
     "output_type": "display_data"
    }
   ],
   "source": [
    "plt.scatter(Xtrain,Ytrain)\n",
    "plt.plot(X,Y)\n",
    "plt.plot(X,Yknn,label='KNN')\n",
    "plt.plot(X,Ydt,label='Decision Tree')\n",
    "plt.legend()\n",
    "plt.show()"
   ]
  },
  {
   "cell_type": "code",
   "execution_count": 83,
   "metadata": {},
   "outputs": [],
   "source": [
    "# notice how the decision tree passes through all the training points\n",
    "# but misses the general trend of the data , overfitting\n",
    "# perhaps thats because we passed no parameter specifying max depth\n",
    "\n",
    "# in KNN we set n_neighbors = 2\n",
    "# it should be clear that KNN looks for 2 closest points and predicts average \n",
    "# notice how each intersection with the curve is at a midpoint"
   ]
  }
 ],
 "metadata": {
  "kernelspec": {
   "display_name": "Python 3",
   "language": "python",
   "name": "python3"
  },
  "language_info": {
   "codemirror_mode": {
    "name": "ipython",
    "version": 3
   },
   "file_extension": ".py",
   "mimetype": "text/x-python",
   "name": "python",
   "nbconvert_exporter": "python",
   "pygments_lexer": "ipython3",
   "version": "3.8.2"
  }
 },
 "nbformat": 4,
 "nbformat_minor": 4
}
